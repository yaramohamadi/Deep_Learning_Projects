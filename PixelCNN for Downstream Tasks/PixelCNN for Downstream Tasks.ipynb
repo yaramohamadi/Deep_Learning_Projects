{
  "nbformat": 4,
  "nbformat_minor": 0,
  "metadata": {
    "colab": {
      "name": "ADL3_4_2.ipynb",
      "provenance": [],
      "collapsed_sections": [
        "Y_KlLOhhJMHA",
        "GpONyhCjJQ_q",
        "cr02OcbpAgtV",
        "PI42TVfpEVUF",
        "69v7QIPYAkRx",
        "lSQQ-6OuVct7",
        "ZFjkMs94Ize0",
        "Ge2o1uWL0Kqz",
        "qc3Z_qCuBITz"
      ]
    },
    "kernelspec": {
      "name": "python3",
      "display_name": "Python 3"
    },
    "language_info": {
      "name": "python"
    },
    "accelerator": "GPU",
    "widgets": {
      "application/vnd.jupyter.widget-state+json": {
        "f12c86f57a5042d6bdcf98d7b52a00fd": {
          "model_module": "@jupyter-widgets/controls",
          "model_name": "HBoxModel",
          "state": {
            "_view_name": "HBoxView",
            "_dom_classes": [],
            "_model_name": "HBoxModel",
            "_view_module": "@jupyter-widgets/controls",
            "_model_module_version": "1.5.0",
            "_view_count": null,
            "_view_module_version": "1.5.0",
            "box_style": "",
            "layout": "IPY_MODEL_080a0aaf16624b5688a8654a9c495e06",
            "_model_module": "@jupyter-widgets/controls",
            "children": [
              "IPY_MODEL_1c84696c51f44c3fa7e2cec9ab300de1",
              "IPY_MODEL_07a2ea2112834d65950d49204609f574"
            ]
          }
        },
        "080a0aaf16624b5688a8654a9c495e06": {
          "model_module": "@jupyter-widgets/base",
          "model_name": "LayoutModel",
          "state": {
            "_view_name": "LayoutView",
            "grid_template_rows": null,
            "right": null,
            "justify_content": null,
            "_view_module": "@jupyter-widgets/base",
            "overflow": null,
            "_model_module_version": "1.2.0",
            "_view_count": null,
            "flex_flow": null,
            "width": null,
            "min_width": null,
            "border": null,
            "align_items": null,
            "bottom": null,
            "_model_module": "@jupyter-widgets/base",
            "top": null,
            "grid_column": null,
            "overflow_y": null,
            "overflow_x": null,
            "grid_auto_flow": null,
            "grid_area": null,
            "grid_template_columns": null,
            "flex": null,
            "_model_name": "LayoutModel",
            "justify_items": null,
            "grid_row": null,
            "max_height": null,
            "align_content": null,
            "visibility": null,
            "align_self": null,
            "height": null,
            "min_height": null,
            "padding": null,
            "grid_auto_rows": null,
            "grid_gap": null,
            "max_width": null,
            "order": null,
            "_view_module_version": "1.2.0",
            "grid_template_areas": null,
            "object_position": null,
            "object_fit": null,
            "grid_auto_columns": null,
            "margin": null,
            "display": null,
            "left": null
          }
        },
        "1c84696c51f44c3fa7e2cec9ab300de1": {
          "model_module": "@jupyter-widgets/controls",
          "model_name": "FloatProgressModel",
          "state": {
            "_view_name": "ProgressView",
            "style": "IPY_MODEL_b0301cc2d1d44950b6d14d6385b93660",
            "_dom_classes": [],
            "description": "",
            "_model_name": "FloatProgressModel",
            "bar_style": "success",
            "max": 170498071,
            "_view_module": "@jupyter-widgets/controls",
            "_model_module_version": "1.5.0",
            "value": 170498071,
            "_view_count": null,
            "_view_module_version": "1.5.0",
            "orientation": "horizontal",
            "min": 0,
            "description_tooltip": null,
            "_model_module": "@jupyter-widgets/controls",
            "layout": "IPY_MODEL_e0f1c1151f524b74a4adc4627175169c"
          }
        },
        "07a2ea2112834d65950d49204609f574": {
          "model_module": "@jupyter-widgets/controls",
          "model_name": "HTMLModel",
          "state": {
            "_view_name": "HTMLView",
            "style": "IPY_MODEL_5927edaf703a402d9111aa321f4e3d70",
            "_dom_classes": [],
            "description": "",
            "_model_name": "HTMLModel",
            "placeholder": "​",
            "_view_module": "@jupyter-widgets/controls",
            "_model_module_version": "1.5.0",
            "value": " 170499072/? [00:19&lt;00:00, 8857584.59it/s]",
            "_view_count": null,
            "_view_module_version": "1.5.0",
            "description_tooltip": null,
            "_model_module": "@jupyter-widgets/controls",
            "layout": "IPY_MODEL_634a92d194254fee8e24502986f6082b"
          }
        },
        "b0301cc2d1d44950b6d14d6385b93660": {
          "model_module": "@jupyter-widgets/controls",
          "model_name": "ProgressStyleModel",
          "state": {
            "_view_name": "StyleView",
            "_model_name": "ProgressStyleModel",
            "description_width": "initial",
            "_view_module": "@jupyter-widgets/base",
            "_model_module_version": "1.5.0",
            "_view_count": null,
            "_view_module_version": "1.2.0",
            "bar_color": null,
            "_model_module": "@jupyter-widgets/controls"
          }
        },
        "e0f1c1151f524b74a4adc4627175169c": {
          "model_module": "@jupyter-widgets/base",
          "model_name": "LayoutModel",
          "state": {
            "_view_name": "LayoutView",
            "grid_template_rows": null,
            "right": null,
            "justify_content": null,
            "_view_module": "@jupyter-widgets/base",
            "overflow": null,
            "_model_module_version": "1.2.0",
            "_view_count": null,
            "flex_flow": null,
            "width": null,
            "min_width": null,
            "border": null,
            "align_items": null,
            "bottom": null,
            "_model_module": "@jupyter-widgets/base",
            "top": null,
            "grid_column": null,
            "overflow_y": null,
            "overflow_x": null,
            "grid_auto_flow": null,
            "grid_area": null,
            "grid_template_columns": null,
            "flex": null,
            "_model_name": "LayoutModel",
            "justify_items": null,
            "grid_row": null,
            "max_height": null,
            "align_content": null,
            "visibility": null,
            "align_self": null,
            "height": null,
            "min_height": null,
            "padding": null,
            "grid_auto_rows": null,
            "grid_gap": null,
            "max_width": null,
            "order": null,
            "_view_module_version": "1.2.0",
            "grid_template_areas": null,
            "object_position": null,
            "object_fit": null,
            "grid_auto_columns": null,
            "margin": null,
            "display": null,
            "left": null
          }
        },
        "5927edaf703a402d9111aa321f4e3d70": {
          "model_module": "@jupyter-widgets/controls",
          "model_name": "DescriptionStyleModel",
          "state": {
            "_view_name": "StyleView",
            "_model_name": "DescriptionStyleModel",
            "description_width": "",
            "_view_module": "@jupyter-widgets/base",
            "_model_module_version": "1.5.0",
            "_view_count": null,
            "_view_module_version": "1.2.0",
            "_model_module": "@jupyter-widgets/controls"
          }
        },
        "634a92d194254fee8e24502986f6082b": {
          "model_module": "@jupyter-widgets/base",
          "model_name": "LayoutModel",
          "state": {
            "_view_name": "LayoutView",
            "grid_template_rows": null,
            "right": null,
            "justify_content": null,
            "_view_module": "@jupyter-widgets/base",
            "overflow": null,
            "_model_module_version": "1.2.0",
            "_view_count": null,
            "flex_flow": null,
            "width": null,
            "min_width": null,
            "border": null,
            "align_items": null,
            "bottom": null,
            "_model_module": "@jupyter-widgets/base",
            "top": null,
            "grid_column": null,
            "overflow_y": null,
            "overflow_x": null,
            "grid_auto_flow": null,
            "grid_area": null,
            "grid_template_columns": null,
            "flex": null,
            "_model_name": "LayoutModel",
            "justify_items": null,
            "grid_row": null,
            "max_height": null,
            "align_content": null,
            "visibility": null,
            "align_self": null,
            "height": null,
            "min_height": null,
            "padding": null,
            "grid_auto_rows": null,
            "grid_gap": null,
            "max_width": null,
            "order": null,
            "_view_module_version": "1.2.0",
            "grid_template_areas": null,
            "object_position": null,
            "object_fit": null,
            "grid_auto_columns": null,
            "margin": null,
            "display": null,
            "left": null
          }
        },
        "0f47f1680b614505b6f403269acd88d4": {
          "model_module": "@jupyter-widgets/controls",
          "model_name": "HBoxModel",
          "state": {
            "_view_name": "HBoxView",
            "_dom_classes": [],
            "_model_name": "HBoxModel",
            "_view_module": "@jupyter-widgets/controls",
            "_model_module_version": "1.5.0",
            "_view_count": null,
            "_view_module_version": "1.5.0",
            "box_style": "",
            "layout": "IPY_MODEL_7efca7a47e6a445c849754ddca9846ba",
            "_model_module": "@jupyter-widgets/controls",
            "children": [
              "IPY_MODEL_3897c89e1096457d9551f22391859e7f",
              "IPY_MODEL_08bf1b46b1d745729bdf1f7fced72522"
            ]
          }
        },
        "7efca7a47e6a445c849754ddca9846ba": {
          "model_module": "@jupyter-widgets/base",
          "model_name": "LayoutModel",
          "state": {
            "_view_name": "LayoutView",
            "grid_template_rows": null,
            "right": null,
            "justify_content": null,
            "_view_module": "@jupyter-widgets/base",
            "overflow": null,
            "_model_module_version": "1.2.0",
            "_view_count": null,
            "flex_flow": null,
            "width": null,
            "min_width": null,
            "border": null,
            "align_items": null,
            "bottom": null,
            "_model_module": "@jupyter-widgets/base",
            "top": null,
            "grid_column": null,
            "overflow_y": null,
            "overflow_x": null,
            "grid_auto_flow": null,
            "grid_area": null,
            "grid_template_columns": null,
            "flex": null,
            "_model_name": "LayoutModel",
            "justify_items": null,
            "grid_row": null,
            "max_height": null,
            "align_content": null,
            "visibility": null,
            "align_self": null,
            "height": null,
            "min_height": null,
            "padding": null,
            "grid_auto_rows": null,
            "grid_gap": null,
            "max_width": null,
            "order": null,
            "_view_module_version": "1.2.0",
            "grid_template_areas": null,
            "object_position": null,
            "object_fit": null,
            "grid_auto_columns": null,
            "margin": null,
            "display": null,
            "left": null
          }
        },
        "3897c89e1096457d9551f22391859e7f": {
          "model_module": "@jupyter-widgets/controls",
          "model_name": "FloatProgressModel",
          "state": {
            "_view_name": "ProgressView",
            "style": "IPY_MODEL_1650c41455144a36968d458a2bc7eff1",
            "_dom_classes": [],
            "description": "100%",
            "_model_name": "FloatProgressModel",
            "bar_style": "success",
            "max": 46830571,
            "_view_module": "@jupyter-widgets/controls",
            "_model_module_version": "1.5.0",
            "value": 46830571,
            "_view_count": null,
            "_view_module_version": "1.5.0",
            "orientation": "horizontal",
            "min": 0,
            "description_tooltip": null,
            "_model_module": "@jupyter-widgets/controls",
            "layout": "IPY_MODEL_ebe3117edade4c68ba18ca167c5fdc7f"
          }
        },
        "08bf1b46b1d745729bdf1f7fced72522": {
          "model_module": "@jupyter-widgets/controls",
          "model_name": "HTMLModel",
          "state": {
            "_view_name": "HTMLView",
            "style": "IPY_MODEL_e7f02667a9c6480f8330456cbe795738",
            "_dom_classes": [],
            "description": "",
            "_model_name": "HTMLModel",
            "placeholder": "​",
            "_view_module": "@jupyter-widgets/controls",
            "_model_module_version": "1.5.0",
            "value": " 44.7M/44.7M [11:58&lt;00:00, 65.2kB/s]",
            "_view_count": null,
            "_view_module_version": "1.5.0",
            "description_tooltip": null,
            "_model_module": "@jupyter-widgets/controls",
            "layout": "IPY_MODEL_e28c1e231d114d9ab82b6fa197190b14"
          }
        },
        "1650c41455144a36968d458a2bc7eff1": {
          "model_module": "@jupyter-widgets/controls",
          "model_name": "ProgressStyleModel",
          "state": {
            "_view_name": "StyleView",
            "_model_name": "ProgressStyleModel",
            "description_width": "initial",
            "_view_module": "@jupyter-widgets/base",
            "_model_module_version": "1.5.0",
            "_view_count": null,
            "_view_module_version": "1.2.0",
            "bar_color": null,
            "_model_module": "@jupyter-widgets/controls"
          }
        },
        "ebe3117edade4c68ba18ca167c5fdc7f": {
          "model_module": "@jupyter-widgets/base",
          "model_name": "LayoutModel",
          "state": {
            "_view_name": "LayoutView",
            "grid_template_rows": null,
            "right": null,
            "justify_content": null,
            "_view_module": "@jupyter-widgets/base",
            "overflow": null,
            "_model_module_version": "1.2.0",
            "_view_count": null,
            "flex_flow": null,
            "width": null,
            "min_width": null,
            "border": null,
            "align_items": null,
            "bottom": null,
            "_model_module": "@jupyter-widgets/base",
            "top": null,
            "grid_column": null,
            "overflow_y": null,
            "overflow_x": null,
            "grid_auto_flow": null,
            "grid_area": null,
            "grid_template_columns": null,
            "flex": null,
            "_model_name": "LayoutModel",
            "justify_items": null,
            "grid_row": null,
            "max_height": null,
            "align_content": null,
            "visibility": null,
            "align_self": null,
            "height": null,
            "min_height": null,
            "padding": null,
            "grid_auto_rows": null,
            "grid_gap": null,
            "max_width": null,
            "order": null,
            "_view_module_version": "1.2.0",
            "grid_template_areas": null,
            "object_position": null,
            "object_fit": null,
            "grid_auto_columns": null,
            "margin": null,
            "display": null,
            "left": null
          }
        },
        "e7f02667a9c6480f8330456cbe795738": {
          "model_module": "@jupyter-widgets/controls",
          "model_name": "DescriptionStyleModel",
          "state": {
            "_view_name": "StyleView",
            "_model_name": "DescriptionStyleModel",
            "description_width": "",
            "_view_module": "@jupyter-widgets/base",
            "_model_module_version": "1.5.0",
            "_view_count": null,
            "_view_module_version": "1.2.0",
            "_model_module": "@jupyter-widgets/controls"
          }
        },
        "e28c1e231d114d9ab82b6fa197190b14": {
          "model_module": "@jupyter-widgets/base",
          "model_name": "LayoutModel",
          "state": {
            "_view_name": "LayoutView",
            "grid_template_rows": null,
            "right": null,
            "justify_content": null,
            "_view_module": "@jupyter-widgets/base",
            "overflow": null,
            "_model_module_version": "1.2.0",
            "_view_count": null,
            "flex_flow": null,
            "width": null,
            "min_width": null,
            "border": null,
            "align_items": null,
            "bottom": null,
            "_model_module": "@jupyter-widgets/base",
            "top": null,
            "grid_column": null,
            "overflow_y": null,
            "overflow_x": null,
            "grid_auto_flow": null,
            "grid_area": null,
            "grid_template_columns": null,
            "flex": null,
            "_model_name": "LayoutModel",
            "justify_items": null,
            "grid_row": null,
            "max_height": null,
            "align_content": null,
            "visibility": null,
            "align_self": null,
            "height": null,
            "min_height": null,
            "padding": null,
            "grid_auto_rows": null,
            "grid_gap": null,
            "max_width": null,
            "order": null,
            "_view_module_version": "1.2.0",
            "grid_template_areas": null,
            "object_position": null,
            "object_fit": null,
            "grid_auto_columns": null,
            "margin": null,
            "display": null,
            "left": null
          }
        }
      }
    }
  },
  "cells": [
    {
      "cell_type": "markdown",
      "metadata": {
        "id": "Y_KlLOhhJMHA"
      },
      "source": [
        "# Libraries"
      ]
    },
    {
      "cell_type": "code",
      "metadata": {
        "colab": {
          "base_uri": "https://localhost:8080/"
        },
        "id": "nIrUITPTUqby",
        "outputId": "4c8ed44d-99aa-4ea6-d3f6-c5119b8a0e68"
      },
      "source": [
        "pip install dotmap"
      ],
      "execution_count": 1,
      "outputs": [
        {
          "output_type": "stream",
          "text": [
            "Collecting dotmap\n",
            "  Downloading https://files.pythonhosted.org/packages/17/6f/c94adbb0e6d418ededbf1082a3067f178fb012573b960d446e5655e6fbe1/dotmap-1.3.23-py3-none-any.whl\n",
            "Installing collected packages: dotmap\n",
            "Successfully installed dotmap-1.3.23\n"
          ],
          "name": "stdout"
        }
      ]
    },
    {
      "cell_type": "code",
      "metadata": {
        "id": "cShUedNKUGBG"
      },
      "source": [
        "import torchvision.transforms as T\n",
        "import torchvision\n",
        "from torchvision.datasets import CIFAR10\n",
        "from torch.utils.data import TensorDataset, DataLoader\n",
        "from functools import partial\n",
        "from dotmap import DotMap\n",
        "import numpy as np\n",
        "from tqdm import tqdm\n",
        "import torch\n",
        "import torch.nn as nn\n",
        "import torch.nn.functional as F\n",
        "from torchvision.utils import save_image, make_grid\n",
        "import matplotlib.pyplot as plt\n",
        "\n",
        "from tqdm import tqdm\n",
        "import os\n"
      ],
      "execution_count": 2,
      "outputs": []
    },
    {
      "cell_type": "markdown",
      "metadata": {
        "id": "GpONyhCjJQ_q"
      },
      "source": [
        "# Config"
      ]
    },
    {
      "cell_type": "code",
      "metadata": {
        "id": "CZECHmFOJSNK"
      },
      "source": [
        "\n",
        "args = DotMap()\n",
        "args.n_bits = 4\n",
        "args.dataset = 'cifar10'\n",
        "args.batch_size = 16\n",
        "args.n_channels = 128\n",
        "args.n_out_conv_channels = 512\n",
        "args.kernel_size = 3\n",
        "args.n_res_layers = 3\n",
        "args.n_cond_classes = False\n",
        "args.norm_layer = True\n",
        "args.seed = 0\n",
        "args.lr = 5e-4\n",
        "args.polyak = 0.9995 # Decayfor moving average\n",
        "args.log_interval = 1\n",
        "args.eval_interval = 1\n",
        "args.output_dir = '/content/drive/MyDrive/ADL/3_4/pixelcnn/'\n",
        "args.mini_data = False\n",
        "args.device = 'cuda'\n",
        "args.image_dims = (3,32,32)\n",
        "args.n_samples = 4\n",
        "\n",
        "\n",
        "args.train = True\n",
        "args.evaluate = False\n",
        "args.generate = False\n",
        "\n",
        "args.start_epoch = 0\n",
        "args.n_epochs = 10\n",
        "args.step = 0\n"
      ],
      "execution_count": 3,
      "outputs": []
    },
    {
      "cell_type": "markdown",
      "metadata": {
        "id": "cr02OcbpAgtV"
      },
      "source": [
        "# PixelCNN Architecture\n",
        "\n",
        "A simplified PixelCNN Architecture\n",
        "\n",
        "Some modifications include lowering dimension of channels in intermediate layers, and using only 3 residual layers\n",
        "\n",
        "pixel values are quantized to 4 bits so model's output size is (batch, 16, 3, 32, 32)"
      ]
    },
    {
      "cell_type": "code",
      "metadata": {
        "id": "fkLnBlTy_mXB",
        "colab": {
          "base_uri": "https://localhost:8080/"
        },
        "outputId": "a5eb85be-c056-420b-be63-5c40a7f44203"
      },
      "source": [
        "\n",
        "\n",
        "############################### Model components #####################################\n",
        "\n",
        "\n",
        "def pixelcnn_gate(x):\n",
        "    a, b = x.chunk(2,1)\n",
        "    return torch.tanh(a) * torch.sigmoid(b)\n",
        "\n",
        "class MaskedConv2d(nn.Conv2d):\n",
        "    def __init__(self, *args, mask_type=None, mask_n_channels=None, gated=False, **kwargs):\n",
        "        super().__init__(*args, **kwargs)\n",
        "        nn.init.constant_(self.bias, 0.)\n",
        "\n",
        "        # set up mask -- cf PixelRNN paper Figure 2 Right: masks A and B\n",
        "        self.mask_type = mask_type\n",
        "        self.mask_n_channels = mask_n_channels\n",
        "        center_row = self.kernel_size[0] // 2\n",
        "        center_col = self.kernel_size[1] // 2\n",
        "\n",
        "        mask = torch.ones_like(self.weight)         # shape (out_channels, in_channels, kernel_height, kernel_width)\n",
        "\n",
        "        # mask out 1/ rows below the middle and 2/ center row pixels right of middle\n",
        "        if center_row == 0:                         # case when kernel_size = (1,k) in horizontal stack\n",
        "            mask[:, :, :, center_col+1:] = 0\n",
        "        elif center_col == 0:                       # case when kernel_size = (k,1)\n",
        "            mask[:, :, center_row+1:, :] = 0\n",
        "        else:                                       # case when kernel_size = (k,k)\n",
        "            mask[:, :, center_row+1:, :] = 0\n",
        "            mask[:, :, center_row, center_col+1:] = 0\n",
        "\n",
        "        # mask out center pixel in future channels -- mask A current channel is 0; mask B current channel is 1\n",
        "        for i in range(mask_n_channels):\n",
        "            for j in range(mask_n_channels):\n",
        "                if (mask_type=='a' and i >= j) or (mask_type=='b' and i > j):\n",
        "                    mask[j::mask_n_channels, i::mask_n_channels, center_row, center_col] = 0\n",
        "\n",
        "        # mask out center row (vertical stack in a Gated Residual Layer); cf Conditional image generation with PixelCNN Decoders\n",
        "        if mask_type == 'vstack':\n",
        "            mask[:, :, center_row, :] = 0\n",
        "\n",
        "        if gated:\n",
        "            # pixelcnn gate splits the input in two along the channel dim;\n",
        "            # ensure that both chunks receive the same mask by replicating the first half of the mask over the second\n",
        "            mask = mask.chunk(2,0)[0].repeat(2,1,1,1)\n",
        "\n",
        "        # final mask\n",
        "        self.register_buffer('mask', mask)\n",
        "\n",
        "    def forward(self, x):\n",
        "        self.weight.data *= self.mask\n",
        "        return super().forward(x)\n",
        "\n",
        "    def __repr__(self):\n",
        "        s = super().__repr__()\n",
        "        return s[:-1] + ', mask_type={}, mask_n_channels={}'.format(self.mask_type, self.mask_n_channels) + s[-1]\n",
        "\n",
        "\n",
        "class GatedResidualLayer(nn.Module):\n",
        "    \"\"\" Figure 2 in Conditional image generation with PixelCNN Decoders \"\"\"\n",
        "    def __init__(self, in_channels, out_channels, kernel_size, mask_type, mask_n_channels, n_cond_classes, norm_layer):\n",
        "        super().__init__()\n",
        "        self.residual = (in_channels==out_channels)\n",
        "        self.norm_layer = norm_layer\n",
        "\n",
        "        self.v   = MaskedConv2d(in_channels, 2*out_channels, kernel_size, padding=kernel_size//2,\n",
        "                                mask_type='vstack', mask_n_channels=mask_n_channels, gated=True)\n",
        "        self.h   = MaskedConv2d(in_channels, 2*out_channels, (1, kernel_size), padding=(0, kernel_size//2),\n",
        "                                mask_type=mask_type, mask_n_channels=mask_n_channels, gated=True)\n",
        "        self.v2h = MaskedConv2d(2*out_channels, 2*out_channels, kernel_size=1,\n",
        "                                mask_type=mask_type, mask_n_channels=mask_n_channels, gated=True)\n",
        "        self.h2h = MaskedConv2d(out_channels, out_channels, kernel_size=1,\n",
        "                                mask_type=mask_type, mask_n_channels=mask_n_channels, gated=False)\n",
        "\n",
        "        if n_cond_classes:\n",
        "            self.proj_h = nn.Linear(n_cond_classes, 2*out_channels)\n",
        "\n",
        "        if self.norm_layer:\n",
        "            self.norm_layer_v = nn.BatchNorm2d(out_channels)\n",
        "            self.norm_layer_h = nn.BatchNorm2d(out_channels)\n",
        "\n",
        "    def forward(self, x_v, x_h, h=None):\n",
        "        # projection of h if included for conditional generation (cf paper section 2.3 -- added before the pixelcnn_gate)\n",
        "        proj_y = self.proj_h(h)[:,:,None,None] if h is not None else 0\n",
        "\n",
        "        # vertical stack\n",
        "        x_v_out = self.v(x_v)\n",
        "        x_v2h = self.v2h(x_v_out) + proj_y\n",
        "        x_v_out = pixelcnn_gate(x_v_out)\n",
        "\n",
        "        # horizontal stack\n",
        "        x_h_out = self.h(x_h) + x_v2h + proj_y\n",
        "        x_h_out = pixelcnn_gate(x_h_out)\n",
        "        x_h_out = self.h2h(x_h_out)\n",
        "\n",
        "        # residual connection\n",
        "        if self.residual:\n",
        "            x_h_out = x_h_out + x_h\n",
        "\n",
        "        # normalization\n",
        "        if self.norm_layer:\n",
        "            x_v_out = self.norm_layer_v(x_v_out)\n",
        "            x_h_out = self.norm_layer_h(x_h_out)\n",
        "\n",
        "        return x_v_out, x_h_out\n",
        "\n",
        "    def extra_repr(self):\n",
        "        return 'residual={}, norm_layer={}'.format(self.residual, self.norm_layer)\n",
        "\n",
        "\n",
        "\n",
        "################################### PixelCNN ##########################################\n",
        "\n",
        "\n",
        "class PixelCNN(nn.Module):\n",
        "    def __init__(self, image_dims, n_bits, n_channels, n_out_conv_channels, kernel_size, n_res_layers, n_cond_classes, norm_layer=True):\n",
        "        super().__init__()\n",
        "        C, H, W = image_dims\n",
        "\n",
        "        self.input_conv = MaskedConv2d(C, 2*n_channels, kernel_size=7, padding=3, mask_type='a', mask_n_channels=C, gated=True)\n",
        "        self.res_layers = nn.ModuleList([\n",
        "            GatedResidualLayer(n_channels, n_channels, kernel_size, 'b', C, n_cond_classes, norm_layer)\n",
        "            for _ in range(n_res_layers)])\n",
        "        self.conv_out1 = MaskedConv2d(n_channels, 2*n_out_conv_channels, kernel_size=1, mask_type='b', mask_n_channels=C, gated=True)\n",
        "        self.conv_out2 = MaskedConv2d(n_out_conv_channels, 2*n_out_conv_channels, kernel_size=1, mask_type='b', mask_n_channels=C, gated=True)\n",
        "        self.output = MaskedConv2d(n_out_conv_channels, C * 2**n_bits, kernel_size=1, mask_type='b', mask_n_channels=C)\n",
        "\n",
        "        if n_cond_classes:\n",
        "            self.proj_h = nn.Linear(n_cond_classes, 2*n_channels)\n",
        "\n",
        "    def forward(self, x, h=None):\n",
        "        B, C, H, W = x.shape\n",
        "\n",
        "        x = pixelcnn_gate(self.input_conv(x) + (self.proj_h(h)[:,:,None,None] if h is not None else 0.))\n",
        "        x_v, x_h = x, x\n",
        "\n",
        "        for l in self.res_layers:\n",
        "            x_v, x_h = l(x_v, x_h)\n",
        "\n",
        "        out = pixelcnn_gate(self.conv_out1(x_h))\n",
        "        out = pixelcnn_gate(self.conv_out2(out))\n",
        "        out = self.output(out)\n",
        "\n",
        "        return out.reshape(B, -1, C, H, W)\n",
        "\n",
        "\n",
        "\n",
        "###################### Loss and generation functions ##############################\n",
        "\n",
        "\n",
        "def loss_fn_pixel(logits, targets):\n",
        "    \"\"\"\n",
        "    Args\n",
        "        logits -- model output of shape (B, 2**n_bits, C, H, W)\n",
        "        targets -- data tensor of shape (B, C, H, W) with values in pixel space [0, 2**n_bits)\n",
        "    \"\"\"\n",
        "    return F.cross_entropy(logits, targets, reduction='none').sum([1,2,3])\n",
        "\n",
        "def generate_fn(model, n_samples, image_dims, device, preprocess_fn, n_bits, h=None):\n",
        "    out = torch.zeros(n_samples, *image_dims, device=device)\n",
        "    with tqdm(total=(image_dims[0]*image_dims[1]*image_dims[2]), desc='Generating {} images'.format(n_samples)) as pbar:\n",
        "        for yi in range(image_dims[1]):\n",
        "            for xi in range(image_dims[2]):\n",
        "                for ci in range(image_dims[0]):\n",
        "                    logits = model(out, h)\n",
        "                    probs = F.softmax(logits, dim=1)\n",
        "                    sample = torch.multinomial(probs[:,:,ci,yi,xi], num_samples=1).squeeze()\n",
        "                    out[:,ci,yi,xi] = preprocess_fn(sample, n_bits)\n",
        "                    pbar.update()\n",
        "    return out\n",
        "\n",
        "\n",
        "print('testing... output size: ')\n",
        "net = PixelCNN(args.image_dims, args.n_bits, args.n_channels, args.n_out_conv_channels, args.kernel_size,\n",
        "                          args.n_res_layers, args.n_cond_classes, args.norm_layer)\n",
        "y = net(torch.randn(1, 3, 32, 32))\n",
        "print(y.size())"
      ],
      "execution_count": 4,
      "outputs": [
        {
          "output_type": "stream",
          "text": [
            "testing... output size: \n",
            "torch.Size([1, 16, 3, 32, 32])\n"
          ],
          "name": "stdout"
        }
      ]
    },
    {
      "cell_type": "markdown",
      "metadata": {
        "id": "PI42TVfpEVUF"
      },
      "source": [
        "## Optimizer\n",
        "\n",
        "EMA optimizer is used"
      ]
    },
    {
      "cell_type": "code",
      "metadata": {
        "id": "rsIYiCVgEWmO"
      },
      "source": [
        "\n",
        "\n",
        "def build_ema_optimizer(optimizer_cls):\n",
        "    class Optimizer(optimizer_cls):\n",
        "        def __init__(self, *args, polyak=0.0, **kwargs):\n",
        "            if not 0.0 <= polyak <= 1.0:\n",
        "                raise ValueError(\"Invalid polyak decay rate: {}\".format(polyak))\n",
        "            super().__init__(*args, **kwargs)\n",
        "            self.defaults['polyak'] = polyak\n",
        "\n",
        "        def step(self, closure=None):\n",
        "            super().step(closure)\n",
        "\n",
        "            # update exponential moving average after gradient update to parameters\n",
        "            for group in self.param_groups:\n",
        "                for p in group['params']:\n",
        "                    state = self.state[p]\n",
        "\n",
        "                    # state initialization\n",
        "                    if 'ema' not in state:\n",
        "                        state['ema'] = torch.zeros_like(p.data)\n",
        "\n",
        "                    # ema update\n",
        "                    state['ema'] -= (1 - self.defaults['polyak']) * (state['ema'] - p.data)\n",
        "\n",
        "        def swap_ema(self):\n",
        "            \"\"\" substitute exponential moving average values into parameter values \"\"\"\n",
        "            for group in self.param_groups:\n",
        "                for p in group['params']:\n",
        "                    data = p.data\n",
        "                    state = self.state[p]\n",
        "                    p.data = state['ema']\n",
        "                    state['ema'] = data\n",
        "\n",
        "        def __repr__(self):\n",
        "            s = super().__repr__()\n",
        "            return self.__class__.__mro__[1].__name__ + ' (\\npolyak: {}\\n'.format(self.defaults['polyak']) + s.partition('\\n')[2]\n",
        "\n",
        "    return Optimizer\n",
        "\n",
        "RMSprop = build_ema_optimizer(torch.optim.RMSprop)\n"
      ],
      "execution_count": 5,
      "outputs": []
    },
    {
      "cell_type": "markdown",
      "metadata": {
        "id": "69v7QIPYAkRx"
      },
      "source": [
        "# Data\n",
        "\n",
        "Some pre and post processing functions and a function to load and quantize Cifar10"
      ]
    },
    {
      "cell_type": "code",
      "metadata": {
        "id": "YHt2kqy5AjA6"
      },
      "source": [
        "\n",
        "\n",
        "def fetch_dataloaders():\n",
        "    # preprocessing transforms\n",
        "    transform = T.Compose([T.ToTensor(),                                            # tensor in [0,1]\n",
        "                           lambda x: x.mul(255).div(2**(8-args.n_bits)).floor(),    # lower bits\n",
        "                           partial(preprocess, n_bits=args.n_bits)])                # to model space [-1,1]\n",
        "\n",
        "    if args.dataset=='cifar10':\n",
        "        args.image_dims = (3,32,32)\n",
        "        train_dataset = CIFAR10('./', train=True, download=True, transform=transform)\n",
        "        valid_dataset = CIFAR10('./', train=False, download=True, transform=transform)\n",
        "\n",
        "    if args.mini_data:  # dataset to a single batch\n",
        "        train_dataset.data = train_dataset.data[:args.batch_size]\n",
        "        train_dataset.targets = train_dataset.targets[:args.batch_size]\n",
        "        valid_dataset = train_dataset\n",
        "\n",
        "    print('Dataset {}\\n\\ttrain len: {}\\n\\tvalid len: {}\\n\\tshape: {}'.format(\n",
        "        args.dataset, len(train_dataset), len(valid_dataset), train_dataset[0][0].shape))\n",
        "\n",
        "    train_dataloader = DataLoader(train_dataset, args.batch_size, shuffle=True, pin_memory=(args.device=='cuda'), num_workers=4)\n",
        "    valid_dataloader = DataLoader(valid_dataset, args.batch_size, shuffle=False, pin_memory=(args.device=='cuda'), num_workers=4)\n",
        "\n",
        "    return train_dataloader, valid_dataloader\n",
        "\n",
        "def preprocess(x, n_bits):\n",
        "    # 1. convert data to float\n",
        "    # 2. normalize to [0,1] given quantization\n",
        "    # 3. shift to [-1,1]\n",
        "    return x.float().div(2**n_bits - 1).mul(2).add(-1)\n",
        "\n",
        "def deprocess(x, n_bits):\n",
        "    # 1. shift to [0,1]\n",
        "    # 2. quantize to n_bits\n",
        "    # 3. convert data to long\n",
        "    return x.add(1).div(2).mul(2**n_bits - 1).long()\n"
      ],
      "execution_count": 6,
      "outputs": []
    },
    {
      "cell_type": "markdown",
      "metadata": {
        "id": "lSQQ-6OuVct7"
      },
      "source": [
        "# Prepare model and data"
      ]
    },
    {
      "cell_type": "code",
      "metadata": {
        "id": "Dib5wjReCWPD",
        "colab": {
          "base_uri": "https://localhost:8080/",
          "height": 0,
          "referenced_widgets": [
            "f12c86f57a5042d6bdcf98d7b52a00fd",
            "080a0aaf16624b5688a8654a9c495e06",
            "1c84696c51f44c3fa7e2cec9ab300de1",
            "07a2ea2112834d65950d49204609f574",
            "b0301cc2d1d44950b6d14d6385b93660",
            "e0f1c1151f524b74a4adc4627175169c",
            "5927edaf703a402d9111aa321f4e3d70",
            "634a92d194254fee8e24502986f6082b"
          ]
        },
        "outputId": "2a4671b0-1069-4476-aeee-4a5bf71b2a8f"
      },
      "source": [
        "torch.manual_seed(args.seed)\n",
        "np.random.seed(args.seed)\n",
        "\n",
        "if args.device == 'cuda':\n",
        "  torch.backends.cudnn.deterministic = True\n",
        "  torch.backends.cudnn.benchmark = False\n",
        "\n",
        "train_dataloader, test_dataloader = fetch_dataloaders()\n",
        "\n",
        "# Model\n",
        "model = PixelCNN(args.image_dims, args.n_bits, args.n_channels, args.n_out_conv_channels, args.kernel_size,\n",
        "                          args.n_res_layers, args.n_cond_classes, args.norm_layer).to(args.device)\n",
        "# images need to be deprocessed to [0, 2**n_bits) for loss fn\n",
        "loss_fn = lambda scores, targets, n_bits: loss_fn_pixel(scores, deprocess(targets, n_bits))\n",
        "# multinomial sampling needs to be processed to [-1,1] at generation\n",
        "generate_fn = partial(generate_fn, preprocess_fn=preprocess, n_bits=args.n_bits)\n",
        "optimizer = RMSprop(model.parameters(), lr=args.lr, polyak=args.polyak)\n",
        "scheduler = None\n",
        "\n",
        "# print(model)\n",
        "print('Model parameters: {:,}'.format(sum(p.numel() for p in model.parameters())))\n",
        "print(model)"
      ],
      "execution_count": 7,
      "outputs": [
        {
          "output_type": "stream",
          "text": [
            "Downloading https://www.cs.toronto.edu/~kriz/cifar-10-python.tar.gz to ./cifar-10-python.tar.gz\n"
          ],
          "name": "stdout"
        },
        {
          "output_type": "display_data",
          "data": {
            "application/vnd.jupyter.widget-view+json": {
              "model_id": "f12c86f57a5042d6bdcf98d7b52a00fd",
              "version_minor": 0,
              "version_major": 2
            },
            "text/plain": [
              "HBox(children=(FloatProgress(value=0.0, max=170498071.0), HTML(value='')))"
            ]
          },
          "metadata": {
            "tags": []
          }
        },
        {
          "output_type": "stream",
          "text": [
            "\n",
            "Extracting ./cifar-10-python.tar.gz to ./\n",
            "Files already downloaded and verified\n",
            "Dataset cifar10\n",
            "\ttrain len: 50000\n",
            "\tvalid len: 10000\n",
            "\tshape: torch.Size([3, 32, 32])\n"
          ],
          "name": "stdout"
        },
        {
          "output_type": "stream",
          "text": [
            "/usr/local/lib/python3.7/dist-packages/torch/utils/data/dataloader.py:481: UserWarning: This DataLoader will create 4 worker processes in total. Our suggested max number of worker in current system is 2, which is smaller than what this DataLoader is going to create. Please be aware that excessive worker creation might get DataLoader running slow or even freeze, lower the worker number to avoid potential slowness/freeze if necessary.\n",
            "  cpuset_checked))\n"
          ],
          "name": "stderr"
        },
        {
          "output_type": "stream",
          "text": [
            "Model parameters: 2,149,552\n",
            "PixelCNN(\n",
            "  (input_conv): MaskedConv2d(3, 256, kernel_size=(7, 7), stride=(1, 1), padding=(3, 3), mask_type=a, mask_n_channels=3)\n",
            "  (res_layers): ModuleList(\n",
            "    (0): GatedResidualLayer(\n",
            "      residual=True, norm_layer=True\n",
            "      (v): MaskedConv2d(128, 256, kernel_size=(3, 3), stride=(1, 1), padding=(1, 1), mask_type=vstack, mask_n_channels=3)\n",
            "      (h): MaskedConv2d(128, 256, kernel_size=(1, 3), stride=(1, 1), padding=(0, 1), mask_type=b, mask_n_channels=3)\n",
            "      (v2h): MaskedConv2d(256, 256, kernel_size=(1, 1), stride=(1, 1), mask_type=b, mask_n_channels=3)\n",
            "      (h2h): MaskedConv2d(128, 128, kernel_size=(1, 1), stride=(1, 1), mask_type=b, mask_n_channels=3)\n",
            "      (norm_layer_v): BatchNorm2d(128, eps=1e-05, momentum=0.1, affine=True, track_running_stats=True)\n",
            "      (norm_layer_h): BatchNorm2d(128, eps=1e-05, momentum=0.1, affine=True, track_running_stats=True)\n",
            "    )\n",
            "    (1): GatedResidualLayer(\n",
            "      residual=True, norm_layer=True\n",
            "      (v): MaskedConv2d(128, 256, kernel_size=(3, 3), stride=(1, 1), padding=(1, 1), mask_type=vstack, mask_n_channels=3)\n",
            "      (h): MaskedConv2d(128, 256, kernel_size=(1, 3), stride=(1, 1), padding=(0, 1), mask_type=b, mask_n_channels=3)\n",
            "      (v2h): MaskedConv2d(256, 256, kernel_size=(1, 1), stride=(1, 1), mask_type=b, mask_n_channels=3)\n",
            "      (h2h): MaskedConv2d(128, 128, kernel_size=(1, 1), stride=(1, 1), mask_type=b, mask_n_channels=3)\n",
            "      (norm_layer_v): BatchNorm2d(128, eps=1e-05, momentum=0.1, affine=True, track_running_stats=True)\n",
            "      (norm_layer_h): BatchNorm2d(128, eps=1e-05, momentum=0.1, affine=True, track_running_stats=True)\n",
            "    )\n",
            "    (2): GatedResidualLayer(\n",
            "      residual=True, norm_layer=True\n",
            "      (v): MaskedConv2d(128, 256, kernel_size=(3, 3), stride=(1, 1), padding=(1, 1), mask_type=vstack, mask_n_channels=3)\n",
            "      (h): MaskedConv2d(128, 256, kernel_size=(1, 3), stride=(1, 1), padding=(0, 1), mask_type=b, mask_n_channels=3)\n",
            "      (v2h): MaskedConv2d(256, 256, kernel_size=(1, 1), stride=(1, 1), mask_type=b, mask_n_channels=3)\n",
            "      (h2h): MaskedConv2d(128, 128, kernel_size=(1, 1), stride=(1, 1), mask_type=b, mask_n_channels=3)\n",
            "      (norm_layer_v): BatchNorm2d(128, eps=1e-05, momentum=0.1, affine=True, track_running_stats=True)\n",
            "      (norm_layer_h): BatchNorm2d(128, eps=1e-05, momentum=0.1, affine=True, track_running_stats=True)\n",
            "    )\n",
            "  )\n",
            "  (conv_out1): MaskedConv2d(128, 1024, kernel_size=(1, 1), stride=(1, 1), mask_type=b, mask_n_channels=3)\n",
            "  (conv_out2): MaskedConv2d(512, 1024, kernel_size=(1, 1), stride=(1, 1), mask_type=b, mask_n_channels=3)\n",
            "  (output): MaskedConv2d(512, 48, kernel_size=(1, 1), stride=(1, 1), mask_type=b, mask_n_channels=3)\n",
            ")\n"
          ],
          "name": "stdout"
        }
      ]
    },
    {
      "cell_type": "markdown",
      "metadata": {
        "id": "ZFjkMs94Ize0"
      },
      "source": [
        "# Train Functions\n",
        "\n",
        "functions for training self-supervised PixelCNN and supervised ResNet18 finetuning\n",
        "\n",
        "2 modes are investigated for self-supervised stage\n",
        "\n",
        "Mode 1: pixelCNN is fed with whole images are tries to reconstruct the whole image\n",
        "\n",
        "Mode 2: PixelCNN is fed with only top half of images and tries to reconstruct the whole image"
      ]
    },
    {
      "cell_type": "code",
      "metadata": {
        "id": "UTpUHxFAIzS-"
      },
      "source": [
        "\n",
        "\n",
        "############################### Self-supervised Training ################################\n",
        "\n",
        "def train_epoch(model, dataloader, optimizer, scheduler, loss_fn, epoch):\n",
        "    model.train()\n",
        "\n",
        "    #________________ Iterate on train data ______________________\n",
        "\n",
        "    with tqdm(total=len(dataloader), desc='epoch {}/{}'.format(epoch, args.start_epoch + args.n_epochs)) as pbar:\n",
        "        for x,y in dataloader:\n",
        "\n",
        "            args.step += 1\n",
        "\n",
        "            x = x.to(args.device)\n",
        "            x_numpy = x[0].permute(1, 2, 0).detach().to('cpu').numpy() # Save image for illustration\n",
        "\n",
        "          \n",
        "            #_________________________________What is good representation? ________________________________________#\n",
        "\n",
        "            if half_representation:  # Only input top half of image to model and try to recover all of data\n",
        "\n",
        "                half_x = torch.zeros((args.batch_size, 3, 32, 32), device=args.device).float()\n",
        "                half_x[:, :, :16, :] = x[:, :, :16, :]\n",
        "\n",
        "                half_x_numpy = half_x[0].permute(1, 2, 0).detach().to('cpu').numpy() # Save for illustration\n",
        "\n",
        "                logits = model(half_x, None)\n",
        "\n",
        "                # For ilustration\n",
        "                probs = F.softmax(logits, dim=1)\n",
        "                sample = torch.argmax(probs, dim=1).squeeze()\n",
        "                logit_numpy = preprocess(sample, args.n_bits)\n",
        "                logit_numpy = logit_numpy[0].permute(1, 2, 0).detach().to('cpu').numpy()\n",
        "\n",
        "                \n",
        "            else: # Input all data and try to recover all of data\n",
        "\n",
        "                logits = model(x, None)\n",
        "\n",
        "            loss = loss_fn(logits, x, args.n_bits).mean(0)\n",
        "\n",
        "            optimizer.zero_grad()\n",
        "            loss.backward()\n",
        "            optimizer.step()\n",
        "            if scheduler: scheduler.step()\n",
        "\n",
        "            pbar.set_postfix(bits_per_dim='{:.4f}'.format(loss / (np.log(2) * np.prod(args.image_dims))))\n",
        "            pbar.update()\n",
        "\n",
        "\n",
        "        # record\n",
        "        print('train_bits_per_dim', loss / (np.log(2) * np.prod(args.image_dims)), args.step)\n",
        "        print('lr', optimizer.param_groups[0]['lr'], args.step)\n",
        "\n",
        "        # Show 1 example\n",
        "        plt.figure(figsize=(4, 10))\n",
        "        if half_representation:\n",
        "            plt.subplot(1, 3, 1)\n",
        "            plt.imshow(x_numpy)\n",
        "            plt.title('original X')\n",
        "            plt.subplot(1, 3, 2)\n",
        "            plt.imshow(half_x_numpy)\n",
        "            plt.title('input')\n",
        "            plt.subplot(1, 3, 3)\n",
        "            plt.imshow(logit_numpy)\n",
        "            plt.title('output')\n",
        "            plt.show()\n",
        "\n",
        "\n",
        "\n",
        "def train_and_evaluate(model, train_dataloader, test_dataloader, optimizer, scheduler, loss_fn, generate_fn):\n",
        "    for epoch in range(args.start_epoch, args.start_epoch + args.n_epochs):\n",
        "        # train\n",
        "        train_epoch(model, train_dataloader, optimizer, scheduler, loss_fn, epoch)\n",
        "\n",
        "        if (epoch+1) % args.eval_interval == 0:\n",
        "            # save model\n",
        "            torch.save({'epoch': epoch,\n",
        "                        'global_step': args.step,\n",
        "                        'state_dict': model.state_dict()},\n",
        "                        os.path.join(args.output_dir, 'checkpoint.pt'))\n",
        "            torch.save(optimizer.state_dict(), os.path.join(args.output_dir, 'optim_checkpoint.pt'))\n",
        "\n",
        "            # swap params to ema values\n",
        "            optimizer.swap_ema()\n",
        "\n",
        "            # evaluate\n",
        "            eval_loss = evaluate(model, test_dataloader, loss_fn)\n",
        "            print('eval_bits_per_dim', eval_loss / (np.log(2) * np.prod(args.image_dims)), args.step)\n",
        "\n",
        "            # generate\n",
        "            samples = generate(model, generate_fn)\n",
        "            save_image(samples, os.path.join(args.output_dir, 'generation_sample_step_{}.png'.format(args.step)))\n",
        "\n",
        "            # restore params to gradient optimized\n",
        "            optimizer.swap_ema()\n",
        "\n",
        "\n",
        "\n",
        "\n",
        "######################### Evaluate (self-supervised) ##############\n",
        "\n",
        "\n",
        "@torch.no_grad()\n",
        "def evaluate(model, dataloader, loss_fn):\n",
        "    model.eval()\n",
        "\n",
        "    losses = 0\n",
        "    for x,y in tqdm(dataloader, desc='Evaluate'):\n",
        "        x = x.to(args.device)\n",
        "        logits = model(x, None)\n",
        "        losses += loss_fn(logits, x, args.n_bits).mean(0).item()\n",
        "    return losses / len(dataloader)\n",
        "\n",
        "\n",
        "\n",
        "########################## Generate Samples #######################\n",
        "\n",
        "\n",
        "@torch.no_grad()\n",
        "def generate(model, generate_fn):\n",
        "    model.eval()\n",
        "    samples = generate_fn(model, args.n_samples, args.image_dims, args.device)\n",
        "    return make_grid(samples.cpu(), normalize=True, scale_each=True, nrow=args.n_samples)\n",
        "\n",
        "\n",
        "\n",
        "######################## Supervised FineTuning with ResNet18 ####################\n",
        "\n",
        "\n",
        "def finetune_resnet18(pixelmodel, train_dataloader, test_dataloader):\n",
        "\n",
        "      classifier = torchvision.models.resnet18(pretrained = True)\n",
        "      classifier.fc = nn.Linear(512, 10)\n",
        "      classifier = classifier.to('cuda')\n",
        "      classifier.train()\n",
        "      pixelmodel.eval()\n",
        "\n",
        "      # freeze all pixelcnn layers\n",
        "      for name, param in pixelmodel.named_parameters():\n",
        "          param.requires_grad = False\n",
        "\n",
        "      # freeze all ResNet18 layers but the last fc\n",
        "      for name, param in classifier.named_parameters():\n",
        "          if ('linear' not in name) and ('classifier' not in name) and ('fc' not in name): \n",
        "              param.requires_grad = False\n",
        "          else:\n",
        "              param.requires_grad = True\n",
        "\n",
        "      # Loss & optimizer\n",
        "      criterion = nn.CrossEntropyLoss() # mean square error loss\n",
        "      optimizer = torch.optim.Adam(classifier.parameters(), lr=args.lr)\n",
        "\n",
        "      #train\n",
        "      for epoch in range(0, 20):\n",
        "          \n",
        "          train_loss = 0\n",
        "          correct = 0\n",
        "          total = 0\n",
        "          loss = 0\n",
        "          for i, (x, y) in enumerate(train_dataloader):\n",
        "\n",
        "              x = x.to('cuda')\n",
        "              y = y.to('cuda')\n",
        "      \n",
        "              logits = pixelmodel(x, None)\n",
        "\n",
        "              probs = F.softmax(logits, dim=1)\n",
        "              sample = torch.argmax(probs, dim=1).squeeze()\n",
        "              x_resnet = preprocess(sample, args.n_bits)\n",
        "              x_resnet = x_resnet.detach() # Treat this like input data for classifier\n",
        "\n",
        "              out = classifier(x_resnet)\n",
        "\n",
        "              loss = criterion(out, y)\n",
        "              loss.backward()\n",
        "              optimizer.step()\n",
        "\n",
        "              _, predicted = out.max(1)\n",
        "              total += y.size(0)\n",
        "              correct += predicted.eq(y).sum().item()\n",
        "\n",
        "          train_accuracy = 100.*correct/total\n",
        "          test_accuracy = 0\n",
        "          correct = 0\n",
        "          total = 0\n",
        "\n",
        "          # Test phase\n",
        "          for batch_idx, (inputs, targets) in enumerate(test_dataloader):\n",
        "\n",
        "              inputs = inputs.to('cuda')\n",
        "              targets = targets.to('cuda')\n",
        "\n",
        "\n",
        "              logits = pixelmodel(inputs, None)\n",
        "\n",
        "              probs = F.softmax(logits, dim=1)\n",
        "              sample = torch.argmax(probs, dim=1).squeeze()\n",
        "              x_resnet = preprocess(sample, args.n_bits)\n",
        "              x_resnet = x_resnet.detach() # Treat this like input data for classifier\n",
        "\n",
        "              out = classifier(x_resnet)\n",
        "\n",
        "            \n",
        "              _, predicted = out.max(1)\n",
        "              total += targets.size(0)\n",
        "              correct += predicted.eq(targets).sum().item()\n",
        "\n",
        "          test_accuracy = 100.*correct/total\n",
        "\n",
        "          print(f\"Epoch {epoch}\\t Train accuracy {train_accuracy}\\t Test accuracy: {test_accuracy}\")\n",
        "                  \n"
      ],
      "execution_count": 8,
      "outputs": []
    },
    {
      "cell_type": "markdown",
      "metadata": {
        "id": "Ge2o1uWL0Kqz"
      },
      "source": [
        "# Self-supervised training -> Mode 1: Feeding pixelCNN with whole images\n",
        "\n",
        "14 epochs\n"
      ]
    },
    {
      "cell_type": "code",
      "metadata": {
        "id": "cqAOYA9mFWhc",
        "colab": {
          "base_uri": "https://localhost:8080/",
          "height": 933
        },
        "outputId": "368b9643-27e6-4ef8-f855-71fc6d5fa16c"
      },
      "source": [
        "half_representation = False # Use all data to predict all data\n",
        "\n",
        "args.output_dir = '/content/drive/MyDrive/ADL/3_4/pixelcnn/'\n",
        "args.restore_file = os.path.join(args.output_dir, 'checkpoint.pt')\n",
        "\n",
        "args.start_epoch = 0\n",
        "args.n_epochs = 10\n",
        "args.step = 0\n",
        "\n",
        "if args.restore_file: # Resume training\n",
        "    print('loading from checkpoint')\n",
        "    model_checkpoint = torch.load(args.restore_file, map_location=args.device)\n",
        "    model.load_state_dict(model_checkpoint['state_dict'])\n",
        "    optimizer.load_state_dict(torch.load(os.path.dirname(args.restore_file) + '/optim_checkpoint.pt', map_location=args.device))\n",
        "    args.start_epoch = model_checkpoint['epoch'] + 1\n",
        "    args.step = model_checkpoint['global_step']\n",
        "    print('epoch and loss: ')\n",
        "    print(args.start_epoch, )\n",
        "\n",
        "if args.train:\n",
        "    train_and_evaluate(model, train_dataloader, test_dataloader, optimizer, scheduler, loss_fn, generate_fn)\n"
      ],
      "execution_count": 46,
      "outputs": [
        {
          "output_type": "stream",
          "text": [
            "\repoch 10/20:   0%|          | 0/3125 [00:00<?, ?it/s]"
          ],
          "name": "stderr"
        },
        {
          "output_type": "stream",
          "text": [
            "loading from checkpoint\n",
            "epoch and loss: \n",
            "10\n"
          ],
          "name": "stdout"
        },
        {
          "output_type": "stream",
          "text": [
            "/usr/local/lib/python3.7/dist-packages/torch/utils/data/dataloader.py:481: UserWarning: This DataLoader will create 4 worker processes in total. Our suggested max number of worker in current system is 2, which is smaller than what this DataLoader is going to create. Please be aware that excessive worker creation might get DataLoader running slow or even freeze, lower the worker number to avoid potential slowness/freeze if necessary.\n",
            "  cpuset_checked))\n",
            "epoch 10/20: 100%|██████████| 3125/3125 [05:04<00:00, 10.25it/s, bits_per_dim=0.9041]\n",
            "Evaluate:   0%|          | 0/625 [00:00<?, ?it/s]"
          ],
          "name": "stderr"
        },
        {
          "output_type": "stream",
          "text": [
            "train_bits_per_dim tensor(0.9041, device='cuda:0', grad_fn=<DivBackward0>) 34375\n",
            "lr 0.0005 34375\n"
          ],
          "name": "stdout"
        },
        {
          "output_type": "stream",
          "text": [
            "Evaluate: 100%|██████████| 625/625 [00:21<00:00, 29.33it/s]\n",
            "Generating 4 images:   0%|          | 11/3072 [00:00<00:30, 100.64it/s]"
          ],
          "name": "stderr"
        },
        {
          "output_type": "stream",
          "text": [
            "eval_bits_per_dim 1.001658215623344 34375\n"
          ],
          "name": "stdout"
        },
        {
          "output_type": "stream",
          "text": [
            "Generating 4 images: 100%|██████████| 3072/3072 [00:29<00:00, 102.78it/s]\n",
            "epoch 11/20: 100%|██████████| 3125/3125 [05:05<00:00, 10.23it/s, bits_per_dim=0.9840]\n",
            "Evaluate:   0%|          | 0/625 [00:00<?, ?it/s]"
          ],
          "name": "stderr"
        },
        {
          "output_type": "stream",
          "text": [
            "train_bits_per_dim tensor(0.9840, device='cuda:0', grad_fn=<DivBackward0>) 37500\n",
            "lr 0.0005 37500\n"
          ],
          "name": "stdout"
        },
        {
          "output_type": "stream",
          "text": [
            "Evaluate: 100%|██████████| 625/625 [00:21<00:00, 29.39it/s]\n",
            "Generating 4 images:   0%|          | 11/3072 [00:00<00:29, 103.25it/s]"
          ],
          "name": "stderr"
        },
        {
          "output_type": "stream",
          "text": [
            "eval_bits_per_dim 0.9944010859021137 37500\n"
          ],
          "name": "stdout"
        },
        {
          "output_type": "stream",
          "text": [
            "Generating 4 images: 100%|██████████| 3072/3072 [00:29<00:00, 102.75it/s]\n",
            "epoch 12/20: 100%|██████████| 3125/3125 [05:05<00:00, 10.24it/s, bits_per_dim=1.0354]\n",
            "Evaluate:   0%|          | 0/625 [00:00<?, ?it/s]"
          ],
          "name": "stderr"
        },
        {
          "output_type": "stream",
          "text": [
            "train_bits_per_dim tensor(1.0354, device='cuda:0', grad_fn=<DivBackward0>) 40625\n",
            "lr 0.0005 40625\n"
          ],
          "name": "stdout"
        },
        {
          "output_type": "stream",
          "text": [
            "Evaluate: 100%|██████████| 625/625 [00:21<00:00, 29.27it/s]\n",
            "Generating 4 images:   0%|          | 11/3072 [00:00<00:29, 102.59it/s]"
          ],
          "name": "stderr"
        },
        {
          "output_type": "stream",
          "text": [
            "eval_bits_per_dim 0.989891835447441 40625\n"
          ],
          "name": "stdout"
        },
        {
          "output_type": "stream",
          "text": [
            "Generating 4 images: 100%|██████████| 3072/3072 [00:29<00:00, 102.69it/s]\n",
            "epoch 13/20: 100%|██████████| 3125/3125 [05:04<00:00, 10.25it/s, bits_per_dim=1.1000]\n",
            "Evaluate:   0%|          | 0/625 [00:00<?, ?it/s]"
          ],
          "name": "stderr"
        },
        {
          "output_type": "stream",
          "text": [
            "train_bits_per_dim tensor(1.1000, device='cuda:0', grad_fn=<DivBackward0>) 43750\n",
            "lr 0.0005 43750\n"
          ],
          "name": "stdout"
        },
        {
          "output_type": "stream",
          "text": [
            "Evaluate: 100%|██████████| 625/625 [00:21<00:00, 29.41it/s]\n",
            "Generating 4 images:   0%|          | 11/3072 [00:00<00:29, 102.42it/s]"
          ],
          "name": "stderr"
        },
        {
          "output_type": "stream",
          "text": [
            "eval_bits_per_dim 1.008334853174496 43750\n"
          ],
          "name": "stdout"
        },
        {
          "output_type": "stream",
          "text": [
            "Generating 4 images: 100%|██████████| 3072/3072 [00:29<00:00, 102.96it/s]\n",
            "epoch 14/20:   3%|▎         | 90/3125 [00:09<05:06,  9.91it/s, bits_per_dim=0.9425]\n"
          ],
          "name": "stderr"
        },
        {
          "output_type": "error",
          "ename": "KeyboardInterrupt",
          "evalue": "ignored",
          "traceback": [
            "\u001b[0;31m---------------------------------------------------------------------------\u001b[0m",
            "\u001b[0;31mKeyboardInterrupt\u001b[0m                         Traceback (most recent call last)",
            "\u001b[0;32m<ipython-input-46-a5bf70d99a8c>\u001b[0m in \u001b[0;36m<module>\u001b[0;34m()\u001b[0m\n\u001b[1;32m     15\u001b[0m \u001b[0;34m\u001b[0m\u001b[0m\n\u001b[1;32m     16\u001b[0m \u001b[0;32mif\u001b[0m \u001b[0margs\u001b[0m\u001b[0;34m.\u001b[0m\u001b[0mtrain\u001b[0m\u001b[0;34m:\u001b[0m\u001b[0;34m\u001b[0m\u001b[0;34m\u001b[0m\u001b[0m\n\u001b[0;32m---> 17\u001b[0;31m     \u001b[0mtrain_and_evaluate\u001b[0m\u001b[0;34m(\u001b[0m\u001b[0mmodel\u001b[0m\u001b[0;34m,\u001b[0m \u001b[0mtrain_dataloader\u001b[0m\u001b[0;34m,\u001b[0m \u001b[0mtest_dataloader\u001b[0m\u001b[0;34m,\u001b[0m \u001b[0moptimizer\u001b[0m\u001b[0;34m,\u001b[0m \u001b[0mscheduler\u001b[0m\u001b[0;34m,\u001b[0m \u001b[0mloss_fn\u001b[0m\u001b[0;34m,\u001b[0m \u001b[0mgenerate_fn\u001b[0m\u001b[0;34m)\u001b[0m\u001b[0;34m\u001b[0m\u001b[0;34m\u001b[0m\u001b[0m\n\u001b[0m\u001b[1;32m     18\u001b[0m \u001b[0;34m\u001b[0m\u001b[0m\n\u001b[1;32m     19\u001b[0m \u001b[0;31m#if args.evaluate:\u001b[0m\u001b[0;34m\u001b[0m\u001b[0;34m\u001b[0m\u001b[0;34m\u001b[0m\u001b[0m\n",
            "\u001b[0;32m<ipython-input-45-758c135bf46f>\u001b[0m in \u001b[0;36mtrain_and_evaluate\u001b[0;34m(model, train_dataloader, test_dataloader, optimizer, scheduler, loss_fn, generate_fn)\u001b[0m\n\u001b[1;32m     78\u001b[0m     \u001b[0;32mfor\u001b[0m \u001b[0mepoch\u001b[0m \u001b[0;32min\u001b[0m \u001b[0mrange\u001b[0m\u001b[0;34m(\u001b[0m\u001b[0margs\u001b[0m\u001b[0;34m.\u001b[0m\u001b[0mstart_epoch\u001b[0m\u001b[0;34m,\u001b[0m \u001b[0margs\u001b[0m\u001b[0;34m.\u001b[0m\u001b[0mstart_epoch\u001b[0m \u001b[0;34m+\u001b[0m \u001b[0margs\u001b[0m\u001b[0;34m.\u001b[0m\u001b[0mn_epochs\u001b[0m\u001b[0;34m)\u001b[0m\u001b[0;34m:\u001b[0m\u001b[0;34m\u001b[0m\u001b[0;34m\u001b[0m\u001b[0m\n\u001b[1;32m     79\u001b[0m         \u001b[0;31m# train\u001b[0m\u001b[0;34m\u001b[0m\u001b[0;34m\u001b[0m\u001b[0;34m\u001b[0m\u001b[0m\n\u001b[0;32m---> 80\u001b[0;31m         \u001b[0mtrain_epoch\u001b[0m\u001b[0;34m(\u001b[0m\u001b[0mmodel\u001b[0m\u001b[0;34m,\u001b[0m \u001b[0mtrain_dataloader\u001b[0m\u001b[0;34m,\u001b[0m \u001b[0moptimizer\u001b[0m\u001b[0;34m,\u001b[0m \u001b[0mscheduler\u001b[0m\u001b[0;34m,\u001b[0m \u001b[0mloss_fn\u001b[0m\u001b[0;34m,\u001b[0m \u001b[0mepoch\u001b[0m\u001b[0;34m)\u001b[0m\u001b[0;34m\u001b[0m\u001b[0;34m\u001b[0m\u001b[0m\n\u001b[0m\u001b[1;32m     81\u001b[0m \u001b[0;34m\u001b[0m\u001b[0m\n\u001b[1;32m     82\u001b[0m         \u001b[0;32mif\u001b[0m \u001b[0;34m(\u001b[0m\u001b[0mepoch\u001b[0m\u001b[0;34m+\u001b[0m\u001b[0;36m1\u001b[0m\u001b[0;34m)\u001b[0m \u001b[0;34m%\u001b[0m \u001b[0margs\u001b[0m\u001b[0;34m.\u001b[0m\u001b[0meval_interval\u001b[0m \u001b[0;34m==\u001b[0m \u001b[0;36m0\u001b[0m\u001b[0;34m:\u001b[0m\u001b[0;34m\u001b[0m\u001b[0;34m\u001b[0m\u001b[0m\n",
            "\u001b[0;32m<ipython-input-45-758c135bf46f>\u001b[0m in \u001b[0;36mtrain_epoch\u001b[0;34m(model, dataloader, optimizer, scheduler, loss_fn, epoch)\u001b[0m\n\u001b[1;32m     33\u001b[0m             \u001b[0;32mif\u001b[0m \u001b[0mscheduler\u001b[0m\u001b[0;34m:\u001b[0m \u001b[0mscheduler\u001b[0m\u001b[0;34m.\u001b[0m\u001b[0mstep\u001b[0m\u001b[0;34m(\u001b[0m\u001b[0;34m)\u001b[0m\u001b[0;34m\u001b[0m\u001b[0;34m\u001b[0m\u001b[0m\n\u001b[1;32m     34\u001b[0m \u001b[0;34m\u001b[0m\u001b[0m\n\u001b[0;32m---> 35\u001b[0;31m             \u001b[0mpbar\u001b[0m\u001b[0;34m.\u001b[0m\u001b[0mset_postfix\u001b[0m\u001b[0;34m(\u001b[0m\u001b[0mbits_per_dim\u001b[0m\u001b[0;34m=\u001b[0m\u001b[0;34m'{:.4f}'\u001b[0m\u001b[0;34m.\u001b[0m\u001b[0mformat\u001b[0m\u001b[0;34m(\u001b[0m\u001b[0mloss\u001b[0m \u001b[0;34m/\u001b[0m \u001b[0;34m(\u001b[0m\u001b[0mnp\u001b[0m\u001b[0;34m.\u001b[0m\u001b[0mlog\u001b[0m\u001b[0;34m(\u001b[0m\u001b[0;36m2\u001b[0m\u001b[0;34m)\u001b[0m \u001b[0;34m*\u001b[0m \u001b[0mnp\u001b[0m\u001b[0;34m.\u001b[0m\u001b[0mprod\u001b[0m\u001b[0;34m(\u001b[0m\u001b[0margs\u001b[0m\u001b[0;34m.\u001b[0m\u001b[0mimage_dims\u001b[0m\u001b[0;34m)\u001b[0m\u001b[0;34m)\u001b[0m\u001b[0;34m)\u001b[0m\u001b[0;34m)\u001b[0m\u001b[0;34m\u001b[0m\u001b[0;34m\u001b[0m\u001b[0m\n\u001b[0m\u001b[1;32m     36\u001b[0m             \u001b[0mpbar\u001b[0m\u001b[0;34m.\u001b[0m\u001b[0mupdate\u001b[0m\u001b[0;34m(\u001b[0m\u001b[0;34m)\u001b[0m\u001b[0;34m\u001b[0m\u001b[0;34m\u001b[0m\u001b[0m\n\u001b[1;32m     37\u001b[0m \u001b[0;34m\u001b[0m\u001b[0m\n",
            "\u001b[0;32m/usr/local/lib/python3.7/dist-packages/torch/_tensor.py\u001b[0m in \u001b[0;36m__format__\u001b[0;34m(self, format_spec)\u001b[0m\n\u001b[1;32m    558\u001b[0m             \u001b[0;32mreturn\u001b[0m \u001b[0mhandle_torch_function\u001b[0m\u001b[0;34m(\u001b[0m\u001b[0mTensor\u001b[0m\u001b[0;34m.\u001b[0m\u001b[0m__format__\u001b[0m\u001b[0;34m,\u001b[0m \u001b[0;34m(\u001b[0m\u001b[0mself\u001b[0m\u001b[0;34m,\u001b[0m\u001b[0;34m)\u001b[0m\u001b[0;34m,\u001b[0m \u001b[0mself\u001b[0m\u001b[0;34m,\u001b[0m \u001b[0mformat_spec\u001b[0m\u001b[0;34m)\u001b[0m\u001b[0;34m\u001b[0m\u001b[0;34m\u001b[0m\u001b[0m\n\u001b[1;32m    559\u001b[0m         \u001b[0;32mif\u001b[0m \u001b[0mself\u001b[0m\u001b[0;34m.\u001b[0m\u001b[0mdim\u001b[0m\u001b[0;34m(\u001b[0m\u001b[0;34m)\u001b[0m \u001b[0;34m==\u001b[0m \u001b[0;36m0\u001b[0m\u001b[0;34m:\u001b[0m\u001b[0;34m\u001b[0m\u001b[0;34m\u001b[0m\u001b[0m\n\u001b[0;32m--> 560\u001b[0;31m             \u001b[0;32mreturn\u001b[0m \u001b[0mself\u001b[0m\u001b[0;34m.\u001b[0m\u001b[0mitem\u001b[0m\u001b[0;34m(\u001b[0m\u001b[0;34m)\u001b[0m\u001b[0;34m.\u001b[0m\u001b[0m__format__\u001b[0m\u001b[0;34m(\u001b[0m\u001b[0mformat_spec\u001b[0m\u001b[0;34m)\u001b[0m\u001b[0;34m\u001b[0m\u001b[0;34m\u001b[0m\u001b[0m\n\u001b[0m\u001b[1;32m    561\u001b[0m         \u001b[0;32mreturn\u001b[0m \u001b[0mobject\u001b[0m\u001b[0;34m.\u001b[0m\u001b[0m__format__\u001b[0m\u001b[0;34m(\u001b[0m\u001b[0mself\u001b[0m\u001b[0;34m,\u001b[0m \u001b[0mformat_spec\u001b[0m\u001b[0;34m)\u001b[0m\u001b[0;34m\u001b[0m\u001b[0;34m\u001b[0m\u001b[0m\n\u001b[1;32m    562\u001b[0m \u001b[0;34m\u001b[0m\u001b[0m\n",
            "\u001b[0;31mKeyboardInterrupt\u001b[0m: "
          ]
        }
      ]
    },
    {
      "cell_type": "markdown",
      "metadata": {
        "id": "qc3Z_qCuBITz"
      },
      "source": [
        "# Self-supervised training -> Mode 2: Feeding pixelCNN with only top half of images\n",
        "\n",
        "14 epochs\n",
        "\n",
        "reconstructed images still in the bottom contain 0 pixels! this is because model was not deep enough to propagate information from top to bottom of image!\n",
        "\n",
        "But it is still ok! Generated images (not present here) when feeding image pixels by correct ordering look aweseome!"
      ]
    },
    {
      "cell_type": "code",
      "metadata": {
        "colab": {
          "base_uri": "https://localhost:8080/",
          "height": 0
        },
        "id": "ACCbuddIynrK",
        "outputId": "6e3ee407-3ade-4d8f-fb04-e977752b902e"
      },
      "source": [
        "args.output_dir = '/content/drive/MyDrive/ADL/3_4/pixelcnn_half/'\n",
        "\n",
        "args.restore_file = os.path.join(args.output_dir, 'checkpoint.pt')\n",
        "\n",
        "half_representation = True # Use all data to predict all data\n",
        "\n",
        "args.start_epoch = 0\n",
        "args.n_epochs = 10\n",
        "args.step = 0\n",
        "\n",
        "if args.restore_file: # Resume training\n",
        "    print('loading from checkpoint')\n",
        "    model_checkpoint = torch.load(args.restore_file, map_location=args.device)\n",
        "    model.load_state_dict(model_checkpoint['state_dict'])\n",
        "    optimizer.load_state_dict(torch.load(os.path.dirname(args.restore_file) + '/optim_checkpoint.pt', map_location=args.device))\n",
        "    args.start_epoch = model_checkpoint['epoch'] + 1\n",
        "    args.step = model_checkpoint['global_step']\n",
        "    print('epoch and loss: ')\n",
        "    print(args.start_epoch, )\n",
        "\n",
        "if args.train:\n",
        "    train_and_evaluate(model, train_dataloader, test_dataloader, optimizer, scheduler, loss_fn, generate_fn)\n"
      ],
      "execution_count": 9,
      "outputs": [
        {
          "output_type": "stream",
          "text": [
            "loading from checkpoint\n"
          ],
          "name": "stdout"
        },
        {
          "output_type": "stream",
          "text": [
            "\repoch 4/14:   0%|          | 0/3125 [00:00<?, ?it/s]"
          ],
          "name": "stderr"
        },
        {
          "output_type": "stream",
          "text": [
            "epoch and loss: \n",
            "4\n"
          ],
          "name": "stdout"
        },
        {
          "output_type": "stream",
          "text": [
            "/usr/local/lib/python3.7/dist-packages/torch/utils/data/dataloader.py:481: UserWarning: This DataLoader will create 4 worker processes in total. Our suggested max number of worker in current system is 2, which is smaller than what this DataLoader is going to create. Please be aware that excessive worker creation might get DataLoader running slow or even freeze, lower the worker number to avoid potential slowness/freeze if necessary.\n",
            "  cpuset_checked))\n",
            "epoch 4/14: 100%|█████████▉| 3124/3125 [04:09<00:00, 12.35it/s, bits_per_dim=2.2612]Clipping input data to the valid range for imshow with RGB data ([0..1] for floats or [0..255] for integers).\n",
            "Clipping input data to the valid range for imshow with RGB data ([0..1] for floats or [0..255] for integers).\n",
            "Clipping input data to the valid range for imshow with RGB data ([0..1] for floats or [0..255] for integers).\n"
          ],
          "name": "stderr"
        },
        {
          "output_type": "stream",
          "text": [
            "train_bits_per_dim tensor(2.2612, device='cuda:0', grad_fn=<DivBackward0>) 15625\n",
            "lr 0.0005 15625\n"
          ],
          "name": "stdout"
        },
        {
          "output_type": "display_data",
          "data": {
            "image/png": "[encoded data removed]",
            "text/plain": [
              "<Figure size 288x720 with 3 Axes>"
            ]
          },
          "metadata": {
            "tags": [],
            "needs_background": "light"
          }
        },
        {
          "output_type": "stream",
          "text": [
            "epoch 4/14: 100%|██████████| 3125/3125 [04:10<00:00, 12.50it/s, bits_per_dim=2.2612]\n",
            "Evaluate: 100%|██████████| 625/625 [00:16<00:00, 38.27it/s]\n",
            "Generating 4 images:   1%|          | 16/3072 [00:00<00:19, 155.33it/s]"
          ],
          "name": "stderr"
        },
        {
          "output_type": "stream",
          "text": [
            "eval_bits_per_dim 1.0514211719354656 15625\n"
          ],
          "name": "stdout"
        },
        {
          "output_type": "stream",
          "text": [
            "Generating 4 images: 100%|██████████| 3072/3072 [00:20<00:00, 147.98it/s]\n",
            "epoch 5/14: 100%|██████████| 3125/3125 [04:17<00:00, 12.22it/s, bits_per_dim=2.1673]Clipping input data to the valid range for imshow with RGB data ([0..1] for floats or [0..255] for integers).\n",
            "Clipping input data to the valid range for imshow with RGB data ([0..1] for floats or [0..255] for integers).\n",
            "Clipping input data to the valid range for imshow with RGB data ([0..1] for floats or [0..255] for integers).\n"
          ],
          "name": "stderr"
        },
        {
          "output_type": "stream",
          "text": [
            "train_bits_per_dim tensor(2.1673, device='cuda:0', grad_fn=<DivBackward0>) 18750\n",
            "lr 0.0005 18750\n"
          ],
          "name": "stdout"
        },
        {
          "output_type": "display_data",
          "data": {
            "image/png": "[encoded data removed]",
            "text/plain": [
              "<Figure size 288x720 with 3 Axes>"
            ]
          },
          "metadata": {
            "tags": [],
            "needs_background": "light"
          }
        },
        {
          "output_type": "stream",
          "text": [
            "epoch 5/14: 100%|██████████| 3125/3125 [04:17<00:00, 12.14it/s, bits_per_dim=2.1673]\n",
            "Evaluate: 100%|██████████| 625/625 [00:16<00:00, 37.96it/s]\n",
            "Generating 4 images:   1%|          | 16/3072 [00:00<00:19, 159.35it/s]"
          ],
          "name": "stderr"
        },
        {
          "output_type": "stream",
          "text": [
            "eval_bits_per_dim 1.0302559519974885 18750\n"
          ],
          "name": "stdout"
        },
        {
          "output_type": "stream",
          "text": [
            "Generating 4 images: 100%|██████████| 3072/3072 [00:20<00:00, 148.24it/s]\n",
            "epoch 6/14: 100%|██████████| 3125/3125 [04:17<00:00, 12.31it/s, bits_per_dim=2.2290]Clipping input data to the valid range for imshow with RGB data ([0..1] for floats or [0..255] for integers).\n",
            "Clipping input data to the valid range for imshow with RGB data ([0..1] for floats or [0..255] for integers).\n",
            "Clipping input data to the valid range for imshow with RGB data ([0..1] for floats or [0..255] for integers).\n"
          ],
          "name": "stderr"
        },
        {
          "output_type": "stream",
          "text": [
            "train_bits_per_dim tensor(2.2290, device='cuda:0', grad_fn=<DivBackward0>) 21875\n",
            "lr 0.0005 21875\n"
          ],
          "name": "stdout"
        },
        {
          "output_type": "display_data",
          "data": {
            "image/png": "[encoded data removed]",
            "text/plain": [
              "<Figure size 288x720 with 3 Axes>"
            ]
          },
          "metadata": {
            "tags": [],
            "needs_background": "light"
          }
        },
        {
          "output_type": "stream",
          "text": [
            "epoch 6/14: 100%|██████████| 3125/3125 [04:17<00:00, 12.12it/s, bits_per_dim=2.2290]\n",
            "Evaluate: 100%|██████████| 625/625 [00:16<00:00, 38.10it/s]\n",
            "Generating 4 images:   1%|          | 16/3072 [00:00<00:19, 158.67it/s]"
          ],
          "name": "stderr"
        },
        {
          "output_type": "stream",
          "text": [
            "eval_bits_per_dim 1.0319661959079829 21875\n"
          ],
          "name": "stdout"
        },
        {
          "output_type": "stream",
          "text": [
            "Generating 4 images: 100%|██████████| 3072/3072 [00:20<00:00, 148.35it/s]\n",
            "epoch 7/14: 100%|██████████| 3125/3125 [04:17<00:00, 12.22it/s, bits_per_dim=2.2239]Clipping input data to the valid range for imshow with RGB data ([0..1] for floats or [0..255] for integers).\n",
            "Clipping input data to the valid range for imshow with RGB data ([0..1] for floats or [0..255] for integers).\n",
            "Clipping input data to the valid range for imshow with RGB data ([0..1] for floats or [0..255] for integers).\n"
          ],
          "name": "stderr"
        },
        {
          "output_type": "stream",
          "text": [
            "train_bits_per_dim tensor(2.2239, device='cuda:0', grad_fn=<DivBackward0>) 25000\n",
            "lr 0.0005 25000\n"
          ],
          "name": "stdout"
        },
        {
          "output_type": "display_data",
          "data": {
            "image/png": "[encoded data removed]",
            "text/plain": [
              "<Figure size 288x720 with 3 Axes>"
            ]
          },
          "metadata": {
            "tags": [],
            "needs_background": "light"
          }
        },
        {
          "output_type": "stream",
          "text": [
            "epoch 7/14: 100%|██████████| 3125/3125 [04:18<00:00, 12.10it/s, bits_per_dim=2.2239]\n",
            "Evaluate: 100%|██████████| 625/625 [00:16<00:00, 38.01it/s]\n",
            "Generating 4 images:   1%|          | 16/3072 [00:00<00:19, 156.20it/s]"
          ],
          "name": "stderr"
        },
        {
          "output_type": "stream",
          "text": [
            "eval_bits_per_dim 1.0238450720363745 25000\n"
          ],
          "name": "stdout"
        },
        {
          "output_type": "stream",
          "text": [
            "Generating 4 images: 100%|██████████| 3072/3072 [00:20<00:00, 148.05it/s]\n",
            "epoch 8/14: 100%|██████████| 3125/3125 [04:17<00:00, 12.29it/s, bits_per_dim=2.3038]Clipping input data to the valid range for imshow with RGB data ([0..1] for floats or [0..255] for integers).\n",
            "Clipping input data to the valid range for imshow with RGB data ([0..1] for floats or [0..255] for integers).\n",
            "Clipping input data to the valid range for imshow with RGB data ([0..1] for floats or [0..255] for integers).\n"
          ],
          "name": "stderr"
        },
        {
          "output_type": "stream",
          "text": [
            "train_bits_per_dim tensor(2.3038, device='cuda:0', grad_fn=<DivBackward0>) 28125\n",
            "lr 0.0005 28125\n"
          ],
          "name": "stdout"
        },
        {
          "output_type": "display_data",
          "data": {
            "image/png": "[encoded data removed]",
            "text/plain": [
              "<Figure size 288x720 with 3 Axes>"
            ]
          },
          "metadata": {
            "tags": [],
            "needs_background": "light"
          }
        },
        {
          "output_type": "stream",
          "text": [
            "epoch 8/14: 100%|██████████| 3125/3125 [04:17<00:00, 12.11it/s, bits_per_dim=2.3038]\n",
            "Evaluate: 100%|██████████| 625/625 [00:16<00:00, 38.08it/s]\n",
            "Generating 4 images:   1%|          | 17/3072 [00:00<00:19, 160.59it/s]"
          ],
          "name": "stderr"
        },
        {
          "output_type": "stream",
          "text": [
            "eval_bits_per_dim 1.0156165157851826 28125\n"
          ],
          "name": "stdout"
        },
        {
          "output_type": "stream",
          "text": [
            "Generating 4 images: 100%|██████████| 3072/3072 [00:20<00:00, 148.04it/s]\n",
            "epoch 9/14: 100%|██████████| 3125/3125 [04:18<00:00, 12.30it/s, bits_per_dim=2.2789]Clipping input data to the valid range for imshow with RGB data ([0..1] for floats or [0..255] for integers).\n",
            "Clipping input data to the valid range for imshow with RGB data ([0..1] for floats or [0..255] for integers).\n",
            "Clipping input data to the valid range for imshow with RGB data ([0..1] for floats or [0..255] for integers).\n"
          ],
          "name": "stderr"
        },
        {
          "output_type": "stream",
          "text": [
            "train_bits_per_dim tensor(2.2789, device='cuda:0', grad_fn=<DivBackward0>) 31250\n",
            "lr 0.0005 31250\n"
          ],
          "name": "stdout"
        },
        {
          "output_type": "display_data",
          "data": {
            "image/png": "[encoded data removed]",
            "text/plain": [
              "<Figure size 288x720 with 3 Axes>"
            ]
          },
          "metadata": {
            "tags": [],
            "needs_background": "light"
          }
        },
        {
          "output_type": "stream",
          "text": [
            "epoch 9/14: 100%|██████████| 3125/3125 [04:19<00:00, 12.06it/s, bits_per_dim=2.2789]\n",
            "Evaluate: 100%|██████████| 625/625 [00:16<00:00, 37.91it/s]\n",
            "Generating 4 images:   1%|          | 17/3072 [00:00<00:19, 160.47it/s]"
          ],
          "name": "stderr"
        },
        {
          "output_type": "stream",
          "text": [
            "eval_bits_per_dim 1.0269423360302277 31250\n"
          ],
          "name": "stdout"
        },
        {
          "output_type": "stream",
          "text": [
            "Generating 4 images: 100%|██████████| 3072/3072 [00:20<00:00, 148.33it/s]\n",
            "epoch 10/14: 100%|██████████| 3125/3125 [04:18<00:00, 12.25it/s, bits_per_dim=2.1654]Clipping input data to the valid range for imshow with RGB data ([0..1] for floats or [0..255] for integers).\n",
            "Clipping input data to the valid range for imshow with RGB data ([0..1] for floats or [0..255] for integers).\n",
            "Clipping input data to the valid range for imshow with RGB data ([0..1] for floats or [0..255] for integers).\n"
          ],
          "name": "stderr"
        },
        {
          "output_type": "stream",
          "text": [
            "train_bits_per_dim tensor(2.1654, device='cuda:0', grad_fn=<DivBackward0>) 34375\n",
            "lr 0.0005 34375\n"
          ],
          "name": "stdout"
        },
        {
          "output_type": "display_data",
          "data": {
            "image/png": "[encoded data removed]",
            "text/plain": [
              "<Figure size 288x720 with 3 Axes>"
            ]
          },
          "metadata": {
            "tags": [],
            "needs_background": "light"
          }
        },
        {
          "output_type": "stream",
          "text": [
            "epoch 10/14: 100%|██████████| 3125/3125 [04:19<00:00, 12.05it/s, bits_per_dim=2.1654]\n",
            "Evaluate: 100%|██████████| 625/625 [00:16<00:00, 37.91it/s]\n",
            "Generating 4 images:   1%|          | 17/3072 [00:00<00:18, 161.81it/s]"
          ],
          "name": "stderr"
        },
        {
          "output_type": "stream",
          "text": [
            "eval_bits_per_dim 1.0108953771094782 34375\n"
          ],
          "name": "stdout"
        },
        {
          "output_type": "stream",
          "text": [
            "Generating 4 images: 100%|██████████| 3072/3072 [00:20<00:00, 148.01it/s]\n",
            "epoch 11/14: 100%|██████████| 3125/3125 [04:19<00:00, 12.02it/s, bits_per_dim=2.2348]Clipping input data to the valid range for imshow with RGB data ([0..1] for floats or [0..255] for integers).\n",
            "Clipping input data to the valid range for imshow with RGB data ([0..1] for floats or [0..255] for integers).\n",
            "Clipping input data to the valid range for imshow with RGB data ([0..1] for floats or [0..255] for integers).\n"
          ],
          "name": "stderr"
        },
        {
          "output_type": "stream",
          "text": [
            "train_bits_per_dim tensor(2.2348, device='cuda:0', grad_fn=<DivBackward0>) 37500\n",
            "lr 0.0005 37500\n"
          ],
          "name": "stdout"
        },
        {
          "output_type": "display_data",
          "data": {
            "image/png": "[encoded data removed]",
            "text/plain": [
              "<Figure size 288x720 with 3 Axes>"
            ]
          },
          "metadata": {
            "tags": [],
            "needs_background": "light"
          }
        },
        {
          "output_type": "stream",
          "text": [
            "epoch 11/14: 100%|██████████| 3125/3125 [04:19<00:00, 12.03it/s, bits_per_dim=2.2348]\n",
            "Evaluate: 100%|██████████| 625/625 [00:16<00:00, 37.99it/s]\n",
            "Generating 4 images:   1%|          | 16/3072 [00:00<00:19, 156.97it/s]"
          ],
          "name": "stderr"
        },
        {
          "output_type": "stream",
          "text": [
            "eval_bits_per_dim 1.0087695126787064 37500\n"
          ],
          "name": "stdout"
        },
        {
          "output_type": "stream",
          "text": [
            "Generating 4 images: 100%|██████████| 3072/3072 [00:20<00:00, 147.79it/s]\n",
            "epoch 12/14: 100%|██████████| 3125/3125 [04:21<00:00, 12.24it/s, bits_per_dim=2.2713]Clipping input data to the valid range for imshow with RGB data ([0..1] for floats or [0..255] for integers).\n",
            "Clipping input data to the valid range for imshow with RGB data ([0..1] for floats or [0..255] for integers).\n",
            "Clipping input data to the valid range for imshow with RGB data ([0..1] for floats or [0..255] for integers).\n"
          ],
          "name": "stderr"
        },
        {
          "output_type": "stream",
          "text": [
            "train_bits_per_dim tensor(2.2713, device='cuda:0', grad_fn=<DivBackward0>) 40625\n",
            "lr 0.0005 40625\n"
          ],
          "name": "stdout"
        },
        {
          "output_type": "display_data",
          "data": {
            "image/png": "[encoded data removed]",
            "text/plain": [
              "<Figure size 288x720 with 3 Axes>"
            ]
          },
          "metadata": {
            "tags": [],
            "needs_background": "light"
          }
        },
        {
          "output_type": "stream",
          "text": [
            "epoch 12/14: 100%|██████████| 3125/3125 [04:21<00:00, 11.94it/s, bits_per_dim=2.2713]\n",
            "Evaluate: 100%|██████████| 625/625 [00:16<00:00, 37.58it/s]\n",
            "Generating 4 images:   1%|          | 16/3072 [00:00<00:19, 159.44it/s]"
          ],
          "name": "stderr"
        },
        {
          "output_type": "stream",
          "text": [
            "eval_bits_per_dim 1.00978259707567 40625\n"
          ],
          "name": "stdout"
        },
        {
          "output_type": "stream",
          "text": [
            "Generating 4 images: 100%|██████████| 3072/3072 [00:20<00:00, 147.79it/s]\n",
            "epoch 13/14: 100%|██████████| 3125/3125 [04:21<00:00, 12.05it/s, bits_per_dim=2.3405]Clipping input data to the valid range for imshow with RGB data ([0..1] for floats or [0..255] for integers).\n",
            "Clipping input data to the valid range for imshow with RGB data ([0..1] for floats or [0..255] for integers).\n",
            "Clipping input data to the valid range for imshow with RGB data ([0..1] for floats or [0..255] for integers).\n"
          ],
          "name": "stderr"
        },
        {
          "output_type": "stream",
          "text": [
            "train_bits_per_dim tensor(2.3405, device='cuda:0', grad_fn=<DivBackward0>) 43750\n",
            "lr 0.0005 43750\n"
          ],
          "name": "stdout"
        },
        {
          "output_type": "display_data",
          "data": {
            "image/png": "[encoded data removed]",
            "text/plain": [
              "<Figure size 288x720 with 3 Axes>"
            ]
          },
          "metadata": {
            "tags": [],
            "needs_background": "light"
          }
        },
        {
          "output_type": "stream",
          "text": [
            "epoch 13/14: 100%|██████████| 3125/3125 [04:21<00:00, 11.94it/s, bits_per_dim=2.3405]\n",
            "Evaluate: 100%|██████████| 625/625 [00:16<00:00, 37.74it/s]\n",
            "Generating 4 images:   1%|          | 17/3072 [00:00<00:19, 159.75it/s]"
          ],
          "name": "stderr"
        },
        {
          "output_type": "stream",
          "text": [
            "eval_bits_per_dim 1.0035681703742243 43750\n"
          ],
          "name": "stdout"
        },
        {
          "output_type": "stream",
          "text": [
            "Generating 4 images: 100%|██████████| 3072/3072 [00:20<00:00, 148.23it/s]\n"
          ],
          "name": "stderr"
        }
      ]
    },
    {
      "cell_type": "markdown",
      "metadata": {
        "id": "o4kitVPTGRg4"
      },
      "source": [
        "# Mode 1 Finetuned ResNet18 Classifier\n",
        "\n",
        "5 epochs only... (I have 1 hour left to the deadline =)) ) Test accuracy: 32.76\n",
        "\n",
        "Random results..."
      ]
    },
    {
      "cell_type": "code",
      "metadata": {
        "colab": {
          "base_uri": "https://localhost:8080/",
          "height": 1000,
          "referenced_widgets": [
            "0f47f1680b614505b6f403269acd88d4",
            "7efca7a47e6a445c849754ddca9846ba",
            "3897c89e1096457d9551f22391859e7f",
            "08bf1b46b1d745729bdf1f7fced72522",
            "1650c41455144a36968d458a2bc7eff1",
            "ebe3117edade4c68ba18ca167c5fdc7f",
            "e7f02667a9c6480f8330456cbe795738",
            "e28c1e231d114d9ab82b6fa197190b14"
          ]
        },
        "id": "8MSPOK98GQQi",
        "outputId": "6faddac1-d77d-4e4a-f818-904008f44b2b"
      },
      "source": [
        "args.output_dir = '/content/drive/MyDrive/ADL/3_4/pixelcnn/'\n",
        "\n",
        "args.restore_file = os.path.join(args.output_dir, 'checkpoint.pt')\n",
        "\n",
        "half_representation = False # Use all data to predict all data\n",
        "\n",
        "args.start_epoch = 0\n",
        "args.n_epochs = 10\n",
        "args.step = 0\n",
        "\n",
        "if args.restore_file: # Load from checkpoint\n",
        "    print('loading from checkpoint')\n",
        "    model_checkpoint = torch.load(args.restore_file, map_location=args.device)\n",
        "    model.load_state_dict(model_checkpoint['state_dict'])\n",
        "    optimizer.load_state_dict(torch.load(os.path.dirname(args.restore_file) + '/optim_checkpoint.pt', map_location=args.device))\n",
        "    args.start_epoch = model_checkpoint['epoch'] + 1\n",
        "    args.step = model_checkpoint['global_step']\n",
        "    print('epoch and loss: ')\n",
        "    print(args.start_epoch, )\n",
        "\n",
        "# Train classifier\n",
        "finetune_resnet18(model, train_dataloader, test_dataloader)\n",
        "\n"
      ],
      "execution_count": 9,
      "outputs": [
        {
          "output_type": "stream",
          "text": [
            "loading from checkpoint\n",
            "epoch and loss: \n",
            "14\n"
          ],
          "name": "stdout"
        },
        {
          "output_type": "stream",
          "text": [
            "Downloading: \"https://download.pytorch.org/models/resnet18-f37072fd.pth\" to /root/.cache/torch/hub/checkpoints/resnet18-f37072fd.pth\n"
          ],
          "name": "stderr"
        },
        {
          "output_type": "display_data",
          "data": {
            "application/vnd.jupyter.widget-view+json": {
              "model_id": "0f47f1680b614505b6f403269acd88d4",
              "version_minor": 0,
              "version_major": 2
            },
            "text/plain": [
              "HBox(children=(FloatProgress(value=0.0, max=46830571.0), HTML(value='')))"
            ]
          },
          "metadata": {
            "tags": []
          }
        },
        {
          "output_type": "stream",
          "text": [
            "\n"
          ],
          "name": "stdout"
        },
        {
          "output_type": "stream",
          "text": [
            "/usr/local/lib/python3.7/dist-packages/torch/utils/data/dataloader.py:481: UserWarning: This DataLoader will create 4 worker processes in total. Our suggested max number of worker in current system is 2, which is smaller than what this DataLoader is going to create. Please be aware that excessive worker creation might get DataLoader running slow or even freeze, lower the worker number to avoid potential slowness/freeze if necessary.\n",
            "  cpuset_checked))\n",
            "/usr/local/lib/python3.7/dist-packages/torch/nn/functional.py:718: UserWarning: Named tensors and all their associated APIs are an experimental feature and subject to change. Please do not use them for anything important until they are released as stable. (Triggered internally at  /pytorch/c10/core/TensorImpl.h:1156.)\n",
            "  return torch.max_pool2d(input, kernel_size, stride, padding, dilation, ceil_mode)\n"
          ],
          "name": "stderr"
        },
        {
          "output_type": "stream",
          "text": [
            "Epoch 0\t Train accuracy 24.71\t Test accuracy: 32.75\n",
            "Epoch 1\t Train accuracy 30.322\t Test accuracy: 27.69\n",
            "Epoch 2\t Train accuracy 30.34\t Test accuracy: 32.76\n",
            "Epoch 3\t Train accuracy 30.208\t Test accuracy: 30.5\n",
            "Epoch 4\t Train accuracy 30.632\t Test accuracy: 28.86\n",
            "Epoch 5\t Train accuracy 29.73\t Test accuracy: 25.85\n"
          ],
          "name": "stdout"
        },
        {
          "output_type": "stream",
          "text": [
            "Exception in thread Thread-26:\n",
            "Traceback (most recent call last):\n",
            "  File \"/usr/lib/python3.7/threading.py\", line 926, in _bootstrap_inner\n",
            "    self.run()\n",
            "  File \"/usr/lib/python3.7/threading.py\", line 870, in run\n",
            "    self._target(*self._args, **self._kwargs)\n",
            "  File \"/usr/local/lib/python3.7/dist-packages/torch/utils/data/_utils/pin_memory.py\", line 28, in _pin_memory_loop\n",
            "    r = in_queue.get(timeout=MP_STATUS_CHECK_INTERVAL)\n",
            "  File \"/usr/lib/python3.7/multiprocessing/queues.py\", line 113, in get\n",
            "    return _ForkingPickler.loads(res)\n",
            "  File \"/usr/local/lib/python3.7/dist-packages/torch/multiprocessing/reductions.py\", line 289, in rebuild_storage_fd\n",
            "    fd = df.detach()\n",
            "  File \"/usr/lib/python3.7/multiprocessing/resource_sharer.py\", line 57, in detach\n",
            "    with _resource_sharer.get_connection(self._id) as conn:\n",
            "  File \"/usr/lib/python3.7/multiprocessing/resource_sharer.py\", line 87, in get_connection\n",
            "    c = Client(address, authkey=process.current_process().authkey)\n",
            "  File \"/usr/lib/python3.7/multiprocessing/connection.py\", line 492, in Client\n",
            "    c = SocketClient(address)\n",
            "  File \"/usr/lib/python3.7/multiprocessing/connection.py\", line 620, in SocketClient\n",
            "    s.connect(address)\n",
            "FileNotFoundError: [Errno 2] No such file or directory\n",
            "\n"
          ],
          "name": "stderr"
        },
        {
          "output_type": "error",
          "ename": "KeyboardInterrupt",
          "evalue": "ignored",
          "traceback": [
            "\u001b[0;31m---------------------------------------------------------------------------\u001b[0m",
            "\u001b[0;31mKeyboardInterrupt\u001b[0m                         Traceback (most recent call last)",
            "\u001b[0;32m<ipython-input-9-f03d745d974e>\u001b[0m in \u001b[0;36m<module>\u001b[0;34m()\u001b[0m\n\u001b[1;32m     20\u001b[0m \u001b[0;34m\u001b[0m\u001b[0m\n\u001b[1;32m     21\u001b[0m \u001b[0;31m# Train classifier\u001b[0m\u001b[0;34m\u001b[0m\u001b[0;34m\u001b[0m\u001b[0;34m\u001b[0m\u001b[0m\n\u001b[0;32m---> 22\u001b[0;31m \u001b[0mfinetune_resnet18\u001b[0m\u001b[0;34m(\u001b[0m\u001b[0mmodel\u001b[0m\u001b[0;34m,\u001b[0m \u001b[0mtrain_dataloader\u001b[0m\u001b[0;34m,\u001b[0m \u001b[0mtest_dataloader\u001b[0m\u001b[0;34m)\u001b[0m\u001b[0;34m\u001b[0m\u001b[0;34m\u001b[0m\u001b[0m\n\u001b[0m\u001b[1;32m     23\u001b[0m \u001b[0;34m\u001b[0m\u001b[0m\n",
            "\u001b[0;32m<ipython-input-8-0208bf4f1a8e>\u001b[0m in \u001b[0;36mfinetune_resnet18\u001b[0;34m(pixelmodel, train_dataloader, test_dataloader)\u001b[0m\n\u001b[1;32m    180\u001b[0m               \u001b[0m_\u001b[0m\u001b[0;34m,\u001b[0m \u001b[0mpredicted\u001b[0m \u001b[0;34m=\u001b[0m \u001b[0mout\u001b[0m\u001b[0;34m.\u001b[0m\u001b[0mmax\u001b[0m\u001b[0;34m(\u001b[0m\u001b[0;36m1\u001b[0m\u001b[0;34m)\u001b[0m\u001b[0;34m\u001b[0m\u001b[0;34m\u001b[0m\u001b[0m\n\u001b[1;32m    181\u001b[0m               \u001b[0mtotal\u001b[0m \u001b[0;34m+=\u001b[0m \u001b[0my\u001b[0m\u001b[0;34m.\u001b[0m\u001b[0msize\u001b[0m\u001b[0;34m(\u001b[0m\u001b[0;36m0\u001b[0m\u001b[0;34m)\u001b[0m\u001b[0;34m\u001b[0m\u001b[0;34m\u001b[0m\u001b[0m\n\u001b[0;32m--> 182\u001b[0;31m               \u001b[0mcorrect\u001b[0m \u001b[0;34m+=\u001b[0m \u001b[0mpredicted\u001b[0m\u001b[0;34m.\u001b[0m\u001b[0meq\u001b[0m\u001b[0;34m(\u001b[0m\u001b[0my\u001b[0m\u001b[0;34m)\u001b[0m\u001b[0;34m.\u001b[0m\u001b[0msum\u001b[0m\u001b[0;34m(\u001b[0m\u001b[0;34m)\u001b[0m\u001b[0;34m.\u001b[0m\u001b[0mitem\u001b[0m\u001b[0;34m(\u001b[0m\u001b[0;34m)\u001b[0m\u001b[0;34m\u001b[0m\u001b[0;34m\u001b[0m\u001b[0m\n\u001b[0m\u001b[1;32m    183\u001b[0m \u001b[0;34m\u001b[0m\u001b[0m\n\u001b[1;32m    184\u001b[0m           \u001b[0mtrain_accuracy\u001b[0m \u001b[0;34m=\u001b[0m \u001b[0;36m100.\u001b[0m\u001b[0;34m*\u001b[0m\u001b[0mcorrect\u001b[0m\u001b[0;34m/\u001b[0m\u001b[0mtotal\u001b[0m\u001b[0;34m\u001b[0m\u001b[0;34m\u001b[0m\u001b[0m\n",
            "\u001b[0;31mKeyboardInterrupt\u001b[0m: "
          ]
        }
      ]
    },
    {
      "cell_type": "markdown",
      "metadata": {
        "id": "uYRRohZRYM-z"
      },
      "source": [
        "# Mode 2 Finetuned ResNet18 Classifier\n",
        "\n",
        "5 epochs Test accuracy: 34.54\n",
        "\n",
        "Random results..."
      ]
    },
    {
      "cell_type": "code",
      "metadata": {
        "colab": {
          "base_uri": "https://localhost:8080/",
          "height": 574
        },
        "id": "xBB0kOd1-D4O",
        "outputId": "4ba56055-1efa-4dce-8e6c-6c4ccd1d58a7"
      },
      "source": [
        "args.output_dir = '/content/drive/MyDrive/ADL/3_4/pixelcnn_half/'\n",
        "\n",
        "args.restore_file = os.path.join(args.output_dir, 'checkpoint.pt')\n",
        "\n",
        "half_representation = True # Use all data to predict all data\n",
        "\n",
        "args.start_epoch = 0\n",
        "args.n_epochs = 10\n",
        "args.step = 0\n",
        "\n",
        "if args.restore_file: # Load from checkpoint\n",
        "    print('loading from checkpoint')\n",
        "    model_checkpoint = torch.load(args.restore_file, map_location=args.device)\n",
        "    model.load_state_dict(model_checkpoint['state_dict'])\n",
        "    optimizer.load_state_dict(torch.load(os.path.dirname(args.restore_file) + '/optim_checkpoint.pt', map_location=args.device))\n",
        "    args.start_epoch = model_checkpoint['epoch'] + 1\n",
        "    args.step = model_checkpoint['global_step']\n",
        "    print('epoch and loss: ')\n",
        "    print(args.start_epoch, )\n",
        "\n",
        "# Train classifier\n",
        "finetune_resnet18(model, train_dataloader, test_dataloader)\n",
        "\n"
      ],
      "execution_count": 10,
      "outputs": [
        {
          "output_type": "stream",
          "text": [
            "loading from checkpoint\n",
            "epoch and loss: \n",
            "14\n"
          ],
          "name": "stdout"
        },
        {
          "output_type": "stream",
          "text": [
            "/usr/local/lib/python3.7/dist-packages/torch/utils/data/dataloader.py:481: UserWarning: This DataLoader will create 4 worker processes in total. Our suggested max number of worker in current system is 2, which is smaller than what this DataLoader is going to create. Please be aware that excessive worker creation might get DataLoader running slow or even freeze, lower the worker number to avoid potential slowness/freeze if necessary.\n",
            "  cpuset_checked))\n"
          ],
          "name": "stderr"
        },
        {
          "output_type": "stream",
          "text": [
            "Epoch 0\t Train accuracy 23.776\t Test accuracy: 30.28\n",
            "Epoch 1\t Train accuracy 30.206\t Test accuracy: 30.23\n",
            "Epoch 2\t Train accuracy 31.624\t Test accuracy: 34.54\n",
            "Epoch 3\t Train accuracy 30.758\t Test accuracy: 30.49\n",
            "Epoch 4\t Train accuracy 30.116\t Test accuracy: 27.53\n",
            "Epoch 5\t Train accuracy 30.266\t Test accuracy: 29.11\n",
            "Epoch 6\t Train accuracy 29.516\t Test accuracy: 29.78\n"
          ],
          "name": "stdout"
        },
        {
          "output_type": "error",
          "ename": "KeyboardInterrupt",
          "evalue": "ignored",
          "traceback": [
            "\u001b[0;31m---------------------------------------------------------------------------\u001b[0m",
            "\u001b[0;31mKeyboardInterrupt\u001b[0m                         Traceback (most recent call last)",
            "\u001b[0;32m<ipython-input-10-e9f6ab8162b1>\u001b[0m in \u001b[0;36m<module>\u001b[0;34m()\u001b[0m\n\u001b[1;32m     20\u001b[0m \u001b[0;34m\u001b[0m\u001b[0m\n\u001b[1;32m     21\u001b[0m \u001b[0;31m# Train classifier\u001b[0m\u001b[0;34m\u001b[0m\u001b[0;34m\u001b[0m\u001b[0;34m\u001b[0m\u001b[0m\n\u001b[0;32m---> 22\u001b[0;31m \u001b[0mfinetune_resnet18\u001b[0m\u001b[0;34m(\u001b[0m\u001b[0mmodel\u001b[0m\u001b[0;34m,\u001b[0m \u001b[0mtrain_dataloader\u001b[0m\u001b[0;34m,\u001b[0m \u001b[0mtest_dataloader\u001b[0m\u001b[0;34m)\u001b[0m\u001b[0;34m\u001b[0m\u001b[0;34m\u001b[0m\u001b[0m\n\u001b[0m\u001b[1;32m     23\u001b[0m \u001b[0;34m\u001b[0m\u001b[0m\n",
            "\u001b[0;32m<ipython-input-8-0208bf4f1a8e>\u001b[0m in \u001b[0;36mfinetune_resnet18\u001b[0;34m(pixelmodel, train_dataloader, test_dataloader)\u001b[0m\n\u001b[1;32m    180\u001b[0m               \u001b[0m_\u001b[0m\u001b[0;34m,\u001b[0m \u001b[0mpredicted\u001b[0m \u001b[0;34m=\u001b[0m \u001b[0mout\u001b[0m\u001b[0;34m.\u001b[0m\u001b[0mmax\u001b[0m\u001b[0;34m(\u001b[0m\u001b[0;36m1\u001b[0m\u001b[0;34m)\u001b[0m\u001b[0;34m\u001b[0m\u001b[0;34m\u001b[0m\u001b[0m\n\u001b[1;32m    181\u001b[0m               \u001b[0mtotal\u001b[0m \u001b[0;34m+=\u001b[0m \u001b[0my\u001b[0m\u001b[0;34m.\u001b[0m\u001b[0msize\u001b[0m\u001b[0;34m(\u001b[0m\u001b[0;36m0\u001b[0m\u001b[0;34m)\u001b[0m\u001b[0;34m\u001b[0m\u001b[0;34m\u001b[0m\u001b[0m\n\u001b[0;32m--> 182\u001b[0;31m               \u001b[0mcorrect\u001b[0m \u001b[0;34m+=\u001b[0m \u001b[0mpredicted\u001b[0m\u001b[0;34m.\u001b[0m\u001b[0meq\u001b[0m\u001b[0;34m(\u001b[0m\u001b[0my\u001b[0m\u001b[0;34m)\u001b[0m\u001b[0;34m.\u001b[0m\u001b[0msum\u001b[0m\u001b[0;34m(\u001b[0m\u001b[0;34m)\u001b[0m\u001b[0;34m.\u001b[0m\u001b[0mitem\u001b[0m\u001b[0;34m(\u001b[0m\u001b[0;34m)\u001b[0m\u001b[0;34m\u001b[0m\u001b[0;34m\u001b[0m\u001b[0m\n\u001b[0m\u001b[1;32m    183\u001b[0m \u001b[0;34m\u001b[0m\u001b[0m\n\u001b[1;32m    184\u001b[0m           \u001b[0mtrain_accuracy\u001b[0m \u001b[0;34m=\u001b[0m \u001b[0;36m100.\u001b[0m\u001b[0;34m*\u001b[0m\u001b[0mcorrect\u001b[0m\u001b[0;34m/\u001b[0m\u001b[0mtotal\u001b[0m\u001b[0;34m\u001b[0m\u001b[0;34m\u001b[0m\u001b[0m\n",
            "\u001b[0;31mKeyboardInterrupt\u001b[0m: "
          ]
        }
      ]
    },
    {
      "cell_type": "code",
      "metadata": {
        "id": "b6Br8Tm0UZz7"
      },
      "source": [
        ""
      ],
      "execution_count": null,
      "outputs": []
    }
  ]
}