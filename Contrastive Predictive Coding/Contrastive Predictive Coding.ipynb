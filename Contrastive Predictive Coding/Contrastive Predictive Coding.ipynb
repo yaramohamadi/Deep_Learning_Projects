{
  "nbformat": 4,
  "nbformat_minor": 0,
  "metadata": {
    "colab": {
      "name": "ADL3_3.ipynb",
      "provenance": [],
      "collapsed_sections": [
        "iaAhsU0Hv7W9",
        "uwBuHduW-YuZ",
        "0l9ftAgRArVy",
        "ZiTWDUwIAs_i",
        "H-HFadQCNeYw",
        "S5-MGjzhZEEc",
        "Dx-Vsm3FvhTU",
        "r8i_6QqY3imy",
        "fyJKwwrOAwg6",
        "iDPbSYi7RFQ0",
        "Vpk6RcAZXzbM",
        "RjWfssnBvtmM",
        "x_DgCxqFvxc8",
        "E4rz4EQFQNvc",
        "UUwdX35A3lD2",
        "LT_u-wMa1oCO",
        "iNcBOBqfRkhp",
        "OXR5eRorRkhq",
        "xqD6BiuARkhr",
        "qlOmHb0GRkhs"
      ]
    },
    "kernelspec": {
      "name": "python3",
      "display_name": "Python 3"
    },
    "language_info": {
      "name": "python"
    }
  },
  "cells": [
    {
      "cell_type": "markdown",
      "metadata": {
        "id": "iaAhsU0Hv7W9"
      },
      "source": [
        "# Libraries"
      ]
    },
    {
      "cell_type": "code",
      "metadata": {
        "id": "u8jZ84qLuo-H"
      },
      "source": [
        "import torchvision\n",
        "import torch\n",
        "from torch import nn\n",
        "import torch.nn.functional as F\n",
        "from torch.nn.modules.loss import _WeightedLoss\n",
        "import torch.optim as optim\n",
        "import torchvision.transforms as transforms\n",
        "\n",
        "import PIL.Image as Image\n",
        "import PIL.ImageOps as PIO\n",
        "import PIL.ImageEnhance as PIE\n",
        "\n",
        "import matplotlib.pyplot as plt\n",
        "\n",
        "\n",
        "import numpy as np\n",
        "\n",
        "import random\n",
        "import time\n",
        "from tqdm import tqdm\n",
        "import os"
      ],
      "execution_count": 12,
      "outputs": []
    },
    {
      "cell_type": "markdown",
      "metadata": {
        "id": "uwBuHduW-YuZ"
      },
      "source": [
        "# Global Configurations"
      ]
    },
    {
      "cell_type": "code",
      "metadata": {
        "id": "9TUq2vMu-YuZ"
      },
      "source": [
        "\n",
        "cpc_path = os.path.join(\"TrainedModels\", \"trained_cpc\")\n",
        "encoder_path = os.path.join(\"TrainedModels\", \"trained_encoder\")\n",
        "colour = \"_colour\"\n",
        "num_classes = 10\n",
        "pred_steps = 3\n",
        "neg_samples = 16\n",
        "pred_directions = 1 # CPC2 feature 4\n",
        "image_resize = 0\n",
        "patch_aug = 1\n",
        "num_workers = 1\n",
        "crop='30-2'\n",
        "crop_size = 30\n",
        "padding = 2\n",
        "grid_size = 5\n",
        "norm = \"\" # CPC2 feature 'layer'\n",
        "epochs = 20\n",
        "sched_step_size = 100\n",
        "print_interval = 1\n",
        "print_option = 1\n",
        "test_interval = 1"
      ],
      "execution_count": 13,
      "outputs": []
    },
    {
      "cell_type": "markdown",
      "metadata": {
        "id": "NkTtjNi3wQFa"
      },
      "source": [
        "# Models"
      ]
    },
    {
      "cell_type": "markdown",
      "metadata": {
        "id": "lq5Ic2flAbMK"
      },
      "source": [
        "## Pixel CNN Model\n",
        "\n",
        "This autoregressive model is used for Context generation"
      ]
    },
    {
      "cell_type": "code",
      "metadata": {
        "id": "6caUk4Z9_NHa"
      },
      "source": [
        "\n",
        "def same_padding(kernel_size):\n",
        "    # assumming stride 1\n",
        "    if isinstance(kernel_size, int):\n",
        "        return kernel_size // 2\n",
        "    else:\n",
        "        return (kernel_size[0] // 2, kernel_size[1] // 2)\n",
        "\n",
        "class MaskedConvolution2D(nn.Conv2d):\n",
        "    def __init__(self, in_channels, out_channels, kernel_size,\n",
        "            *args, mask='B', vertical=False, mask_mode=\"noblind\", **kwargs):\n",
        "        if \"padding\" not in kwargs:\n",
        "            assert \"stride\" not in kwargs\n",
        "            kwargs[\"padding\"] = same_padding(kernel_size)\n",
        "        remove = {\"conditional_features\", \"conditional_image_channels\"}\n",
        "        for feature in remove:\n",
        "            if feature in kwargs:\n",
        "                del kwargs[feature]\n",
        "        super(MaskedConvolution2D, self).__init__(in_channels,\n",
        "                out_channels, kernel_size, *args, **kwargs)\n",
        "        Cout, Cin, kh, kw = self.weight.size()\n",
        "        pre_mask = np.ones_like(self.weight.data.cpu().numpy()).astype(np.float32)\n",
        "        yc, xc = kh // 2, kw // 2\n",
        "\n",
        "        assert mask_mode in {\"noblind\", \"turukin\", \"fig1-van-den-oord\", \"none\", \"only_vert\"}\n",
        "\n",
        "        if mask_mode == \"none\":\n",
        "            pass\n",
        "        elif mask_mode == \"only_vert\":\n",
        "            pre_mask[:, :, yc + 1:, :] = 0.0\n",
        "        elif mask_mode == \"noblind\":\n",
        "            # context masking - subsequent pixels won't have access\n",
        "            # to next pixels (spatial dim)\n",
        "            if vertical:\n",
        "                if mask == 'A':\n",
        "                    # In the first layer, can ONLY access pixels above it\n",
        "                    pre_mask[:, :, yc:, :] = 0.0\n",
        "                else:\n",
        "                    # In the second layer, can access pixels above or even with it.\n",
        "                    pre_mask[:, :, yc+1:, :] = 0.0\n",
        "            else:\n",
        "                # All rows after center must be zero\n",
        "                pre_mask[:, :, yc+1:, :] = 0.0\n",
        "                # All columns after center in center row must be zero\n",
        "                pre_mask[:, :, yc, xc+1:] = 0.0\n",
        "\n",
        "            if mask == 'A':\n",
        "                # Center must be zero in first layer\n",
        "                pre_mask[:, :, yc, xc] = 0.0\n",
        "\n",
        "        elif mask_mode == \"fig1-van-den-oord\":\n",
        "            if vertical:\n",
        "                pre_mask[:, :, yc:, :] = 0.0\n",
        "            else:\n",
        "                # All rows after center must be zero\n",
        "                pre_mask[:, :, yc+1:, :] = 0.0\n",
        "                # All columns after center in center row must be zero\n",
        "                pre_mask[:, :, yc, xc+1:] = 0.0\n",
        "\n",
        "            if mask == 'A':\n",
        "                # Center must be zero in first layer\n",
        "                pre_mask[:, :, yc, xc] = 0.0\n",
        "        elif mask_mode == \"turukin\":\n",
        "            pre_mask[:, :, yc+1:, :] = 0.0\n",
        "            pre_mask[:, :, yc, xc+1:] = 0.0\n",
        "            if mask == 'A':\n",
        "                pre_mask[:, :, yc, xc] = 0.0\n",
        "\n",
        "        #print(\"%s %s MASKED CONV: %d x %d. Mask:\" % (mask, \"VERTICAL\" if vertical else \"HORIZONTAL\", kh, kw))\n",
        "        #print(pre_mask[0, 0, :, :])\n",
        "\n",
        "        self.register_buffer(\"mask\", torch.from_numpy(pre_mask))\n",
        "\n",
        "    def __call__(self, x):\n",
        "        self.weight.data = self.weight.data * self.mask\n",
        "        return super(MaskedConvolution2D, self).forward(x)\n",
        "\n",
        "\n",
        "class PixelCNNGatedLayer(nn.Module):\n",
        "    def __init__(self, primary, in_channels, out_channels, filter_size,\n",
        "            mask='B', nobias=False, conditional_features=None,\n",
        "            conditional_image_channels=None, residual_vertical=False,\n",
        "            residual_horizontal=True, skips=False, gated=True,\n",
        "            relu_out=False, horizontal_2d_convs=False, mask_mode=\"noblind\", groups=1):\n",
        "        super().__init__()\n",
        "        self.primary = primary\n",
        "        if primary:\n",
        "            assert mask == 'A'\n",
        "            assert not residual_vertical\n",
        "            assert not residual_horizontal\n",
        "        else:\n",
        "            assert mask == 'B'\n",
        "        self.out_channels = out_channels\n",
        "        self.gated = gated\n",
        "        gm = 2 if gated else 1\n",
        "        self.vertical_conv = MaskedConvolution2D(\n",
        "            in_channels, gm * out_channels, (filter_size, filter_size),\n",
        "            mask=mask, vertical=True, mask_mode=mask_mode, groups=groups)\n",
        "        self.v_to_h_conv = nn.Conv2d(gm * out_channels, gm * out_channels, 1, groups=groups)\n",
        "\n",
        "        self.horizontal_conv = MaskedConvolution2D(\n",
        "            in_channels, gm * out_channels,\n",
        "            (filter_size if horizontal_2d_convs else 1, filter_size), # XXX: traditionally (1, filter_size),\n",
        "            mask=mask, vertical=False, mask_mode=mask_mode, groups=groups)\n",
        "\n",
        "        self.residual_vertical = None\n",
        "        if residual_vertical:\n",
        "            self.residual_vertical = nn.Conv2d(in_channels, gm * out_channels, 1, groups=groups)\n",
        "\n",
        "        self.horizontal_output = nn.Conv2d(out_channels, out_channels, 1, groups=groups)\n",
        "        self.horizontal_skip = None\n",
        "        if skips:\n",
        "            self.horizontal_skip = nn.Conv2d(out_channels, out_channels, 1, groups=groups)\n",
        "        self.conditional_vector = conditional_features is not None\n",
        "        self.conditional_image = conditional_image_channels is not None\n",
        "        if self.conditional_image:\n",
        "            self.cond_conv_h = nn.Conv2d(conditional_image_channels, gm * out_channels, 1, bias=False, groups=groups)\n",
        "            self.cond_conv_v = nn.Conv2d(conditional_image_channels, gm * out_channels, 1, bias=False, groups=groups)\n",
        "        if self.conditional_vector:\n",
        "            self.cond_fc_h = nn.Linear(conditional_features, gm * out_channels, bias=False)\n",
        "            self.cond_fc_v = nn.Linear(conditional_features, gm * out_channels, bias=False)\n",
        "        self.residual_horizontal = residual_horizontal\n",
        "        self.relu_out = relu_out\n",
        "\n",
        "    @classmethod\n",
        "    def primary(cls, in_channels, out_channels, filter_size,\n",
        "            nobias=False, conditional_features=None,\n",
        "            conditional_image_channels=None,\n",
        "            skips=False, gated=True,\n",
        "            relu_out=False, horizontal_2d_convs=False, mask_mode=\"noblind\", groups=1):\n",
        "        return cls(True, in_channels, out_channels, filter_size, nobias=nobias,\n",
        "                mask='A', conditional_features=conditional_features,\n",
        "                conditional_image_channels=conditional_image_channels,\n",
        "                residual_vertical=False, residual_horizontal=False,\n",
        "                skips=skips, gated=gated,\n",
        "                relu_out=relu_out, horizontal_2d_convs=horizontal_2d_convs,\n",
        "                mask_mode=mask_mode, groups=groups)\n",
        "\n",
        "    @classmethod\n",
        "    def secondary(cls, in_channels, out_channels, filter_size,\n",
        "            nobias=False, conditional_features=None,\n",
        "            conditional_image_channels=None, residual_vertical=True,\n",
        "            residual_horizontal=True, skips=False, gated=True,\n",
        "            relu_out=False, horizontal_2d_convs=False, mask_mode=\"noblind\", groups=1):\n",
        "        return cls(False, in_channels, out_channels, filter_size, nobias=nobias,\n",
        "                mask='B', conditional_features=conditional_features,\n",
        "                conditional_image_channels=conditional_image_channels,\n",
        "                residual_vertical=residual_vertical, residual_horizontal=residual_horizontal,\n",
        "                skips=skips, gated=gated, relu_out=relu_out,\n",
        "                horizontal_2d_convs=horizontal_2d_convs, mask_mode=mask_mode, groups=groups)\n",
        "\n",
        "    def _gate(self, x):\n",
        "        if self.gated:\n",
        "            return torch.tanh(x[:,:self.out_channels]) * torch.sigmoid(x[:,self.out_channels:])\n",
        "        else:\n",
        "            return x\n",
        "\n",
        "    def __call__(self, v, h, conditional_image=None, conditional_vector=None):\n",
        "        horizontal_preactivation = self.horizontal_conv(h) # 1xN\n",
        "        vertical_preactivation = self.vertical_conv(v) # NxN\n",
        "        v_to_h = self.v_to_h_conv(vertical_preactivation) # 1x1\n",
        "        if self.residual_vertical is not None:\n",
        "            vertical_preactivation = vertical_preactivation + self.residual_vertical(v) # 1x1 to residual\n",
        "        horizontal_preactivation = horizontal_preactivation + v_to_h\n",
        "        if self.conditional_image and conditional_image is not None:\n",
        "            horizontal_preactivation = horizontal_preactivation + \\\n",
        "                    self.cond_conv_h(conditional_image)\n",
        "            vertical_preactivation = vertical_preactivation + \\\n",
        "                    self.cond_conv_v(conditional_image)\n",
        "        if self.conditional_vector and conditional_vector is not None:\n",
        "            horizontal_preactivation = horizontal_preactivation + \\\n",
        "                    self.cond_fc_h(conditional_vector).unsqueeze(-1).unsqueeze(-1)\n",
        "            vertical_preactivation = vertical_preactivation + \\\n",
        "                    self.cond_fc_v(conditional_vector).unsqueeze(-1).unsqueeze(-1)\n",
        "        v_out = self._gate(vertical_preactivation)\n",
        "        h_activated = self._gate(horizontal_preactivation)\n",
        "        h_skip = None\n",
        "        if self.horizontal_skip is not None:\n",
        "            h_skip = self.horizontal_skip(h_activated)\n",
        "        h_preres = self.horizontal_output(h_activated)\n",
        "        if self.residual_horizontal:\n",
        "            h_out = h + h_preres\n",
        "        else:\n",
        "            h_out = h_preres\n",
        "        if self.relu_out:\n",
        "            v_out = F.relu(v_out)\n",
        "            h_out = F.relu(h_out)\n",
        "            if h_skip is not None:\n",
        "                h_skip = F.relu(h_skip)\n",
        "        return v_out, h_out, h_skip\n",
        "\n",
        "\n",
        "class PixelCNNGatedStack(nn.Module):\n",
        "    def __init__(self, *args):\n",
        "        super().__init__()\n",
        "        layers = list(args)\n",
        "        for i, layer in enumerate(layers):\n",
        "            assert isinstance(layer, PixelCNNGatedLayer)\n",
        "            if i == 0:\n",
        "                assert layer.primary\n",
        "            else:\n",
        "                assert not layer.primary\n",
        "        self.layers = nn.ModuleList(layers)\n",
        "\n",
        "    def __call__(self, v, h, skips=None, conditional_image=None, conditional_vector=None):\n",
        "        if skips is None:\n",
        "            skips = []\n",
        "        else:\n",
        "            skips = [skips]\n",
        "        for layer in self.layers:\n",
        "            v, h, skip = layer(v, h, conditional_image=conditional_image, conditional_vector=conditional_vector)\n",
        "            if skip is not None:\n",
        "                skips.append(skip)\n",
        "        if len(skips) == 0:\n",
        "            skips = None\n",
        "        else:\n",
        "            skips = torch.cat(skips, 1)\n",
        "        return v, h, skips\n",
        "\n",
        "class PixelCNN(torch.nn.Module):\n",
        "    def __init__(self, in_channels, pixelcnn_layers=4, **kwargs):\n",
        "        super().__init__()\n",
        "\n",
        "        layer_objs = [\n",
        "            PixelCNNGatedLayer.primary(\n",
        "                in_channels, in_channels, 3, mask_mode=\"only_vert\", **kwargs\n",
        "            )\n",
        "        ]\n",
        "        layer_objs = layer_objs + [\n",
        "            PixelCNNGatedLayer.secondary(\n",
        "                in_channels, in_channels, 3, mask_mode=\"only_vert\", **kwargs\n",
        "            )\n",
        "            for _ in range(1, pixelcnn_layers)\n",
        "        ]\n",
        "\n",
        "        self.stack = PixelCNNGatedStack(*layer_objs)\n",
        "        self.stack_out = nn.Conv2d(in_channels, in_channels, 1)\n",
        "\n",
        "    def forward(self, input):\n",
        "        _, c_out, _ = self.stack(input, input)  # Bc, C, H, W\n",
        "        c_out = self.stack_out(c_out)\n",
        "\n",
        "        assert c_out.shape[1] == input.shape[1]\n",
        "\n",
        "        return c_out\n"
      ],
      "execution_count": 14,
      "outputs": []
    },
    {
      "cell_type": "markdown",
      "metadata": {
        "id": "QlKiNZt_spyA"
      },
      "source": [
        "## Encoder Models\n",
        "\n",
        "models are modified to take input shapes like this: (batch_size, grid_size, grid_size, 3, patch_size, patch_size)\n",
        "\n",
        "We take 5 x 5 grids of 10 x 10 patches from our 32 x 32 images\n",
        "\n",
        "initial batch size is 32 so we end up with 800 10 x 10 image patches in each batch\n",
        "\n",
        "When defining model if use_classifier is set to False, model outputs a representation tensor of (batch_size, grid_size, grid_size, encoding_size). encoding size is 512 in both models. if use_classifier is set to True, model reshapes representation to (batch_size, grid_size * grid_size, encoding_size) and averages all grids for each image, then passes through a linear classifier and outputs a tensor of (batch_size, 10)\n",
        "\n",
        "All 4 blocks of Resnet18 are used.\n",
        "\n",
        "Only the first 13 convolutional layers in VGG16 are used, because our patches are too small for a deeper network"
      ]
    },
    {
      "cell_type": "code",
      "metadata": {
        "colab": {
          "base_uri": "https://localhost:8080/"
        },
        "id": "0Eru13Odi3BA",
        "outputId": "366e1bf2-377e-4639-9d01-a4b4aee66065"
      },
      "source": [
        "####################### Resnet Model ########################################\n",
        "\n",
        "class BasicBlock(nn.Module):\n",
        "    expansion = 1\n",
        "\n",
        "    def __init__(self, in_planes, planes, stride=1):\n",
        "        super(BasicBlock, self).__init__()\n",
        "        self.conv1 = nn.Conv2d(\n",
        "            in_planes, planes, kernel_size=3, stride=stride, padding=1, bias=False)\n",
        "        self.bn1 = nn.BatchNorm2d(planes)\n",
        "        self.conv2 = nn.Conv2d(planes, planes, kernel_size=3,\n",
        "                               stride=1, padding=1, bias=False)\n",
        "        self.bn2 = nn.BatchNorm2d(planes)\n",
        "\n",
        "        self.shortcut = nn.Sequential()\n",
        "        if stride != 1 or in_planes != self.expansion*planes:\n",
        "            self.shortcut = nn.Sequential(\n",
        "                nn.Conv2d(in_planes, self.expansion*planes,\n",
        "                          kernel_size=1, stride=stride, bias=False),\n",
        "                nn.BatchNorm2d(self.expansion*planes)\n",
        "            )\n",
        "\n",
        "    def forward(self, x):\n",
        "        out = F.relu(self.bn1(self.conv1(x)))\n",
        "        out = self.bn2(self.conv2(out))\n",
        "        out += self.shortcut(x)\n",
        "        out = F.relu(out)\n",
        "        return out\n",
        "\n",
        "\n",
        "class ResNet18(nn.Module):\n",
        "    def __init__(self, block, num_blocks, num_classes=10, stage = 4, use_classifier = True): # Stage\n",
        "        super(ResNet18, self).__init__()\n",
        "        self.in_planes = 64\n",
        "        self.stage = 4\n",
        "        self.use_classifier = use_classifier\n",
        "        self.encoding_size = 512\n",
        "\n",
        "        self.conv1 = nn.Conv2d(3, 64, kernel_size=3,\n",
        "                               stride=1, padding=1, bias=False)\n",
        "        self.bn1 = nn.BatchNorm2d(64)\n",
        "        self.layer1 = self._make_layer(block, 64, num_blocks[0], stride=1) # Stride=1 for first layer\n",
        "        self.layer2 = self._make_layer(block, 128, num_blocks[1], stride=2)\n",
        "        self.layer3 = self._make_layer(block, 256, num_blocks[2], stride=2)\n",
        "        self.layer4 = self._make_layer(block, 512, num_blocks[3], stride=2)\n",
        "        self.avgpool = nn.AdaptiveAvgPool2d(1)\n",
        "        # Stage\n",
        "        linear_in = [64, 128, 256, 512]\n",
        "        self.linear = nn.Linear(linear_in[self.stage - 1] *block.expansion, num_classes)\n",
        "\n",
        "    def _make_layer(self, block, planes, num_blocks, stride):\n",
        "        strides = [stride] + [1]*(num_blocks-1)\n",
        "        layers = []\n",
        "        for stride in strides:\n",
        "            layers.append(block(self.in_planes, planes, stride))\n",
        "            self.in_planes = planes * block.expansion\n",
        "        return nn.Sequential(*layers)\n",
        "\n",
        "    def forward(self, x):\n",
        "\n",
        "        # Input x = (batch_size, grid_size, grid_size, channels, patch_size, patch_size)\n",
        "        # Flatten to (batch_size * grid_size * grid_size, channels, patch_size, patch_size)\n",
        "        x = x.view(\n",
        "            x.shape[0] * x.shape[1] * x.shape[2], x.shape[3], x.shape[4], x.shape[5]\n",
        "        )\n",
        "\n",
        "        out = F.relu(self.bn1(self.conv1(x)))\n",
        "        # Stage\n",
        "        out = self.layer1(out)\n",
        "        if self.stage > 1:\n",
        "          out = self.layer2(out)\n",
        "        if self.stage > 2:\n",
        "          out = self.layer3(out)\n",
        "        if self.stage > 3:\n",
        "          out = self.layer4(out)\n",
        "        # Stage\n",
        "        #out = F.avg_pool2d(out, 64 // 2**self.stage) # Global average Pooling instead of MaxPool\n",
        "        out = self.avgpool(out)\n",
        "        out = out.view(-1, grid_size, grid_size, out.shape[1]) # (batch_size, grid_size, grid_size, encoding_size)\n",
        "\n",
        "        # Use classifier if specified\n",
        "        if self.use_classifier:\n",
        "\n",
        "            # Reshape z to (batch_size, grid_size * grid_size, encoding_size)\n",
        "            out = out.view(out.shape[0], grid_size * grid_size, self.encoding_size)\n",
        "            # mean all patches for each image, z = (b, e)\n",
        "            out = torch.mean(out, dim=1)\n",
        "            out = self.linear(out)\n",
        "\n",
        "        return out\n",
        "\n",
        "\n",
        "\n",
        "############################## VGG model ##########################################\n",
        "\n",
        "\n",
        "\n",
        "class VGG16(nn.Module):\n",
        "\n",
        "    def __init__(self, use_classifier = True):\n",
        "        super(VGG16, self).__init__()\n",
        "        self.use_classifier = use_classifier\n",
        "        self.encoding_size = 512\n",
        "\n",
        "        # VGG16 model\n",
        "        vgg = torchvision.models.vgg16(pretrained = False, num_classes=10)\n",
        "        self.backbone = nn.Sequential(*list(vgg.children())[0][:23])\n",
        "        self.linear = nn.Linear(self.encoding_size, num_classes)\n",
        "\n",
        "\n",
        "    def forward(self, x):\n",
        "\n",
        "      # Input x = (batch_size, grid_size, grid_size, channels, patch_size, patch_size)\n",
        "      # Flatten to (batch_size * grid_size * grid_size, channels, patch_size, patch_size)\n",
        "      x = x.view(\n",
        "          x.shape[0] * x.shape[1] * x.shape[2], x.shape[3], x.shape[4], x.shape[5]\n",
        "      )\n",
        "      x = self.backbone(x)\n",
        "\n",
        "      x = x.view(-1, grid_size, grid_size, x.shape[1]) # (batch_size, grid_size, grid_size, encoding_size)\n",
        "\n",
        "      if self.use_classifier:\n",
        "            # Reshape z to (batch_size, grid_size * grid_size, encoding_size)\n",
        "            x = x.view(x.shape[0], grid_size * grid_size, self.encoding_size)\n",
        "            # mean all patches for each image, z = (b, e)\n",
        "            x = torch.mean(x, dim=1)\n",
        "            x = self.linear(x)\n",
        "\n",
        "      return x\n",
        "\n",
        "\n",
        "\n",
        "\n",
        "\n",
        "########################## Testing models ########################################\n",
        "\n",
        "\n",
        "\n",
        "#print('testing... resnet18 output size: ')\n",
        "#net = ResNet18(BasicBlock, [2, 2, 2, 2], stage = 4, use_classifier = False)\n",
        "#y = net(torch.randn(4, 5, 5, 3, 10, 10))\n",
        "#print(y.size())\n",
        "\n",
        "print('testing... VGG16 output size: ')\n",
        "net = VGG16(use_classifier = True)\n",
        "y = net(torch.randn(4, 5, 5, 3, 10, 10))\n",
        "print(y.size())\n"
      ],
      "execution_count": 15,
      "outputs": [
        {
          "output_type": "stream",
          "text": [
            "testing... VGG16 output size: \n",
            "torch.Size([4, 10])\n"
          ],
          "name": "stdout"
        }
      ]
    },
    {
      "cell_type": "markdown",
      "metadata": {
        "id": "0l9ftAgRArVy"
      },
      "source": [
        "## CPC Model\n",
        "\n",
        "This is the main model. It is created using Encoder and Pixel CNN models and uses InfoNCELoss"
      ]
    },
    {
      "cell_type": "code",
      "metadata": {
        "id": "RJLHfB8zAeGR"
      },
      "source": [
        "\n",
        "class CPC(nn.Module):\n",
        "    \"\"\"\n",
        "    Args:\n",
        "        encoderNet (nn.Module): instance of PyTorch model to be used for encoder network\n",
        "        arNet (nn.Module): instance of PyTorch model to be used for autoregerssive (context) network\n",
        "        pred_directions (int): number of directions to perform predictions\n",
        "        pred_steps (int): number of steps into the future to perform predictions\n",
        "        neg_samples (int): number of negative samples to be used for contrastive loss\n",
        "    \"\"\"\n",
        "\n",
        "    def __init__(self, encoderNet, arNet, pred_directions, pred_steps, neg_samples):\n",
        "        super().__init__()\n",
        "        \n",
        "        self.pred_directions = pred_directions\n",
        "        assert 1 <= pred_directions <= 4\n",
        "\n",
        "        # Define Encoder Network\n",
        "        self.enc = encoderNet\n",
        "\n",
        "        # Define Autoregressive Network\n",
        "        self.ar = arNet\n",
        "\n",
        "        # Define Predictive + Loss Networks\n",
        "        self.pred_loss = nn.ModuleList(\n",
        "            InfoNCE_Loss(pred_steps=pred_steps, neg_samples=neg_samples, in_channels=encoderNet.encoding_size)\n",
        "            for _ in range(self.pred_directions)\n",
        "        )\n",
        "\n",
        "    def forward(self, x):\n",
        "        # Input x = (batch_size, grid_size, grid_size, channels, patch_size, patch_size)\n",
        "\n",
        "        # Find all encoding vectors\n",
        "        self.encodings = self.enc(x) # (batch_size, grid_size, grid_size, encoding_size)\n",
        "\n",
        "        # Permute encodings to (batch_size, encoding_size, grid_size, grid_size) for ar network\n",
        "        self.encodings = self.encodings.permute(0,3,1,2).contiguous() # (batch_size, encoding_size, grid_size, grid_size)\n",
        "\n",
        "        # For only 1 direction find context vectors and contrastive loss\n",
        "        loss = 0\n",
        "        for i in range(self.pred_directions): # Pred_directions = 1         this is a CPC2 feature\n",
        "            # rotate encoding 90 degrees clockwise\n",
        "            if i > 0:\n",
        "                self.encodings = self.encodings.transpose(2,3).flip(3)\n",
        "\n",
        "            # Find all context vectors\n",
        "            self.contexts = self.ar(self.encodings) # (batch_size, encoding_size, grid_size, grid_size)\n",
        "\n",
        "            # Find contrastive loss\n",
        "            loss += self.pred_loss[i](self.encodings, self.contexts)\n",
        "        loss /= self.pred_directions\n",
        "\n",
        "        return loss\n"
      ],
      "execution_count": 16,
      "outputs": []
    },
    {
      "cell_type": "markdown",
      "metadata": {
        "id": "ZiTWDUwIAs_i"
      },
      "source": [
        "## InfoNCE Loss\n",
        "\n",
        "Given Z (latent) and C (Context), this class calculates negative loglikelihood\n",
        "\n",
        "16 negative samples are created for each image"
      ]
    },
    {
      "cell_type": "code",
      "metadata": {
        "id": "Rtpi_HNwAvmb"
      },
      "source": [
        "\n",
        "class InfoNCE_Loss(nn.Module):\n",
        "    \"\"\"Performs predictions and InfoNCE Loss\n",
        "    Args:\n",
        "        pred_steps (int): number of steps into the future to perform predictions\n",
        "        neg_samples (int): number of negative samples to be used for contrastive loss\n",
        "        in_channels (int): number of channels of input tensors (size of encoding vector from encoder network and autoregressive network)\n",
        "    \"\"\"\n",
        "    \n",
        "    def __init__(self, pred_steps, neg_samples, in_channels):\n",
        "        super().__init__()\n",
        "        \n",
        "        self.pred_steps = pred_steps\n",
        "        self.neg_samples = neg_samples\n",
        "\n",
        "        self.W_k = nn.ModuleList(\n",
        "            nn.Conv2d(in_channels, in_channels, 1, bias=False)\n",
        "            for _ in range(self.pred_steps)\n",
        "        )\n",
        "\n",
        "        self.contrast_loss = ExpNLLLoss()\n",
        "\n",
        "    def forward(self, z, c, skip_step=1):\n",
        "        batch_size = z.shape[0]\n",
        "        total_loss = 0\n",
        "        cur_device = z.get_device()\n",
        "\n",
        "        # For each element in c, contrast with elements below\n",
        "        for k in range(1, self.pred_steps + 1):\n",
        "            ### compute log f(c_t, x_{t+k}) = z^T_{t+k} * W_k * c_t\n",
        "            \n",
        "            ### compute z^T_{t+k} * W_k:\n",
        "            ztwk = (\n",
        "                self.W_k[k - 1]\n",
        "                .forward(z[:, :, (k + skip_step) :, :])  # Bx, C , H , W\n",
        "                .permute(2, 3, 0, 1)  # H, W, Bx, C\n",
        "                .contiguous()\n",
        "            )  # y, x, b, c\n",
        "\n",
        "            ztwk_shuf = ztwk.view(\n",
        "                ztwk.shape[0] * ztwk.shape[1] * ztwk.shape[2], ztwk.shape[3]\n",
        "            )  # y * x * batch, c\n",
        "            rand_index = torch.randint(\n",
        "                ztwk_shuf.shape[0],  # y *  x * batch\n",
        "                (ztwk_shuf.shape[0] * self.neg_samples, 1),\n",
        "                dtype=torch.long,\n",
        "                device=cur_device,\n",
        "            )\n",
        "            # Sample more\n",
        "            rand_index = rand_index.repeat(1, ztwk_shuf.shape[1])\n",
        "\n",
        "            ztwk_shuf = torch.gather(\n",
        "                ztwk_shuf, dim=0, index=rand_index, out=None\n",
        "            )  # y * x * b * n, c\n",
        "\n",
        "            ztwk_shuf = ztwk_shuf.view(\n",
        "                ztwk.shape[0],\n",
        "                ztwk.shape[1],\n",
        "                ztwk.shape[2],\n",
        "                self.neg_samples,\n",
        "                ztwk.shape[3],\n",
        "            ).permute(\n",
        "                0, 1, 2, 4, 3\n",
        "            )  # y, x, b, c, n\n",
        "\n",
        "            ### Compute  x_W1 * c_t:\n",
        "            context = (\n",
        "                c[:, :, : -(k + skip_step), :].permute(2, 3, 0, 1).unsqueeze(-2)\n",
        "            )  # y, x, b, 1, c\n",
        "\n",
        "            log_fk_main = torch.matmul(context, ztwk.unsqueeze(-1)).squeeze(\n",
        "                -2\n",
        "            )  # y, x, b, 1\n",
        "\n",
        "            log_fk_shuf = torch.matmul(context, ztwk_shuf).squeeze(-2)  # y, x, b, n\n",
        "\n",
        "            log_fk = torch.cat((log_fk_main, log_fk_shuf), 3)  # y, x, b, 1+n\n",
        "            log_fk = log_fk.permute(2, 3, 0, 1)  # b, 1+n, y, x\n",
        "\n",
        "            log_fk = torch.softmax(log_fk, dim=1)\n",
        "\n",
        "            true_f = torch.zeros(\n",
        "                (batch_size, log_fk.shape[-2], log_fk.shape[-1]),\n",
        "                dtype=torch.long,\n",
        "                device=cur_device,\n",
        "            )  # b, y, x\n",
        "\n",
        "            total_loss += self.contrast_loss(input=log_fk, target=true_f)\n",
        "\n",
        "        total_loss /= self.pred_steps\n",
        "\n",
        "        return total_loss\n",
        "\n",
        "\n",
        "class ExpNLLLoss(_WeightedLoss):\n",
        "\n",
        "    def __init__(self, weight=None, size_average=None, ignore_index=-100,\n",
        "                 reduce=None, reduction='mean'):\n",
        "        super(ExpNLLLoss, self).__init__(weight, size_average, reduce, reduction)\n",
        "        self.ignore_index = ignore_index\n",
        "\n",
        "    def forward(self, input, target):\n",
        "        x = torch.log(input + 1e-11)\n",
        "        return F.nll_loss(x, target, weight=self.weight, ignore_index=self.ignore_index,\n",
        "                          reduction=self.reduction)"
      ],
      "execution_count": 17,
      "outputs": []
    },
    {
      "cell_type": "markdown",
      "metadata": {
        "id": "jqwIJDUewZlR"
      },
      "source": [
        "# Data"
      ]
    },
    {
      "cell_type": "markdown",
      "metadata": {
        "id": "H-HFadQCNeYw"
      },
      "source": [
        "## DataLoader\n",
        "\n",
        "When creating unsupervised loader (self-supervised mode) all images are randomly cropped and resized, and are randomly horizontally flipped. When creating train and test loader (supervised mode), the images are only center cropped and resized.\n",
        "\n",
        "Unsupervised loader: After image augmentation, images are patchified and proper transformations (exemplar or rotation) are applied\n",
        "\n",
        "Train loader (supervised): Images are only patchfied.\n",
        "\n",
        "Test loader (supervised): Images are only patchified."
      ]
    },
    {
      "cell_type": "code",
      "metadata": {
        "id": "c9l4HtCpNg9g"
      },
      "source": [
        "aug = {\n",
        "    \"cifar10\": {\n",
        "        \"mean\": [0.49139968, 0.48215827, 0.44653124],\n",
        "        \"std\": [0.24703233, 0.24348505, 0.26158768],\n",
        "        \"bw_mean\": [0.4808616],\n",
        "        \"bw_std\": [0.23919088],\n",
        "    }\n",
        "}\n",
        "\n",
        "############ Do transformations given the mode ##############################\n",
        "# This function applies transformations to the entire image, then creates augmented\n",
        "# patch grids given the mode. \n",
        "\n",
        "def get_transforms(eval, aug, augment_mode='rotate'):\n",
        "    trans = []\n",
        "    \n",
        "    # Crop full image\n",
        "    if not eval:\n",
        "        trans.append(transforms.RandomCrop(crop_size, padding))\n",
        "    else:\n",
        "        trans.append(transforms.CenterCrop(crop_size))\n",
        "\n",
        "    # Resize image after cropping\n",
        "    if image_resize:\n",
        "        trans.append(transforms.Resize(image_resize))\n",
        "\n",
        "    # Flip image\n",
        "    if not eval:\n",
        "        trans.append(transforms.RandomHorizontalFlip())\n",
        "\n",
        "    trans.append(transforms.ToTensor())\n",
        "    if eval or not patch_aug:\n",
        "        trans.append(transforms.Normalize(mean=aug[\"mean\"], std=aug[\"std\"]))\n",
        "\n",
        "    # If training CPC then patchify, if required also augment\n",
        "    if not fully_supervised:\n",
        "        if not eval and patch_aug:\n",
        "            trans.append(PatchifyAugment(grid_size=grid_size))\n",
        "        else:\n",
        "            trans.append(Patchify(grid_size=grid_size))\n",
        "\n",
        "    # If patch_aug then normalization goes last\n",
        "    if not eval and patch_aug:\n",
        "        trans.append(PatchAugNormalize(mean=aug[\"mean\"], std=aug[\"std\"]))\n",
        "\n",
        "    trans = transforms.Compose(trans)\n",
        "\n",
        "    s = \"Testing\" if eval else \"Training\"\n",
        "    print(s + \": \" + str(trans))\n",
        "\n",
        "    return trans\n",
        "\n",
        "\n",
        "############### Create unsupervised_loader, train_loader and test_loader ###########\n",
        "\n",
        "def get_cifar10_dataloader():\n",
        "\n",
        "    data_path = os.path.join(\"data\", \"cifar10\")\n",
        "\n",
        "    # Define Transforms\n",
        "    transform_train = transforms.Compose(\n",
        "        [get_transforms(eval=False, aug=aug[\"cifar10\"])])\n",
        "    transform_valid = transforms.Compose(\n",
        "        [get_transforms(eval=True, aug=aug[\"cifar10\"])])\n",
        "\n",
        "    # Get Datasets\n",
        "    unsupervised_dataset = torchvision.datasets.CIFAR10(\n",
        "        data_path, train=True, transform=transform_train, download=True\n",
        "    )\n",
        "    test_dataset = torchvision.datasets.CIFAR10(\n",
        "        data_path, train=False, transform=transform_valid, download=True\n",
        "    )\n",
        "\n",
        "    # Get DataLoaders\n",
        "    unsupervised_loader = torch.utils.data.DataLoader(\n",
        "        unsupervised_dataset, batch_size=batch_size, shuffle=True, num_workers=num_workers\n",
        "    )\n",
        "    test_loader = torch.utils.data.DataLoader(\n",
        "        test_dataset, batch_size=batch_size, shuffle=False, num_workers=num_workers\n",
        "    )\n",
        "\n",
        "    # Take subset of training data for train_classifier\n",
        "    #try:\n",
        "    indices = list(range(len(unsupervised_dataset)))\n",
        "    np.random.shuffle(indices)\n",
        "    train_indices = indices[:train_size]\n",
        "    train_sampler = torch.utils.data.sampler.SubsetRandomSampler(train_indices)\n",
        "    train_loader = torch.utils.data.DataLoader(\n",
        "        unsupervised_dataset, batch_size=batch_size, sampler=train_sampler, num_workers=num_workers,\n",
        "    )\n",
        "    #except:  \n",
        "    #    # args.train_size is not defined during train_CPC\n",
        "    #    # train_loader is not needed during train_CPC\n",
        "    #    print('...')\n",
        "    #    train_loader = None\n",
        "\n",
        "    return (unsupervised_loader, train_loader, test_loader)\n",
        "\n"
      ],
      "execution_count": 18,
      "outputs": []
    },
    {
      "cell_type": "markdown",
      "metadata": {
        "id": "S5-MGjzhZEEc"
      },
      "source": [
        "## Image Processing\n",
        "\n",
        "Augmentation is done here\n",
        "\n",
        "Original images are horizontally flipped, then image patches are augmented\n",
        "\n",
        "augment_mode: rotate -> randomly a rotation from -30 to +30 degrees is applied\n",
        "\n",
        "augment_mode: exemplar -> randomly choose 2 of these for each patch (shear + brightness(scaling) + contrast + color + rotation + invertion + translation + solarization ) and with 0.25 probability convert to grayscale\n",
        "\n",
        "Original Exemplar augmentation is much simpler than the augmentations defined here; but these augmentations are nothing but a more complicated variation of the same augmentations used in the paper. the author of Exemplar paper encourages adding other similar augmentations especially ones that change and work with color."
      ]
    },
    {
      "cell_type": "code",
      "metadata": {
        "id": "Ky4fjIVhZDh6"
      },
      "source": [
        "\n",
        "\n",
        "\n",
        "class Patchify(object):     \n",
        "    \"\"\"Convert tensor image into grid of patches, where each path overlaps half of its neighbours\n",
        "\n",
        "    Args:\n",
        "        grid_size (int): defines the output grid size for the patchification\n",
        "    \"\"\"\n",
        "    def __init__(self, grid_size):\n",
        "        self.grid_size = grid_size\n",
        "        self.patch_size = None\n",
        "\n",
        "    def __call__(self, x):\n",
        "        \"\"\"\n",
        "        Args:\n",
        "            tensor (Tensor): Tensor image of size (C, H, W) to be patchified.\n",
        "\n",
        "        Returns:\n",
        "            Tensor: Patchified Tensor image of shape (grid_size x grid_size x C x patch_size x patch_size)\n",
        "        \"\"\"\n",
        "\n",
        "        # Calculate the size of the patches\n",
        "        if self.patch_size is None:         \n",
        "            # Patchifying requires a square input image\n",
        "            if x.shape[1] != x.shape[2]:\n",
        "                raise Exception(\"Patchifying requires a square input image\")\n",
        "            \n",
        "            patch_size = float(x.shape[2] / (self.grid_size + 1) * 2)\n",
        "\n",
        "            # Not all grid sizes are compatable, ensure that patch_size is a whole number\n",
        "            if patch_size.is_integer():\n",
        "                self.patch_size = int(patch_size)\n",
        "            else:\n",
        "                raise Exception(\"The specified grid size did not fit the image\")\n",
        "\n",
        "        # Input x = (channels, img_size, img_size)\n",
        "        # Patchify to (grid_size, grid_size, channels, patch_size, patch_size)\n",
        "        x = (\n",
        "            x.unfold(1, self.patch_size, self.patch_size // 2)\n",
        "            .unfold(2, self.patch_size, self.patch_size // 2)\n",
        "            .permute(1, 2, 0, 3, 4)\n",
        "            .contiguous()\n",
        "        )\n",
        "\n",
        "        return x\n",
        "\n",
        "    def __repr__(self):\n",
        "        return self.__class__.__name__ + '(grid_size={0})'.format(self.grid_size)\n",
        "\n",
        "\n",
        "class PatchifyAugment(Patchify):\n",
        "    \"\"\"Convert tensor image into grid of patches, where each path overlaps half of its neighbours. \n",
        "    Then applies patch based augmentation.\n",
        "\n",
        "    Args:\n",
        "        gray (boolean): defines whether the input tensor is coloured or not\n",
        "        grid_size (int): defines the output grid size for the patchification\n",
        "    \"\"\"\n",
        "\n",
        "    def __init__(self, grid_size):\n",
        "        super().__init__(grid_size=grid_size)\n",
        "        self.gray = 0\n",
        "        self.augment_mode = augment_mode\n",
        "        # As labeled certain transformations have been written so that they\n",
        "        # are applied on tensors, this alleviates the need to convert to PIL.Image\n",
        "\n",
        "        self.transformations = [\n",
        "            self.ShearX, # PIL\n",
        "            self.ShearY, # PIL\n",
        "            self.TranslateX, # Tensor\n",
        "            self.TranslateY, # Tensor\n",
        "            self.Rotate, # PIL\n",
        "            PIO.autocontrast, # PIL \n",
        "            self.Invert, # Tensor\n",
        "            PIO.equalize, # PIL \n",
        "            self.Solarize, # Tensor\n",
        "            self.Posterize, # Tensor \n",
        "            self.Contrast, # PIL \n",
        "            self.Brightness, # PIL \n",
        "            self.Sharpness, # PIL \n",
        "            self.Cutout # Tensor\n",
        "        ]\n",
        "        if not self.gray:\n",
        "            self.transformations.append(self.Color)\n",
        "\n",
        "    def __call__(self, x):\n",
        "        \"\"\"\n",
        "        Args:\n",
        "            tensor (Tensor): Tensor image of size (C, H, W) to be patchified and augmented.\n",
        "\n",
        "        Returns:\n",
        "            Tensor: Patchified and Augmented Tensor image of shape (grid_size x grid_size x C x patch_size x patch_size)\n",
        "        \"\"\"\n",
        "        # Patchify using parent class\n",
        "        x = super().__call__(x) \n",
        "        \n",
        "        self.number_of_transforms = 2\n",
        "        self.patch_dim = (self.patch_size, self.patch_size)\n",
        "        \n",
        "        # For each path apply augmentation as in CPC V2\n",
        "        for patch_row in range(self.grid_size):\n",
        "            for patch_col in range(self.grid_size):\n",
        "                patch = x[patch_row][patch_col]\n",
        "                \n",
        "                if self.augment_mode == 'exemplar':\n",
        "                  # Randomly choose two of the 16 (15 if grayscale) transformations from AutoAugment\n",
        "                  for _ in range(self.number_of_transforms):\n",
        "                      rand = random.randint(0, len(self.transformations)) \n",
        "\n",
        "                      # Tensor based functions - TranslateX/Y, Invert, Solarize, Posterize, Cutout\n",
        "                      if rand == 2 or rand == 3 or rand == 6 or rand == 8 or rand == 9 or rand == 13 : \n",
        "                          transform = self.transformations[rand]\n",
        "                          x[patch_row][patch_col] = transform(patch)\n",
        "\n",
        "                      # Tensor based function - SamplePairing - requires two inputs\n",
        "                      elif rand == len(self.transformations):\n",
        "                          other_patch_row = random.randint(0, self.grid_size - 1)\n",
        "                          other_patch_col = random.randint(0, self.grid_size - 1)\n",
        "                          other_patch = x[other_patch_row][other_patch_col]\n",
        "\n",
        "                          x[patch_row][patch_col] = self.SamplePairing(patch, other_patch)\n",
        "\n",
        "                      # PIL functions\n",
        "                      else:   \n",
        "                          # Convert patch from tensor to PIL image\n",
        "                          patch_PIL = transforms.ToPILImage()(patch)\n",
        "\n",
        "                          # Choose transform from transformations array\n",
        "                          transform = self.transformations[rand]\n",
        "                          patch_PIL = transform(patch_PIL)\n",
        "\n",
        "                          # Convert PIL back to tensor\n",
        "                          x[patch_row][patch_col] = transforms.ToTensor()(patch_PIL)\n",
        "\n",
        "                  # 4. Greyscale with 25% chance\n",
        "                  if random.random() < 0.25:\n",
        "                      patch_PIL = transforms.ToPILImage()(patch)\n",
        "                      patch_PIL = transforms.Grayscale()(patch_PIL)\n",
        "                      x[patch_row][patch_col] = transforms.ToTensor()(patch_PIL)\n",
        "\n",
        "                elif self.augment_mode == 'rotate':\n",
        "                    patch_PIL = transforms.ToPILImage()(patch)\n",
        "                    transform = self.transformations[4]\n",
        "                    patch_PIL = transform(patch_PIL)\n",
        "                    x[patch_row][patch_col] = transforms.ToTensor()(patch_PIL)\n",
        "        return x\n",
        "\n",
        "    def __repr__(self):\n",
        "        return self.__class__.__name__ + f'(grid_size={self.grid_size}, gray={self.gray})'\n",
        "\n",
        "    # The following transformations either use PIL or are performed directly on Tensors\n",
        "    def ShearX(self, pil_img):\n",
        "        level = random.random() * 0.6 - 0.3  # [-0.3,0.3] As in AutoAugment\n",
        "        return pil_img.transform(self.patch_dim, Image.AFFINE, (1, level, 0, 0, 1, 0))\n",
        "\n",
        "\n",
        "    def ShearY(self, pil_img):\n",
        "        level = random.random() * 0.6 - 0.3  # [-0.3,0.3] As in AutoAugment\n",
        "        return pil_img.transform(self.patch_dim, Image.AFFINE, (1, 0, 0, level, 1, 0))\n",
        "\n",
        "\n",
        "    def TranslateX(self, patch):\n",
        "        # Autoaugment does [-150,150] pixels which is eqiuvalent to 45% of 331x331 image\n",
        "        # 1/3 of patch - 45% seems excessive\n",
        "        pixels = random.randint(int(-self.patch_size/3), int(self.patch_size/3))\n",
        "        channels = patch.shape[0]\n",
        "\n",
        "        # (C, H, W) - columns are dim 2\n",
        "        if pixels < 0:\n",
        "            patch = torch.cat((patch[:,:,-pixels:], torch.zeros(channels, self.patch_size, -pixels)), dim=2)\n",
        "        elif pixels > 0:\n",
        "            patch = torch.cat((torch.zeros(channels, self.patch_size, pixels), patch[:,:,:self.patch_size-pixels]), dim=2)\n",
        "\n",
        "        return patch\n",
        "        #return pil_img.transform(self.patch_dim, Image.AFFINE, (1, 0, pixels, 0, 1, 0))\n",
        "\n",
        "\n",
        "    def TranslateY(self, patch):\n",
        "        # Autoaugment does [-150,150] pixels which is eqiuvalent to ~1/2 of 331x331 image\n",
        "        # 1/3 of patch - 45% seems excessive\n",
        "        pixels = random.randint(int(-self.patch_size/3), int(self.patch_size/3))\n",
        "        channels = patch.shape[0]\n",
        "\n",
        "        # (C, H, W) - rows are dim 1\n",
        "        if pixels < 0:\n",
        "            patch = torch.cat((patch[:,-pixels:,:], torch.zeros(channels, -pixels, self.patch_size)), dim=1)\n",
        "        elif pixels > 0:\n",
        "            patch = torch.cat((torch.zeros(channels, pixels, self.patch_size), patch[:,:self.patch_size-pixels,:]), dim=1)\n",
        "\n",
        "        return patch\n",
        "        #return pil_img.transform(self.patch_dim, Image.AFFINE, (1, 0, pixels, 0, 1, 0))\n",
        "        \n",
        "\n",
        "    def Rotate(self, pil_img):\n",
        "        degrees = random.random() * 60 - 30  # [-20, 20] as in AutoSegment\n",
        "        return pil_img.rotate(degrees)\n",
        "\n",
        "\n",
        "    def Invert(self, patch):\n",
        "        return 1 - patch\n",
        "\n",
        "\n",
        "    def Solarize(self, patch):\n",
        "        threshold = random.random() # [0, 1) - equivalent to [0, 256] as in AutoSegment\n",
        "        cond = patch >= threshold\n",
        "        patch[cond] = 1 - patch[cond]\n",
        "        return patch\n",
        "        #threshold = random.randint(0, 256)  # [0, 256] as in AutoSegment\n",
        "        #return PIO.solarize(pil_img, threshold)\n",
        "\n",
        "\n",
        "    def Posterize(self, patch):\n",
        "        bits = random.randint(4, 8)  # [4,8] as in AutoSegment\n",
        "        patch = (patch * 255) // (2 ** (8 - bits)) * (2 ** (8-bits)) / 255\n",
        "        return patch\n",
        "        #return PIO.posterize(pil_img, bits)\n",
        "\n",
        "\n",
        "    def Contrast(self, pil_img):\n",
        "        level = random.random() * 1.8 + 0.1  # [0.1,1.9] As in AutoAugment\n",
        "        return PIE.Contrast(pil_img).enhance(level)\n",
        "\n",
        "\n",
        "    def Color(self, pil_img):\n",
        "        level = random.random() * 1.8 + 0.1  # [0.1,1.9] As in AutoAugment\n",
        "        return PIE.Color(pil_img).enhance(level)\n",
        "\n",
        "\n",
        "    def Brightness(self, pil_img):\n",
        "        level = random.random() * 1.8 + 0.1  # [0.1,1.9] As in AutoAugment\n",
        "        return PIE.Brightness(pil_img).enhance(level)\n",
        "\n",
        "\n",
        "    def Sharpness(self, pil_img):\n",
        "        level = random.random() * 1.8 + 0.1  # [0.1,1.9] As in AutoAugment\n",
        "        return PIE.Sharpness(pil_img).enhance(level)\n",
        "\n",
        "\n",
        "    def Cutout(self, patch):\n",
        "        # Autoaugment does [0, 60] pixels which is eqiuvalent to ~1/5th of 331x331 image\n",
        "        # 1/3 of patch otherwise they are too small\n",
        "        size = random.randint(1, int(self.patch_size/3))\n",
        "\n",
        "        # generate top_left crop coordinate\n",
        "        x_coord = random.randint(0, self.patch_size - size)\n",
        "        y_coord = random.randint(0, self.patch_size - size)\n",
        "\n",
        "        patch[:, x_coord:x_coord+size, y_coord:y_coord+size] = 0.5\n",
        "\n",
        "        return patch\n",
        "\n",
        "\n",
        "    def SamplePairing(self, patch, other_patch):\n",
        "        level = random.random() * 0.4 # [0, 0.4] As in AutoAugment\n",
        "        return patch + level * other_patch\n",
        "\n",
        "\n",
        "class PrePatchAugNormalizeReshape(object):\n",
        "    \"\"\"\n",
        "    Converts a tensor (grid_size x grid_size x C x patch_size x patch_size) to (C x  grid_size**2 x patch_size**2)\n",
        "    \"\"\"\n",
        "    def __call__(self, img):\n",
        "        # Move C to start\n",
        "        img = img.permute(2, 0, 1, 3, 4)\n",
        "\n",
        "        # Combine dimnensions\n",
        "        img = img.view(img.shape[0], img.shape[1] * img.shape[2], img.shape[3] * img.shape[4]) \n",
        "\n",
        "        return img\n",
        "\n",
        "    def __repr__(self):\n",
        "        return self.__class__.__name__ + '()'\n",
        "\n",
        "\n",
        "class PostPatchAugNormalizeReshape(object):\n",
        "    \"\"\"\n",
        "    Converts a tensor (C x  grid_size**2 x patch_size**2) to (grid_size x grid_size x C x patch_size x patch_size)\n",
        "    \"\"\"\n",
        "    def __call__(self, img):\n",
        "        # Calcualte grid and patch size\n",
        "        grid_size = int(img.shape[1] ** 0.5)\n",
        "        patch_size = int(img.shape[2] ** 0.5)\n",
        "\n",
        "        # Get rid of grid_size**2 and patch_size**2\n",
        "        img = img.view(img.shape[0], grid_size, grid_size, patch_size, patch_size) \n",
        "\n",
        "        # Move C to dim 2\n",
        "        img = img.permute(1, 2, 0, 3, 4)\n",
        "\n",
        "        return img\n",
        "\n",
        "    def __repr__(self):\n",
        "        return self.__class__.__name__ + '()'\n",
        "\n",
        "\n",
        "class PatchAugNormalize(object):\n",
        "    \"\"\"Normalize a tensor image with mean and standard deviation.\n",
        "    Given the input shape of (grid_size x grid_size x C x patch_size x patch_size) \n",
        "    it performs reshaping before and after the normalization\n",
        "\n",
        "    Args:\n",
        "        mean (sequence): Sequence of means for each channel.\n",
        "        std (sequence): Sequence of standard deviations for each channel.\n",
        "    \"\"\"\n",
        "    def __init__(self, mean, std):\n",
        "        self.mean = mean\n",
        "        self.std = std\n",
        "\n",
        "    def __call__(self, img):\n",
        "        \"\"\"\n",
        "        Args:\n",
        "            tensor (Tensor): Tensor image of size (grid_size x grid_size x C x patch_size x patch_size) to be normalized.\n",
        "\n",
        "        Returns:\n",
        "            Tensor: Normalized Tensor image.\n",
        "        \"\"\"\n",
        "        img = PrePatchAugNormalizeReshape()(img)\n",
        "        img = transforms.Normalize(mean=self.mean, std=self.std)(img)\n",
        "        img = PostPatchAugNormalizeReshape()(img)\n",
        "        return img\n",
        "\n",
        "    def __repr__(self):\n",
        "        return self.__class__.__name__ + f'(mean={self.mean}, std={self.std})'"
      ],
      "execution_count": 19,
      "outputs": []
    },
    {
      "cell_type": "markdown",
      "metadata": {
        "id": "Dx-Vsm3FvhTU"
      },
      "source": [
        "# Self-Supervised CPC Training Functions"
      ]
    },
    {
      "cell_type": "code",
      "metadata": {
        "id": "gd3VRcD6vklU"
      },
      "source": [
        "\n",
        "################### Main self-supervised training function ################################\n",
        "\n",
        "def train():\n",
        "\n",
        "  try:\n",
        "    iter_per_epoch = len(unsupervised_loader)\n",
        "    epoch_loss_batches = round(0.9 * iter_per_epoch)\n",
        "\n",
        "    for epoch in range(trained_epochs+1, trained_epochs+epochs+1):\n",
        "        prev_time = time.time()\n",
        "        epoch_loss = 0\n",
        "\n",
        "        for i, (batch, _) in enumerate(tqdm(unsupervised_loader, disable=print_option, dynamic_ncols=True)):       \n",
        "            net.zero_grad()\n",
        "            loss = net(batch.to('cuda'))\n",
        "            loss.backward()\n",
        "            optimizer.step()\n",
        "\n",
        "            # Total loss of last 10% of batches\n",
        "            if i >= epoch_loss_batches:\n",
        "                epoch_loss += float(loss)\n",
        "\n",
        "            if (((i+1) % (iter_per_epoch//10)) == 0 or i == 0) and print_option == 1:\n",
        "                if i == 0:\n",
        "                    div = 1\n",
        "                elif i+1 == print_interval:\n",
        "                    div = print_interval - 1\n",
        "                else:\n",
        "                    div = print_interval\n",
        "\n",
        "                avg_time = (time.time() - prev_time) / div\n",
        "                prev_time = time.time()\n",
        "\n",
        "                # Print interval statistics\n",
        "                print(\n",
        "                    'Epoch {}/{}, Iteration {}/{}, Loss: {:.4f}, Time(s): {:.2f}'.format(\n",
        "                        epoch,\n",
        "                        trained_epochs + epochs,\n",
        "                        i+1,\n",
        "                        iter_per_epoch,\n",
        "                        loss,\n",
        "                        avg_time\n",
        "                    )\n",
        "                )\n",
        "\n",
        "        # Results at end of epoch\n",
        "        print(\n",
        "            'Epoch {}/{}, Epoch Loss: {:.4f}'.format(\n",
        "                epoch,\n",
        "                trained_epochs + epochs,\n",
        "                epoch_loss/(iter_per_epoch-epoch_loss_batches),\n",
        "            )\n",
        "        )\n",
        "\n",
        "        # Save net at every epoch\n",
        "        save_to_checkpoint(net, optimizer, epoch_loss/(iter_per_epoch-epoch_loss_batches), epoch)\n",
        "\n",
        "\n",
        "  except KeyboardInterrupt:\n",
        "    print(\"\\nEnding Program on Keyboard Interrupt\")\n",
        "\n",
        "\n",
        "\n",
        "################################# Checkpoint ##################################\n",
        "\n",
        "def save_to_checkpoint(net, optimizer, loss, epoch):\n",
        "    print('Saving..')\n",
        "    state = {\n",
        "        'model': net.state_dict(),\n",
        "        'optimizer': optimizer.state_dict(),\n",
        "        'loss': loss,\n",
        "        'epoch': epoch\n",
        "    }\n",
        "    if not os.path.isdir(checkpoint_dir):\n",
        "        os.mkdir(checkpoint_dir)\n",
        "    torch.save(state, checkpoint_dir + 'ckpt.pth')\n",
        "\n",
        "\n",
        "def load_from_checkpoint():\n",
        "    #try:\n",
        "      print('==> Resuming from checkpoint..')\n",
        "      checkpoint = torch.load(checkpoint_dir + 'ckpt.pth')\n",
        "      net.load_state_dict(checkpoint['model'])\n",
        "      optimizer.load_state_dict(checkpoint['optimizer'])\n",
        "      loss = checkpoint['loss']\n",
        "      epoch = checkpoint['epoch'] \n",
        "\n",
        "      print('recovered loss and epoch:')\n",
        "      print(loss)\n",
        "      print(epoch)\n",
        "\n",
        "    #except:\n",
        "     # a = input('no checkpoint detected... start from beginning? (y/n)')\n",
        "    #  if a == 'n':\n",
        "     #   exit()\n",
        "\n",
        "################################ Show image grid #########################################\n",
        "\n",
        "def imshow(img):\n",
        "    img = img.cpu()\n",
        "    npimg = img.numpy()\n",
        "    plt.imshow(np.transpose(npimg, (1, 2, 0)))\n",
        "    plt.show()\n",
        "\n"
      ],
      "execution_count": 20,
      "outputs": []
    },
    {
      "cell_type": "markdown",
      "metadata": {
        "id": "r8i_6QqY3imy"
      },
      "source": [
        "# Supervised CPC Classifier Training Functions"
      ]
    },
    {
      "cell_type": "code",
      "metadata": {
        "id": "pLSWoEuH3iOh"
      },
      "source": [
        "\n",
        "# Process a batch, return accuracy and loss\n",
        "def fwd_pass(x, y, train=False):\n",
        "    \n",
        "    # Run the network\n",
        "    if train:\n",
        "        net.zero_grad()\n",
        "        net.train()\n",
        "        outputs = net(x)\n",
        "\n",
        "    else:\n",
        "        net.eval()\n",
        "        with torch.no_grad():\n",
        "            outputs = net(x)\n",
        "\n",
        "    # Compute accuracy\n",
        "    matches = [torch.argmax(i) == j for i, j in zip(outputs, y)]\n",
        "    acc = matches.count(True)/len(matches)\n",
        "\n",
        "    # Compute loss\n",
        "    loss = loss_function(outputs, y)\n",
        "\n",
        "    if train:\n",
        "        loss.backward()\n",
        "        optimizer.step()\n",
        "\n",
        "    return loss, acc\n",
        "\n",
        "\n",
        "def train_classifier():\n",
        "    best_acc = 0\n",
        "    best_epoch = 0\n",
        "    for epoch in range(1, epochs+1):\n",
        "        epoch_loss = 0\n",
        "        epoch_acc = 0\n",
        "\n",
        "        for batch_img, batch_lbl in tqdm(train_loader, dynamic_ncols=True):\n",
        "            loss, acc = fwd_pass(batch_img.to('cuda'), batch_lbl.to('cuda'), train=True)\n",
        "            epoch_loss += loss\n",
        "            epoch_acc += acc\n",
        "\n",
        "        epoch_loss /= len(train_loader)\n",
        "        epoch_acc /= len(train_loader)\n",
        "\n",
        "        # Get learning rate\n",
        "        lr = round(optimizer.param_groups[0]['lr'], 10)\n",
        "        \n",
        "        #test the performance\n",
        "        test_loss, test_acc = test()\n",
        "\n",
        "        if test_acc > best_acc:\n",
        "            best_acc = test_acc\n",
        "            best_epoch = epoch\n",
        "            \n",
        "        print(f\"Epoch: {epoch}/{epochs} (lr={lr})\\n\"\n",
        "              f\"Train: {epoch_loss:.4f}, {epoch_acc*100:.2f}%\\n\"\n",
        "              f\"Test:  {test_loss:.4f}, {test_acc*100:.2f}%\")\n",
        "\n",
        "    print(f\"Best Accuracy: {best_acc*100:.2f} - epoch {best_epoch}\")\n",
        "\n",
        "\n",
        "def test():\n",
        "    total_test_acc = 0\n",
        "    total_test_loss = 0\n",
        "\n",
        "    for batch_img, batch_lbl in tqdm(test_loader, dynamic_ncols=True):\n",
        "        loss, acc = fwd_pass(batch_img.to('cuda'), batch_lbl.to('cuda'), train=False)\n",
        "        total_test_acc += acc\n",
        "        total_test_loss += loss\n",
        "\n",
        "    return total_test_loss / len(test_loader), total_test_acc / len(test_loader)\n"
      ],
      "execution_count": 21,
      "outputs": []
    },
    {
      "cell_type": "markdown",
      "metadata": {
        "id": "fyJKwwrOAwg6"
      },
      "source": [
        "# Resnet18 Exemplar"
      ]
    },
    {
      "cell_type": "markdown",
      "metadata": {
        "id": "iDPbSYi7RFQ0"
      },
      "source": [
        "## Self-Supervised"
      ]
    },
    {
      "cell_type": "markdown",
      "metadata": {
        "id": "Vpk6RcAZXzbM"
      },
      "source": [
        "### Config\n",
        "\n",
        "batch_size = 32\n",
        "\n",
        "augment_mode = exemplar\n",
        "\n",
        "encoder_model = resnet18"
      ]
    },
    {
      "cell_type": "code",
      "metadata": {
        "id": "geRBqrpVX0qM"
      },
      "source": [
        "checkpoint_dir = './drive/MyDrive/ADL/3_3/resnet_checkpoint_exemplar/'\n",
        "augment_mode = 'exemplar'\n",
        "encoder_model = \"resnet18\"\n",
        "trained_epochs = 0\n",
        "\n",
        "train_size = None\n",
        "fully_supervised = 0 \n",
        "\n",
        "batch_size = 32 \n",
        "lr = 2e-4"
      ],
      "execution_count": 22,
      "outputs": []
    },
    {
      "cell_type": "markdown",
      "metadata": {
        "id": "Uig53J9DvMn8"
      },
      "source": [
        "### Load Model"
      ]
    },
    {
      "cell_type": "code",
      "metadata": {
        "id": "SQa-aMfSregZ"
      },
      "source": [
        "\n",
        "# Define Encoder Network\n",
        "if encoder_model == \"resnet18\":\n",
        "  enc = ResNet18(BasicBlock, [2, 2, 2, 2], use_classifier=False)\n",
        "elif encoder_model == \"vgg\":\n",
        "  enc = VGG16(use_classifier=False)\n",
        "    \n",
        "# Define Autrogressive Network\n",
        "ar = PixelCNN(in_channels=enc.encoding_size)\n",
        "\n",
        "# Define CPC Network\n",
        "net = CPC(enc, ar, pred_directions, pred_steps, neg_samples)\n",
        "net = net.to('cuda')\n",
        "\n",
        "\n",
        "# Freeze classifier layer - save memory\n",
        "for name, param in net.named_parameters():\n",
        "    if (\"linear\" in name) or ('classifier' in name):\n",
        "        param.requires_grad = False\n",
        "\n",
        "optimizer = optim.Adam(filter(lambda p: p.requires_grad, net.parameters()), lr=lr)\n",
        "\n",
        "if trained_epochs != 0: # Load from checkpoint\n",
        "  load_from_checkpoint()\n",
        "  net.train()"
      ],
      "execution_count": 24,
      "outputs": []
    },
    {
      "cell_type": "markdown",
      "metadata": {
        "id": "RjWfssnBvtmM"
      },
      "source": [
        "### Load data\n",
        "\n",
        "grid patches of an image after Exemplar augmentation are shown below"
      ]
    },
    {
      "cell_type": "code",
      "metadata": {
        "id": "OeZZ_aTBvvR3",
        "colab": {
          "base_uri": "https://localhost:8080/",
          "height": 891
        },
        "outputId": "713e8fdd-0bb6-44cf-b776-ee900fc11c56"
      },
      "source": [
        "# Get selected dataset\n",
        "\n",
        "unsupervised_loader, _, _ = get_cifar10_dataloader()\n",
        "\n",
        "# Test it\n",
        "s = iter(unsupervised_loader)\n",
        "x, y = s.next()\n",
        "\n",
        "print(x.size())\n",
        "print(y.size())\n",
        "\n",
        "for i in range(4):\n",
        "  imshow(torchvision.utils.make_grid(x[0, i]))"
      ],
      "execution_count": 26,
      "outputs": [
        {
          "output_type": "stream",
          "text": [
            "Training: Compose(\n",
            "    RandomCrop(size=(30, 30), padding=2)\n",
            "    RandomHorizontalFlip(p=0.5)\n",
            "    ToTensor()\n",
            "    PatchifyAugment(grid_size=5, gray=0)\n",
            "    PatchAugNormalize(mean=[0.49139968, 0.48215827, 0.44653124], std=[0.24703233, 0.24348505, 0.26158768])\n",
            ")\n",
            "Testing: Compose(\n",
            "    CenterCrop(size=(30, 30))\n",
            "    ToTensor()\n",
            "    Normalize(mean=[0.49139968, 0.48215827, 0.44653124], std=[0.24703233, 0.24348505, 0.26158768])\n",
            "    Patchify(grid_size=5)\n",
            ")\n",
            "Files already downloaded and verified\n",
            "Files already downloaded and verified\n"
          ],
          "name": "stdout"
        },
        {
          "output_type": "stream",
          "text": [
            "/usr/local/lib/python3.7/dist-packages/torch/_tensor.py:575: UserWarning: floor_divide is deprecated, and will be removed in a future version of pytorch. It currently rounds toward 0 (like the 'trunc' function NOT 'floor'). This results in incorrect rounding for negative values.\n",
            "To keep the current behavior, use torch.div(a, b, rounding_mode='trunc'), or for actual floor division, use torch.div(a, b, rounding_mode='floor'). (Triggered internally at  /pytorch/aten/src/ATen/native/BinaryOps.cpp:467.)\n",
            "  return torch.floor_divide(self, other)\n",
            "Clipping input data to the valid range for imshow with RGB data ([0..1] for floats or [0..255] for integers).\n"
          ],
          "name": "stderr"
        },
        {
          "output_type": "stream",
          "text": [
            "torch.Size([32, 5, 5, 3, 10, 10])\n",
            "torch.Size([32])\n"
          ],
          "name": "stdout"
        },
        {
          "output_type": "display_data",
          "data": {
            "image/png": "[encoded data removed]",
            "text/plain": [
              "<Figure size 432x288 with 1 Axes>"
            ]
          },
          "metadata": {
            "tags": [],
            "needs_background": "light"
          }
        },
        {
          "output_type": "stream",
          "text": [
            "Clipping input data to the valid range for imshow with RGB data ([0..1] for floats or [0..255] for integers).\n"
          ],
          "name": "stderr"
        },
        {
          "output_type": "display_data",
          "data": {
            "image/png": "[encoded data removed]",
            "text/plain": [
              "<Figure size 432x288 with 1 Axes>"
            ]
          },
          "metadata": {
            "tags": [],
            "needs_background": "light"
          }
        },
        {
          "output_type": "stream",
          "text": [
            "Clipping input data to the valid range for imshow with RGB data ([0..1] for floats or [0..255] for integers).\n"
          ],
          "name": "stderr"
        },
        {
          "output_type": "display_data",
          "data": {
            "image/png": "[encoded data removed]",
            "text/plain": [
              "<Figure size 432x288 with 1 Axes>"
            ]
          },
          "metadata": {
            "tags": [],
            "needs_background": "light"
          }
        },
        {
          "output_type": "stream",
          "text": [
            "Clipping input data to the valid range for imshow with RGB data ([0..1] for floats or [0..255] for integers).\n"
          ],
          "name": "stderr"
        },
        {
          "output_type": "display_data",
          "data": {
            "image/png": "[encoded data removed]",
            "text/plain": [
              "<Figure size 432x288 with 1 Axes>"
            ]
          },
          "metadata": {
            "tags": [],
            "needs_background": "light"
          }
        }
      ]
    },
    {
      "cell_type": "markdown",
      "metadata": {
        "id": "x_DgCxqFvxc8"
      },
      "source": [
        "### Train\n",
        "\n",
        "Epoch 6/20, Epoch Loss: 1.4041"
      ]
    },
    {
      "cell_type": "code",
      "metadata": {
        "colab": {
          "base_uri": "https://localhost:8080/"
        },
        "id": "mtDjaxYEvydj",
        "outputId": "901edaf1-7743-4724-c9d4-0cb1b9e33ac4"
      },
      "source": [
        "# Train the network\n",
        "print(f\"Encoder: {encoder_model}, Crop: {crop}, Grid Size: {grid_size}, Norm: {norm}, Pred Directions: {pred_directions}, Patch Aug: {patch_aug}\")\n",
        "\n",
        "train()"
      ],
      "execution_count": null,
      "outputs": [
        {
          "output_type": "stream",
          "text": [
            "Encoder: resnet18, Crop: 30-2, Grid Size: 5, Norm: , Pred Directions: 1, Patch Aug: 1\n",
            "Epoch 1/20, Iteration 1/1563, Loss: 2.0579, Time(s): 0.46\n",
            "Epoch 1/20, Iteration 156/1563, Loss: 2.0022, Time(s): 54.66\n",
            "Epoch 1/20, Iteration 312/1563, Loss: 2.1393, Time(s): 54.00\n",
            "Epoch 1/20, Iteration 468/1563, Loss: 1.9058, Time(s): 54.21\n",
            "Epoch 1/20, Iteration 624/1563, Loss: 1.9490, Time(s): 54.13\n",
            "Epoch 1/20, Iteration 780/1563, Loss: 1.9915, Time(s): 54.23\n",
            "Epoch 1/20, Iteration 936/1563, Loss: 1.9083, Time(s): 54.21\n",
            "Epoch 1/20, Iteration 1092/1563, Loss: 1.8893, Time(s): 54.22\n",
            "Epoch 1/20, Iteration 1248/1563, Loss: 1.9479, Time(s): 54.20\n",
            "Epoch 1/20, Iteration 1404/1563, Loss: 1.9258, Time(s): 54.22\n",
            "Epoch 1/20, Iteration 1560/1563, Loss: 1.7075, Time(s): 54.82\n",
            "Epoch 1/20, Epoch Loss: 1.8951\n",
            "Saving..\n",
            "Epoch 2/20, Iteration 1/1563, Loss: 1.7522, Time(s): 0.49\n",
            "Epoch 2/20, Iteration 156/1563, Loss: 1.8353, Time(s): 53.82\n",
            "Epoch 2/20, Iteration 312/1563, Loss: 1.9856, Time(s): 54.10\n",
            "Epoch 2/20, Iteration 468/1563, Loss: 1.6968, Time(s): 54.04\n",
            "Epoch 2/20, Iteration 624/1563, Loss: 1.7687, Time(s): 54.13\n",
            "Epoch 2/20, Iteration 780/1563, Loss: 1.9701, Time(s): 54.17\n",
            "Epoch 2/20, Iteration 936/1563, Loss: 1.7688, Time(s): 54.17\n",
            "Epoch 2/20, Iteration 1092/1563, Loss: 1.7636, Time(s): 54.20\n",
            "Epoch 2/20, Iteration 1248/1563, Loss: 1.7541, Time(s): 54.22\n",
            "Epoch 2/20, Iteration 1404/1563, Loss: 1.6618, Time(s): 54.24\n",
            "Epoch 2/20, Iteration 1560/1563, Loss: 1.6654, Time(s): 54.81\n",
            "Epoch 2/20, Epoch Loss: 1.7086\n",
            "Saving..\n",
            "Epoch 3/20, Iteration 1/1563, Loss: 1.5820, Time(s): 0.49\n",
            "Epoch 3/20, Iteration 156/1563, Loss: 1.7924, Time(s): 53.91\n",
            "Epoch 3/20, Iteration 312/1563, Loss: 1.5860, Time(s): 54.22\n",
            "Epoch 3/20, Iteration 468/1563, Loss: 1.6595, Time(s): 54.11\n",
            "Epoch 3/20, Iteration 624/1563, Loss: 1.6556, Time(s): 54.15\n",
            "Epoch 3/20, Iteration 780/1563, Loss: 1.6897, Time(s): 54.30\n",
            "Epoch 3/20, Iteration 936/1563, Loss: 1.6488, Time(s): 54.25\n",
            "Epoch 3/20, Iteration 1092/1563, Loss: 1.6512, Time(s): 54.23\n",
            "Epoch 3/20, Iteration 1248/1563, Loss: 1.6437, Time(s): 54.24\n",
            "Epoch 3/20, Iteration 1404/1563, Loss: 1.4542, Time(s): 54.23\n",
            "Epoch 3/20, Iteration 1560/1563, Loss: 1.6148, Time(s): 54.77\n",
            "Epoch 3/20, Epoch Loss: 1.5978\n",
            "Saving..\n",
            "Epoch 4/20, Iteration 1/1563, Loss: 1.6883, Time(s): 0.48\n",
            "Epoch 4/20, Iteration 156/1563, Loss: 1.4642, Time(s): 53.84\n",
            "Epoch 4/20, Iteration 312/1563, Loss: 1.4915, Time(s): 54.20\n",
            "Epoch 4/20, Iteration 468/1563, Loss: 1.7149, Time(s): 54.18\n",
            "Epoch 4/20, Iteration 624/1563, Loss: 1.5669, Time(s): 54.17\n",
            "Epoch 4/20, Iteration 780/1563, Loss: 1.5181, Time(s): 54.17\n",
            "Epoch 4/20, Iteration 936/1563, Loss: 1.6617, Time(s): 54.14\n",
            "Epoch 4/20, Iteration 1092/1563, Loss: 1.4894, Time(s): 54.15\n",
            "Epoch 4/20, Iteration 1248/1563, Loss: 1.4835, Time(s): 54.14\n",
            "Epoch 4/20, Iteration 1404/1563, Loss: 1.5696, Time(s): 54.15\n",
            "Epoch 4/20, Iteration 1560/1563, Loss: 1.3952, Time(s): 54.71\n",
            "Epoch 4/20, Epoch Loss: 1.5221\n",
            "Saving..\n",
            "Epoch 5/20, Iteration 1/1563, Loss: 1.6039, Time(s): 0.50\n",
            "Epoch 5/20, Iteration 156/1563, Loss: 1.4463, Time(s): 54.21\n",
            "Epoch 5/20, Iteration 312/1563, Loss: 1.5328, Time(s): 54.14\n",
            "Epoch 5/20, Iteration 468/1563, Loss: 1.4357, Time(s): 54.06\n",
            "Epoch 5/20, Iteration 624/1563, Loss: 1.5085, Time(s): 54.08\n",
            "Epoch 5/20, Iteration 780/1563, Loss: 1.6414, Time(s): 54.09\n",
            "Epoch 5/20, Iteration 936/1563, Loss: 1.4692, Time(s): 54.12\n",
            "Epoch 5/20, Iteration 1092/1563, Loss: 1.6743, Time(s): 54.13\n",
            "Epoch 5/20, Iteration 1248/1563, Loss: 1.3951, Time(s): 54.13\n",
            "Epoch 5/20, Iteration 1404/1563, Loss: 1.4211, Time(s): 54.12\n",
            "Epoch 5/20, Iteration 1560/1563, Loss: 1.3333, Time(s): 54.66\n",
            "Epoch 5/20, Epoch Loss: 1.4378\n",
            "Saving..\n",
            "Epoch 6/20, Iteration 1/1563, Loss: 1.5440, Time(s): 0.49\n",
            "Epoch 6/20, Iteration 156/1563, Loss: 1.2668, Time(s): 53.92\n",
            "Epoch 6/20, Iteration 312/1563, Loss: 1.3615, Time(s): 54.10\n",
            "Epoch 6/20, Iteration 468/1563, Loss: 1.4388, Time(s): 54.03\n",
            "Epoch 6/20, Iteration 624/1563, Loss: 1.4739, Time(s): 54.10\n",
            "Epoch 6/20, Iteration 780/1563, Loss: 1.4500, Time(s): 54.11\n",
            "Epoch 6/20, Iteration 936/1563, Loss: 1.4980, Time(s): 54.19\n",
            "Epoch 6/20, Iteration 1092/1563, Loss: 1.4054, Time(s): 54.22\n",
            "Epoch 6/20, Iteration 1248/1563, Loss: 1.3882, Time(s): 54.12\n",
            "Epoch 6/20, Iteration 1404/1563, Loss: 1.6243, Time(s): 54.24\n",
            "Epoch 6/20, Iteration 1560/1563, Loss: 1.3850, Time(s): 54.59\n",
            "Epoch 6/20, Epoch Loss: 1.4041\n",
            "Saving..\n",
            "Epoch 7/20, Iteration 1/1563, Loss: 1.4107, Time(s): 0.50\n",
            "\n",
            "Ending Program on Keyboard Interrupt\n"
          ],
          "name": "stdout"
        }
      ]
    },
    {
      "cell_type": "markdown",
      "metadata": {
        "id": "E4rz4EQFQNvc"
      },
      "source": [
        "## Supervised"
      ]
    },
    {
      "cell_type": "markdown",
      "metadata": {
        "id": "765ycNaB4ejn"
      },
      "source": [
        "### Config\n",
        "\n",
        "no patch augmentation is done"
      ]
    },
    {
      "cell_type": "code",
      "metadata": {
        "id": "7cwr_wvW4fu_"
      },
      "source": [
        "checkpoint_dir = './drive/MyDrive/ADL/3_3/resnet_checkpoint_exemplar/'\n",
        "encoder_model = 'resnet18'\n",
        "augment_mode = 'exemplar'\n",
        "train_size = 10000 \n",
        "batch_size = 100\n",
        "\n",
        "fully_supervised = 0 #WTF is it gonna be man\n",
        "cpc_patch_aug = 1 \n",
        "patch_aug = 0\n",
        "lr = 0.1 \n",
        "lr_gamma = 0.1 #Scheduler"
      ],
      "execution_count": null,
      "outputs": []
    },
    {
      "cell_type": "markdown",
      "metadata": {
        "id": "UUwdX35A3lD2"
      },
      "source": [
        "### Load data\n",
        "\n",
        "grid patches of an image without any augmentation are shown below"
      ]
    },
    {
      "cell_type": "code",
      "metadata": {
        "colab": {
          "base_uri": "https://localhost:8080/",
          "height": 1000
        },
        "id": "-7HWrUTmk_LP",
        "outputId": "33c180a0-1fa0-4c7c-ee89-d3bacbd42eb1"
      },
      "source": [
        "_, train_loader, test_loader = get_cifar10_dataloader()\n",
        "\n",
        "# Test it\n",
        "\n",
        "s = iter(train_loader)\n",
        "\n",
        "x, y = s.next()\n",
        "print(x.size())\n",
        "print(y.size())\n",
        "for i in range(4):\n",
        "  imshow(torchvision.utils.make_grid(x[0, i]))\n",
        "\n",
        "# Test it\n",
        "s = iter(test_loader)\n",
        "x, y = s.next()\n",
        "print(x.size())\n",
        "print(y.size())\n",
        "for i in range(4):\n",
        "  imshow(torchvision.utils.make_grid(x[0, i]))\n"
      ],
      "execution_count": null,
      "outputs": [
        {
          "output_type": "stream",
          "text": [
            "Training: Compose(\n",
            "    RandomCrop(size=(30, 30), padding=2)\n",
            "    RandomHorizontalFlip(p=0.5)\n",
            "    ToTensor()\n",
            "    Normalize(mean=[0.49139968, 0.48215827, 0.44653124], std=[0.24703233, 0.24348505, 0.26158768])\n",
            "    Patchify(grid_size=5)\n",
            ")\n",
            "Testing: Compose(\n",
            "    CenterCrop(size=(30, 30))\n",
            "    ToTensor()\n",
            "    Normalize(mean=[0.49139968, 0.48215827, 0.44653124], std=[0.24703233, 0.24348505, 0.26158768])\n",
            "    Patchify(grid_size=5)\n",
            ")\n",
            "Files already downloaded and verified\n",
            "Files already downloaded and verified\n"
          ],
          "name": "stdout"
        },
        {
          "output_type": "stream",
          "text": [
            "Clipping input data to the valid range for imshow with RGB data ([0..1] for floats or [0..255] for integers).\n"
          ],
          "name": "stderr"
        },
        {
          "output_type": "stream",
          "text": [
            "torch.Size([100, 5, 5, 3, 10, 10])\n",
            "torch.Size([100])\n"
          ],
          "name": "stdout"
        },
        {
          "output_type": "display_data",
          "data": {
            "image/png": "[encoded data removed]",
            "text/plain": [
              "<Figure size 432x288 with 1 Axes>"
            ]
          },
          "metadata": {
            "tags": [],
            "needs_background": "light"
          }
        },
        {
          "output_type": "stream",
          "text": [
            "Clipping input data to the valid range for imshow with RGB data ([0..1] for floats or [0..255] for integers).\n"
          ],
          "name": "stderr"
        },
        {
          "output_type": "display_data",
          "data": {
            "image/png": "[encoded data removed]",
            "text/plain": [
              "<Figure size 432x288 with 1 Axes>"
            ]
          },
          "metadata": {
            "tags": [],
            "needs_background": "light"
          }
        },
        {
          "output_type": "stream",
          "text": [
            "Clipping input data to the valid range for imshow with RGB data ([0..1] for floats or [0..255] for integers).\n"
          ],
          "name": "stderr"
        },
        {
          "output_type": "display_data",
          "data": {
            "image/png": "[encoded data removed]",
            "text/plain": [
              "<Figure size 432x288 with 1 Axes>"
            ]
          },
          "metadata": {
            "tags": [],
            "needs_background": "light"
          }
        },
        {
          "output_type": "stream",
          "text": [
            "Clipping input data to the valid range for imshow with RGB data ([0..1] for floats or [0..255] for integers).\n"
          ],
          "name": "stderr"
        },
        {
          "output_type": "display_data",
          "data": {
            "image/png": "[encoded data removed]",
            "text/plain": [
              "<Figure size 432x288 with 1 Axes>"
            ]
          },
          "metadata": {
            "tags": [],
            "needs_background": "light"
          }
        },
        {
          "output_type": "stream",
          "text": [
            "Clipping input data to the valid range for imshow with RGB data ([0..1] for floats or [0..255] for integers).\n"
          ],
          "name": "stderr"
        },
        {
          "output_type": "stream",
          "text": [
            "torch.Size([100, 5, 5, 3, 10, 10])\n",
            "torch.Size([100])\n"
          ],
          "name": "stdout"
        },
        {
          "output_type": "display_data",
          "data": {
            "image/png": "[encoded data removed]",
            "text/plain": [
              "<Figure size 432x288 with 1 Axes>"
            ]
          },
          "metadata": {
            "tags": [],
            "needs_background": "light"
          }
        },
        {
          "output_type": "stream",
          "text": [
            "Clipping input data to the valid range for imshow with RGB data ([0..1] for floats or [0..255] for integers).\n"
          ],
          "name": "stderr"
        },
        {
          "output_type": "display_data",
          "data": {
            "image/png": "[encoded data removed]",
            "text/plain": [
              "<Figure size 432x288 with 1 Axes>"
            ]
          },
          "metadata": {
            "tags": [],
            "needs_background": "light"
          }
        },
        {
          "output_type": "stream",
          "text": [
            "Clipping input data to the valid range for imshow with RGB data ([0..1] for floats or [0..255] for integers).\n"
          ],
          "name": "stderr"
        },
        {
          "output_type": "display_data",
          "data": {
            "image/png": "[encoded data removed]",
            "text/plain": [
              "<Figure size 432x288 with 1 Axes>"
            ]
          },
          "metadata": {
            "tags": [],
            "needs_background": "light"
          }
        },
        {
          "output_type": "stream",
          "text": [
            "Clipping input data to the valid range for imshow with RGB data ([0..1] for floats or [0..255] for integers).\n"
          ],
          "name": "stderr"
        },
        {
          "output_type": "display_data",
          "data": {
            "image/png": "[encoded data removed]",
            "text/plain": [
              "<Figure size 432x288 with 1 Axes>"
            ]
          },
          "metadata": {
            "tags": [],
            "needs_background": "light"
          }
        }
      ]
    },
    {
      "cell_type": "markdown",
      "metadata": {
        "id": "LT_u-wMa1oCO"
      },
      "source": [
        "### Train\n",
        "\n",
        "Best Accuracy: 58.94 - epoch 17"
      ]
    },
    {
      "cell_type": "code",
      "metadata": {
        "colab": {
          "base_uri": "https://localhost:8080/"
        },
        "id": "sYBWLYqtNZTY",
        "outputId": "b528ee24-1d7d-4c1d-a05e-f0252100e7ac"
      },
      "source": [
        "\n",
        "print(\"Training CPC Classifier\")\n",
        "\n",
        "# Load the CPC trained encoder (with classifier layer activated)\n",
        "if encoder_model == \"resnet18\":\n",
        "    net = ResNet18(BasicBlock, [2, 2, 2, 2], use_classifier=True)\n",
        "elif encoder_model == \"vgg16\":\n",
        "    net = VGG16(use_classifier=True)\n",
        "net = net.to('cuda')\n",
        "\n",
        "# Load from checkpoint\n",
        "print('==> Resuming from checkpoint..')\n",
        "checkpoint = torch.load(checkpoint_dir + 'ckpt.pth')\n",
        "# Remove \"enc\" prefix in model keys()\n",
        "checkpoint['model'] = {k[4:]: v for k, v in checkpoint['model'].items() if 'enc' in k}\n",
        "net.load_state_dict(checkpoint['model'])\n",
        "loss = checkpoint['loss']\n",
        "epoch = checkpoint['epoch'] \n",
        "print('recovered loss and epoch:')\n",
        "print(loss)\n",
        "print(epoch)\n",
        "\n",
        "\n",
        "# Freeze encoder layers\n",
        "for name, param in net.named_parameters():\n",
        "    if (\"classifier\" not in name) and (\"linear\" not in name):\n",
        "        param.requires_grad = False\n",
        "    else:\n",
        "        param.requires_grad = True\n",
        "\n",
        "optimizer = optim.Adam(filter(lambda p: p.requires_grad, net.parameters()), lr=lr)\n",
        "\n",
        "\n",
        "# define scheduler based on argument inputs\n",
        "scheduler = optim.lr_scheduler.ReduceLROnPlateau(optimizer, factor=lr_gamma)\n",
        "\n",
        "loss_function = nn.CrossEntropyLoss()\n",
        "\n",
        "try:\n",
        "    train_classifier()\n",
        "except KeyboardInterrupt:\n",
        "    print(\"\\nEnding Program on Keyboard Interrupt\")\n"
      ],
      "execution_count": null,
      "outputs": [
        {
          "output_type": "stream",
          "text": [
            "Training CPC Classifier\n",
            "==> Resuming from checkpoint..\n"
          ],
          "name": "stdout"
        },
        {
          "output_type": "stream",
          "text": [
            "\r  0%|          | 0/100 [00:00<?, ?it/s]"
          ],
          "name": "stderr"
        },
        {
          "output_type": "stream",
          "text": [
            "recovered loss and epoch:\n",
            "1.404101549814909\n",
            "6\n"
          ],
          "name": "stdout"
        },
        {
          "output_type": "stream",
          "text": [
            "100%|██████████| 100/100 [00:16<00:00,  6.07it/s]\n",
            "100%|██████████| 100/100 [00:16<00:00,  6.22it/s]\n",
            "  0%|          | 0/100 [00:00<?, ?it/s]"
          ],
          "name": "stderr"
        },
        {
          "output_type": "stream",
          "text": [
            "Epoch: 1/20 (lr=0.1)\n",
            "Train: 11.3099, 32.22%\n",
            "Test:  1.7757, 46.15%\n"
          ],
          "name": "stdout"
        },
        {
          "output_type": "stream",
          "text": [
            "100%|██████████| 100/100 [00:16<00:00,  6.08it/s]\n",
            "100%|██████████| 100/100 [00:15<00:00,  6.45it/s]\n",
            "  0%|          | 0/100 [00:00<?, ?it/s]"
          ],
          "name": "stderr"
        },
        {
          "output_type": "stream",
          "text": [
            "Epoch: 2/20 (lr=0.1)\n",
            "Train: 1.7612, 46.52%\n",
            "Test:  1.7807, 50.68%\n"
          ],
          "name": "stdout"
        },
        {
          "output_type": "stream",
          "text": [
            "100%|██████████| 100/100 [00:15<00:00,  6.26it/s]\n",
            "100%|██████████| 100/100 [00:15<00:00,  6.41it/s]\n",
            "  0%|          | 0/100 [00:00<?, ?it/s]"
          ],
          "name": "stderr"
        },
        {
          "output_type": "stream",
          "text": [
            "Epoch: 3/20 (lr=0.1)\n",
            "Train: 2.1271, 45.12%\n",
            "Test:  1.5271, 50.90%\n"
          ],
          "name": "stdout"
        },
        {
          "output_type": "stream",
          "text": [
            "100%|██████████| 100/100 [00:16<00:00,  6.13it/s]\n",
            "100%|██████████| 100/100 [00:15<00:00,  6.37it/s]\n",
            "  0%|          | 0/100 [00:00<?, ?it/s]"
          ],
          "name": "stderr"
        },
        {
          "output_type": "stream",
          "text": [
            "Epoch: 4/20 (lr=0.1)\n",
            "Train: 2.1935, 44.73%\n",
            "Test:  2.3755, 44.60%\n"
          ],
          "name": "stdout"
        },
        {
          "output_type": "stream",
          "text": [
            "100%|██████████| 100/100 [00:16<00:00,  6.15it/s]\n",
            "100%|██████████| 100/100 [00:15<00:00,  6.39it/s]\n",
            "  0%|          | 0/100 [00:00<?, ?it/s]"
          ],
          "name": "stderr"
        },
        {
          "output_type": "stream",
          "text": [
            "Epoch: 5/20 (lr=0.1)\n",
            "Train: 2.2980, 45.50%\n",
            "Test:  2.0419, 46.45%\n"
          ],
          "name": "stdout"
        },
        {
          "output_type": "stream",
          "text": [
            "100%|██████████| 100/100 [00:16<00:00,  6.18it/s]\n",
            "100%|██████████| 100/100 [00:15<00:00,  6.40it/s]\n",
            "  0%|          | 0/100 [00:00<?, ?it/s]"
          ],
          "name": "stderr"
        },
        {
          "output_type": "stream",
          "text": [
            "Epoch: 6/20 (lr=0.1)\n",
            "Train: 1.8697, 49.07%\n",
            "Test:  1.9041, 50.98%\n"
          ],
          "name": "stdout"
        },
        {
          "output_type": "stream",
          "text": [
            "100%|██████████| 100/100 [00:16<00:00,  6.15it/s]\n",
            "100%|██████████| 100/100 [00:15<00:00,  6.37it/s]\n",
            "  0%|          | 0/100 [00:00<?, ?it/s]"
          ],
          "name": "stderr"
        },
        {
          "output_type": "stream",
          "text": [
            "Epoch: 7/20 (lr=0.1)\n",
            "Train: 1.9507, 49.28%\n",
            "Test:  1.6562, 53.11%\n"
          ],
          "name": "stdout"
        },
        {
          "output_type": "stream",
          "text": [
            "100%|██████████| 100/100 [00:16<00:00,  6.14it/s]\n",
            "100%|██████████| 100/100 [00:15<00:00,  6.39it/s]\n",
            "  0%|          | 0/100 [00:00<?, ?it/s]"
          ],
          "name": "stderr"
        },
        {
          "output_type": "stream",
          "text": [
            "Epoch: 8/20 (lr=0.1)\n",
            "Train: 2.5271, 46.53%\n",
            "Test:  2.1089, 52.46%\n"
          ],
          "name": "stdout"
        },
        {
          "output_type": "stream",
          "text": [
            "100%|██████████| 100/100 [00:16<00:00,  6.20it/s]\n",
            "100%|██████████| 100/100 [00:15<00:00,  6.44it/s]\n",
            "  0%|          | 0/100 [00:00<?, ?it/s]"
          ],
          "name": "stderr"
        },
        {
          "output_type": "stream",
          "text": [
            "Epoch: 9/20 (lr=0.1)\n",
            "Train: 2.1270, 50.01%\n",
            "Test:  1.6373, 53.55%\n"
          ],
          "name": "stdout"
        },
        {
          "output_type": "stream",
          "text": [
            "100%|██████████| 100/100 [00:16<00:00,  6.17it/s]\n",
            "100%|██████████| 100/100 [00:15<00:00,  6.42it/s]\n",
            "  0%|          | 0/100 [00:00<?, ?it/s]"
          ],
          "name": "stderr"
        },
        {
          "output_type": "stream",
          "text": [
            "Epoch: 10/20 (lr=0.1)\n",
            "Train: 2.1270, 48.94%\n",
            "Test:  2.2478, 46.33%\n"
          ],
          "name": "stdout"
        },
        {
          "output_type": "stream",
          "text": [
            "100%|██████████| 100/100 [00:16<00:00,  6.11it/s]\n",
            "100%|██████████| 100/100 [00:15<00:00,  6.37it/s]\n",
            "  0%|          | 0/100 [00:00<?, ?it/s]"
          ],
          "name": "stderr"
        },
        {
          "output_type": "stream",
          "text": [
            "Epoch: 11/20 (lr=0.1)\n",
            "Train: 1.9051, 51.13%\n",
            "Test:  2.4749, 46.79%\n"
          ],
          "name": "stdout"
        },
        {
          "output_type": "stream",
          "text": [
            "100%|██████████| 100/100 [00:16<00:00,  6.14it/s]\n",
            "100%|██████████| 100/100 [00:15<00:00,  6.37it/s]\n",
            "  0%|          | 0/100 [00:00<?, ?it/s]"
          ],
          "name": "stderr"
        },
        {
          "output_type": "stream",
          "text": [
            "Epoch: 12/20 (lr=0.1)\n",
            "Train: 1.9826, 50.40%\n",
            "Test:  1.8814, 49.91%\n"
          ],
          "name": "stdout"
        },
        {
          "output_type": "stream",
          "text": [
            "100%|██████████| 100/100 [00:16<00:00,  6.11it/s]\n",
            "100%|██████████| 100/100 [00:15<00:00,  6.38it/s]\n",
            "  0%|          | 0/100 [00:00<?, ?it/s]"
          ],
          "name": "stderr"
        },
        {
          "output_type": "stream",
          "text": [
            "Epoch: 13/20 (lr=0.1)\n",
            "Train: 2.0941, 49.99%\n",
            "Test:  2.1555, 48.06%\n"
          ],
          "name": "stdout"
        },
        {
          "output_type": "stream",
          "text": [
            "100%|██████████| 100/100 [00:16<00:00,  6.13it/s]\n",
            "100%|██████████| 100/100 [00:15<00:00,  6.38it/s]\n",
            "  0%|          | 0/100 [00:00<?, ?it/s]"
          ],
          "name": "stderr"
        },
        {
          "output_type": "stream",
          "text": [
            "Epoch: 14/20 (lr=0.1)\n",
            "Train: 2.0789, 50.76%\n",
            "Test:  2.0675, 48.39%\n"
          ],
          "name": "stdout"
        },
        {
          "output_type": "stream",
          "text": [
            "100%|██████████| 100/100 [00:16<00:00,  6.12it/s]\n",
            "100%|██████████| 100/100 [00:15<00:00,  6.37it/s]\n",
            "  0%|          | 0/100 [00:00<?, ?it/s]"
          ],
          "name": "stderr"
        },
        {
          "output_type": "stream",
          "text": [
            "Epoch: 15/20 (lr=0.1)\n",
            "Train: 2.2098, 48.87%\n",
            "Test:  1.9680, 52.17%\n"
          ],
          "name": "stdout"
        },
        {
          "output_type": "stream",
          "text": [
            "100%|██████████| 100/100 [00:16<00:00,  6.15it/s]\n",
            "100%|██████████| 100/100 [00:15<00:00,  6.40it/s]\n",
            "  0%|          | 0/100 [00:00<?, ?it/s]"
          ],
          "name": "stderr"
        },
        {
          "output_type": "stream",
          "text": [
            "Epoch: 16/20 (lr=0.1)\n",
            "Train: 2.0774, 51.44%\n",
            "Test:  1.7888, 54.04%\n"
          ],
          "name": "stdout"
        },
        {
          "output_type": "stream",
          "text": [
            "100%|██████████| 100/100 [00:16<00:00,  6.14it/s]\n",
            "100%|██████████| 100/100 [00:15<00:00,  6.41it/s]\n",
            "  0%|          | 0/100 [00:00<?, ?it/s]"
          ],
          "name": "stderr"
        },
        {
          "output_type": "stream",
          "text": [
            "Epoch: 17/20 (lr=0.1)\n",
            "Train: 1.9802, 52.10%\n",
            "Test:  1.4406, 58.94%\n"
          ],
          "name": "stdout"
        },
        {
          "output_type": "stream",
          "text": [
            "100%|██████████| 100/100 [00:16<00:00,  6.14it/s]\n",
            "100%|██████████| 100/100 [00:15<00:00,  6.39it/s]\n",
            "  0%|          | 0/100 [00:00<?, ?it/s]"
          ],
          "name": "stderr"
        },
        {
          "output_type": "stream",
          "text": [
            "Epoch: 18/20 (lr=0.1)\n",
            "Train: 2.2032, 50.53%\n",
            "Test:  2.0993, 54.12%\n"
          ],
          "name": "stdout"
        },
        {
          "output_type": "stream",
          "text": [
            "100%|██████████| 100/100 [00:16<00:00,  6.11it/s]\n",
            "100%|██████████| 100/100 [00:15<00:00,  6.38it/s]\n",
            "  0%|          | 0/100 [00:00<?, ?it/s]"
          ],
          "name": "stderr"
        },
        {
          "output_type": "stream",
          "text": [
            "Epoch: 19/20 (lr=0.1)\n",
            "Train: 1.8890, 52.63%\n",
            "Test:  1.7698, 55.07%\n"
          ],
          "name": "stdout"
        },
        {
          "output_type": "stream",
          "text": [
            "100%|██████████| 100/100 [00:16<00:00,  6.15it/s]\n",
            "100%|██████████| 100/100 [00:15<00:00,  6.39it/s]"
          ],
          "name": "stderr"
        },
        {
          "output_type": "stream",
          "text": [
            "Epoch: 20/20 (lr=0.1)\n",
            "Train: 1.9093, 52.55%\n",
            "Test:  2.4832, 53.51%\n",
            "Best Accuracy: 58.94 - epoch 17\n"
          ],
          "name": "stdout"
        },
        {
          "output_type": "stream",
          "text": [
            "\n"
          ],
          "name": "stderr"
        }
      ]
    },
    {
      "cell_type": "markdown",
      "metadata": {
        "id": "iNcBOBqfRkhp"
      },
      "source": [
        "# Resnet18 Rotate"
      ]
    },
    {
      "cell_type": "markdown",
      "metadata": {
        "id": "nqbHcfFTRkhq"
      },
      "source": [
        "## Self-Supervised"
      ]
    },
    {
      "cell_type": "markdown",
      "metadata": {
        "id": "5abTWGP2Rkhq"
      },
      "source": [
        "### Config\n",
        "\n",
        "augment_mode = rotate\n",
        "\n",
        "encoder_model = resnet18"
      ]
    },
    {
      "cell_type": "code",
      "metadata": {
        "id": "5ImZTw5QRkhq"
      },
      "source": [
        "checkpoint_dir = './drive/MyDrive/ADL/3_3/resnet_checkpoint_rotate/'\n",
        "augment_mode = 'rotate'\n",
        "encoder_model = \"resnet18\"\n",
        "trained_epochs = 0\n",
        "\n",
        "train_size = None\n",
        "fully_supervised = 0 \n",
        "patch_aug = 1\n",
        "\n",
        "batch_size = 32 \n",
        "lr = 2e-4"
      ],
      "execution_count": null,
      "outputs": []
    },
    {
      "cell_type": "markdown",
      "metadata": {
        "id": "OXR5eRorRkhq"
      },
      "source": [
        "### Model"
      ]
    },
    {
      "cell_type": "code",
      "metadata": {
        "id": "_ff-yO34Rkhr"
      },
      "source": [
        "\n",
        "# Define Encoder Network\n",
        "if encoder_model == \"resnet18\":\n",
        "  enc = ResNet18(BasicBlock, [2, 2, 2, 2], use_classifier=False)\n",
        "elif encoder_model == \"vgg\":\n",
        "  enc = VGG16(use_classifier=False)\n",
        "    \n",
        "# Define Autrogressive Network\n",
        "ar = PixelCNN(in_channels=enc.encoding_size)\n",
        "\n",
        "# Define CPC Network\n",
        "net = CPC(enc, ar, pred_directions, pred_steps, neg_samples)\n",
        "net = net.to('cuda')\n",
        "\n",
        "\n",
        "# Freeze classifier layer - save memory\n",
        "for name, param in net.named_parameters():\n",
        "    if (\"linear\" in name) or ('classifier' in name):\n",
        "        param.requires_grad = False\n",
        "\n",
        "optimizer = optim.Adam(filter(lambda p: p.requires_grad, net.parameters()), lr=lr)\n",
        "\n",
        "if trained_epochs != 0: # Load from checkpoint\n",
        "  load_from_checkpoint()\n",
        "  net.train()"
      ],
      "execution_count": null,
      "outputs": []
    },
    {
      "cell_type": "markdown",
      "metadata": {
        "id": "xqD6BiuARkhr"
      },
      "source": [
        "### Load data\n",
        "\n",
        "grid patches of an image after Rotation augmentation are shown below"
      ]
    },
    {
      "cell_type": "code",
      "metadata": {
        "colab": {
          "base_uri": "https://localhost:8080/"
        },
        "id": "-VKu5WSqRkhr",
        "outputId": "de4abf72-7883-4a29-f16e-adaceacf3a56"
      },
      "source": [
        "# Get selected dataset\n",
        "\n",
        "unsupervised_loader, _, _ = get_cifar10_dataloader()\n",
        "\n",
        "# Test it\n",
        "s = iter(unsupervised_loader)\n",
        "x, y = s.next()\n",
        "\n",
        "print(x.size())\n",
        "print(y.size())\n",
        "\n",
        "for i in range(4):\n",
        "  imshow(torchvision.utils.make_grid(x[0, i]))"
      ],
      "execution_count": null,
      "outputs": [
        {
          "output_type": "stream",
          "text": [
            "Training: Compose(\n",
            "    RandomCrop(size=(30, 30), padding=2)\n",
            "    RandomHorizontalFlip(p=0.5)\n",
            "    ToTensor()\n",
            "    PatchifyAugment(grid_size=5, gray=0)\n",
            "    PatchAugNormalize(mean=[0.49139968, 0.48215827, 0.44653124], std=[0.24703233, 0.24348505, 0.26158768])\n",
            ")\n",
            "Testing: Compose(\n",
            "    CenterCrop(size=(30, 30))\n",
            "    ToTensor()\n",
            "    Normalize(mean=[0.49139968, 0.48215827, 0.44653124], std=[0.24703233, 0.24348505, 0.26158768])\n",
            "    Patchify(grid_size=5)\n",
            ")\n",
            "Files already downloaded and verified\n",
            "Files already downloaded and verified\n"
          ],
          "name": "stdout"
        },
        {
          "output_type": "stream",
          "text": [
            "Clipping input data to the valid range for imshow with RGB data ([0..1] for floats or [0..255] for integers).\n"
          ],
          "name": "stderr"
        },
        {
          "output_type": "stream",
          "text": [
            "torch.Size([32, 5, 5, 3, 10, 10])\n",
            "torch.Size([32])\n"
          ],
          "name": "stdout"
        },
        {
          "output_type": "display_data",
          "data": {
            "image/png": "[encoded data removed]",
            "text/plain": [
              "<Figure size 432x288 with 1 Axes>"
            ]
          },
          "metadata": {
            "tags": [],
            "needs_background": "light"
          }
        },
        {
          "output_type": "stream",
          "text": [
            "Clipping input data to the valid range for imshow with RGB data ([0..1] for floats or [0..255] for integers).\n"
          ],
          "name": "stderr"
        },
        {
          "output_type": "display_data",
          "data": {
            "image/png": "[encoded data removed]",
            "text/plain": [
              "<Figure size 432x288 with 1 Axes>"
            ]
          },
          "metadata": {
            "tags": [],
            "needs_background": "light"
          }
        },
        {
          "output_type": "stream",
          "text": [
            "Clipping input data to the valid range for imshow with RGB data ([0..1] for floats or [0..255] for integers).\n"
          ],
          "name": "stderr"
        },
        {
          "output_type": "display_data",
          "data": {
            "image/png": "[encoded data removed]",
            "text/plain": [
              "<Figure size 432x288 with 1 Axes>"
            ]
          },
          "metadata": {
            "tags": [],
            "needs_background": "light"
          }
        },
        {
          "output_type": "stream",
          "text": [
            "Clipping input data to the valid range for imshow with RGB data ([0..1] for floats or [0..255] for integers).\n"
          ],
          "name": "stderr"
        },
        {
          "output_type": "display_data",
          "data": {
            "image/png": "[encoded data removed]",
            "text/plain": [
              "<Figure size 432x288 with 1 Axes>"
            ]
          },
          "metadata": {
            "tags": [],
            "needs_background": "light"
          }
        }
      ]
    },
    {
      "cell_type": "markdown",
      "metadata": {
        "id": "7tY_Vi6LRkhr"
      },
      "source": [
        "### Train\n",
        "\n",
        "Epoch 6/20, Epoch Loss: 0.7079\n",
        "\n",
        "Recognizing Rotation is a much easier task than recognizing Exemplar"
      ]
    },
    {
      "cell_type": "code",
      "metadata": {
        "colab": {
          "base_uri": "https://localhost:8080/"
        },
        "id": "tdrbKv6aRkhs",
        "outputId": "1c1622b5-3b2e-4ed9-f497-73c0d6d992bd"
      },
      "source": [
        "# Train the network\n",
        "print(f\"Encoder: {encoder_model}, Crop: {crop}, Grid Size: {grid_size}, Norm: {norm}, Pred Directions: {pred_directions}, Patch Aug: {patch_aug}\")\n",
        "\n",
        "train()"
      ],
      "execution_count": null,
      "outputs": [
        {
          "output_type": "stream",
          "text": [
            "Encoder: resnet18, Crop: 30-2, Grid Size: 5, Norm: , Pred Directions: 1, Patch Aug: 1\n",
            "Epoch 1/20, Iteration 1/1563, Loss: 0.9268, Time(s): 0.36\n",
            "Epoch 1/20, Iteration 156/1563, Loss: 0.9799, Time(s): 54.61\n",
            "Epoch 1/20, Iteration 312/1563, Loss: 1.0846, Time(s): 54.01\n",
            "Epoch 1/20, Iteration 468/1563, Loss: 0.8161, Time(s): 54.39\n",
            "Epoch 1/20, Iteration 624/1563, Loss: 0.7725, Time(s): 54.18\n",
            "Epoch 1/20, Iteration 780/1563, Loss: 0.8851, Time(s): 54.25\n",
            "Epoch 1/20, Iteration 936/1563, Loss: 0.9007, Time(s): 54.26\n",
            "Epoch 1/20, Iteration 1092/1563, Loss: 0.8430, Time(s): 54.19\n",
            "Epoch 1/20, Iteration 1248/1563, Loss: 0.9488, Time(s): 54.25\n",
            "Epoch 1/20, Iteration 1404/1563, Loss: 0.7560, Time(s): 54.33\n",
            "Epoch 1/20, Iteration 1560/1563, Loss: 0.9682, Time(s): 54.98\n",
            "Epoch 1/20, Epoch Loss: 0.9166\n",
            "Saving..\n",
            "Epoch 2/20, Iteration 1/1563, Loss: 0.9607, Time(s): 0.39\n",
            "Epoch 2/20, Iteration 156/1563, Loss: 0.8999, Time(s): 53.94\n",
            "Epoch 2/20, Iteration 312/1563, Loss: 0.8551, Time(s): 54.19\n",
            "Epoch 2/20, Iteration 468/1563, Loss: 0.8599, Time(s): 54.27\n",
            "Epoch 2/20, Iteration 624/1563, Loss: 0.6580, Time(s): 54.25\n",
            "Epoch 2/20, Iteration 780/1563, Loss: 0.9780, Time(s): 54.24\n",
            "Epoch 2/20, Iteration 936/1563, Loss: 0.8664, Time(s): 54.26\n",
            "Epoch 2/20, Iteration 1092/1563, Loss: 0.9185, Time(s): 54.33\n",
            "Epoch 2/20, Iteration 1248/1563, Loss: 0.9943, Time(s): 54.36\n",
            "Epoch 2/20, Iteration 1404/1563, Loss: 0.9336, Time(s): 54.30\n",
            "Epoch 2/20, Iteration 1560/1563, Loss: 0.7135, Time(s): 54.94\n",
            "Epoch 2/20, Epoch Loss: 0.8620\n",
            "Saving..\n",
            "Epoch 3/20, Iteration 1/1563, Loss: 0.9550, Time(s): 0.38\n",
            "Epoch 3/20, Iteration 156/1563, Loss: 0.8416, Time(s): 53.96\n",
            "Epoch 3/20, Iteration 312/1563, Loss: 0.6941, Time(s): 54.18\n",
            "Epoch 3/20, Iteration 468/1563, Loss: 0.9622, Time(s): 54.25\n",
            "Epoch 3/20, Iteration 624/1563, Loss: 1.0829, Time(s): 54.28\n",
            "Epoch 3/20, Iteration 780/1563, Loss: 0.9312, Time(s): 54.33\n",
            "Epoch 3/20, Iteration 936/1563, Loss: 0.6871, Time(s): 54.32\n",
            "Epoch 3/20, Iteration 1092/1563, Loss: 0.7526, Time(s): 54.32\n",
            "Epoch 3/20, Iteration 1248/1563, Loss: 0.6514, Time(s): 54.32\n",
            "Epoch 3/20, Iteration 1404/1563, Loss: 0.8960, Time(s): 54.34\n",
            "Epoch 3/20, Iteration 1560/1563, Loss: 0.7173, Time(s): 54.97\n",
            "Epoch 3/20, Epoch Loss: 0.8164\n",
            "Saving..\n",
            "Epoch 4/20, Iteration 1/1563, Loss: 0.7849, Time(s): 0.38\n",
            "Epoch 4/20, Iteration 156/1563, Loss: 0.9012, Time(s): 54.02\n",
            "Epoch 4/20, Iteration 312/1563, Loss: 0.7197, Time(s): 54.20\n",
            "Epoch 4/20, Iteration 468/1563, Loss: 0.8897, Time(s): 54.26\n",
            "Epoch 4/20, Iteration 624/1563, Loss: 0.9686, Time(s): 54.33\n",
            "Epoch 4/20, Iteration 780/1563, Loss: 0.7596, Time(s): 54.28\n",
            "Epoch 4/20, Iteration 936/1563, Loss: 0.7769, Time(s): 54.27\n",
            "Epoch 4/20, Iteration 1092/1563, Loss: 0.6901, Time(s): 54.31\n",
            "Epoch 4/20, Iteration 1248/1563, Loss: 0.8580, Time(s): 54.28\n",
            "Epoch 4/20, Iteration 1404/1563, Loss: 0.6198, Time(s): 54.21\n",
            "Epoch 4/20, Iteration 1560/1563, Loss: 0.6574, Time(s): 54.77\n",
            "Epoch 4/20, Epoch Loss: 0.7589\n",
            "Saving..\n",
            "Epoch 5/20, Iteration 1/1563, Loss: 0.6268, Time(s): 0.38\n",
            "Epoch 5/20, Iteration 156/1563, Loss: 0.8027, Time(s): 53.96\n",
            "Epoch 5/20, Iteration 312/1563, Loss: 0.6283, Time(s): 54.17\n",
            "Epoch 5/20, Iteration 468/1563, Loss: 0.8241, Time(s): 54.25\n",
            "Epoch 5/20, Iteration 624/1563, Loss: 0.8238, Time(s): 54.30\n",
            "Epoch 5/20, Iteration 780/1563, Loss: 0.6970, Time(s): 54.33\n",
            "Epoch 5/20, Iteration 936/1563, Loss: 0.8758, Time(s): 54.37\n",
            "Epoch 5/20, Iteration 1092/1563, Loss: 0.8156, Time(s): 54.35\n",
            "Epoch 5/20, Iteration 1248/1563, Loss: 0.7582, Time(s): 54.31\n",
            "Epoch 5/20, Iteration 1404/1563, Loss: 0.6962, Time(s): 54.24\n",
            "Epoch 5/20, Iteration 1560/1563, Loss: 0.6720, Time(s): 54.86\n",
            "Epoch 5/20, Epoch Loss: 0.7271\n",
            "Saving..\n",
            "Epoch 6/20, Iteration 1/1563, Loss: 0.9300, Time(s): 0.38\n",
            "Epoch 6/20, Iteration 156/1563, Loss: 0.7409, Time(s): 54.00\n",
            "Epoch 6/20, Iteration 312/1563, Loss: 0.6936, Time(s): 54.34\n",
            "Epoch 6/20, Iteration 468/1563, Loss: 0.5980, Time(s): 54.20\n",
            "Epoch 6/20, Iteration 624/1563, Loss: 0.8775, Time(s): 54.36\n",
            "Epoch 6/20, Iteration 780/1563, Loss: 0.7563, Time(s): 54.31\n",
            "Epoch 6/20, Iteration 936/1563, Loss: 0.6819, Time(s): 54.34\n",
            "Epoch 6/20, Iteration 1092/1563, Loss: 0.6729, Time(s): 54.27\n",
            "Epoch 6/20, Iteration 1248/1563, Loss: 0.6464, Time(s): 54.31\n",
            "Epoch 6/20, Iteration 1404/1563, Loss: 0.8608, Time(s): 54.22\n",
            "Epoch 6/20, Iteration 1560/1563, Loss: 0.5754, Time(s): 54.97\n",
            "Epoch 6/20, Epoch Loss: 0.7079\n",
            "Saving..\n",
            "Epoch 7/20, Iteration 1/1563, Loss: 0.7623, Time(s): 0.38\n",
            "Epoch 7/20, Iteration 156/1563, Loss: 0.8230, Time(s): 54.05\n",
            "Epoch 7/20, Iteration 312/1563, Loss: 0.7717, Time(s): 54.35\n",
            "Epoch 7/20, Iteration 468/1563, Loss: 0.5339, Time(s): 54.27\n",
            "Epoch 7/20, Iteration 624/1563, Loss: 0.6436, Time(s): 54.27\n",
            "Epoch 7/20, Iteration 780/1563, Loss: 0.5270, Time(s): 54.31\n",
            "\n",
            "Ending Program on Keyboard Interrupt\n"
          ],
          "name": "stdout"
        }
      ]
    },
    {
      "cell_type": "markdown",
      "metadata": {
        "id": "qlOmHb0GRkhs"
      },
      "source": [
        "## Supervised"
      ]
    },
    {
      "cell_type": "markdown",
      "metadata": {
        "id": "C_7Eyd4yRkht"
      },
      "source": [
        "### Config"
      ]
    },
    {
      "cell_type": "code",
      "metadata": {
        "id": "NiLyV4aiRkht"
      },
      "source": [
        "checkpoint_dir = './drive/MyDrive/ADL/3_3/resnet_checkpoint_rotate/'\n",
        "encoder_model = 'resnet18'\n",
        "augment_mode = 'rotate'\n",
        "train_size = 10000 \n",
        "batch_size = 100\n",
        "\n",
        "fully_supervised = 0 #WTF is it gonna be man\n",
        "cpc_patch_aug = 1 \n",
        "patch_aug = 0\n",
        "lr = 0.1 \n",
        "lr_gamma = 0.1 #Scheduler"
      ],
      "execution_count": null,
      "outputs": []
    },
    {
      "cell_type": "markdown",
      "metadata": {
        "id": "OfdiFiUeRkht"
      },
      "source": [
        "### Load data"
      ]
    },
    {
      "cell_type": "code",
      "metadata": {
        "colab": {
          "base_uri": "https://localhost:8080/",
          "height": 1000
        },
        "id": "uo2hQQT0Rkht",
        "outputId": "c88ebaed-e8e1-43f8-d00b-fbd9eac161cf"
      },
      "source": [
        "_, train_loader, test_loader = get_cifar10_dataloader()\n",
        "\n",
        "# Test it\n",
        "\n",
        "s = iter(train_loader)\n",
        "\n",
        "x, y = s.next()\n",
        "print(x.size())\n",
        "print(y.size())\n",
        "for i in range(4):\n",
        "  imshow(torchvision.utils.make_grid(x[0, i]))\n",
        "\n",
        "# Test it\n",
        "s = iter(test_loader)\n",
        "x, y = s.next()\n",
        "print(x.size())\n",
        "print(y.size())\n",
        "for i in range(4):\n",
        "  imshow(torchvision.utils.make_grid(x[0, i]))\n"
      ],
      "execution_count": null,
      "outputs": [
        {
          "output_type": "stream",
          "text": [
            "Training: Compose(\n",
            "    RandomCrop(size=(30, 30), padding=2)\n",
            "    RandomHorizontalFlip(p=0.5)\n",
            "    ToTensor()\n",
            "    Normalize(mean=[0.49139968, 0.48215827, 0.44653124], std=[0.24703233, 0.24348505, 0.26158768])\n",
            "    Patchify(grid_size=5)\n",
            ")\n",
            "Testing: Compose(\n",
            "    CenterCrop(size=(30, 30))\n",
            "    ToTensor()\n",
            "    Normalize(mean=[0.49139968, 0.48215827, 0.44653124], std=[0.24703233, 0.24348505, 0.26158768])\n",
            "    Patchify(grid_size=5)\n",
            ")\n",
            "Files already downloaded and verified\n",
            "Files already downloaded and verified\n"
          ],
          "name": "stdout"
        },
        {
          "output_type": "stream",
          "text": [
            "Clipping input data to the valid range for imshow with RGB data ([0..1] for floats or [0..255] for integers).\n"
          ],
          "name": "stderr"
        },
        {
          "output_type": "stream",
          "text": [
            "torch.Size([100, 5, 5, 3, 10, 10])\n",
            "torch.Size([100])\n"
          ],
          "name": "stdout"
        },
        {
          "output_type": "display_data",
          "data": {
            "image/png": "[encoded data removed]",
            "text/plain": [
              "<Figure size 432x288 with 1 Axes>"
            ]
          },
          "metadata": {
            "tags": [],
            "needs_background": "light"
          }
        },
        {
          "output_type": "stream",
          "text": [
            "Clipping input data to the valid range for imshow with RGB data ([0..1] for floats or [0..255] for integers).\n"
          ],
          "name": "stderr"
        },
        {
          "output_type": "display_data",
          "data": {
            "image/png": "[encoded data removed]",
            "text/plain": [
              "<Figure size 432x288 with 1 Axes>"
            ]
          },
          "metadata": {
            "tags": [],
            "needs_background": "light"
          }
        },
        {
          "output_type": "stream",
          "text": [
            "Clipping input data to the valid range for imshow with RGB data ([0..1] for floats or [0..255] for integers).\n"
          ],
          "name": "stderr"
        },
        {
          "output_type": "display_data",
          "data": {
            "image/png": "[encoded data removed]",
            "text/plain": [
              "<Figure size 432x288 with 1 Axes>"
            ]
          },
          "metadata": {
            "tags": [],
            "needs_background": "light"
          }
        },
        {
          "output_type": "stream",
          "text": [
            "Clipping input data to the valid range for imshow with RGB data ([0..1] for floats or [0..255] for integers).\n"
          ],
          "name": "stderr"
        },
        {
          "output_type": "display_data",
          "data": {
            "image/png": "[encoded data removed]",
            "text/plain": [
              "<Figure size 432x288 with 1 Axes>"
            ]
          },
          "metadata": {
            "tags": [],
            "needs_background": "light"
          }
        },
        {
          "output_type": "stream",
          "text": [
            "Clipping input data to the valid range for imshow with RGB data ([0..1] for floats or [0..255] for integers).\n"
          ],
          "name": "stderr"
        },
        {
          "output_type": "stream",
          "text": [
            "torch.Size([100, 5, 5, 3, 10, 10])\n",
            "torch.Size([100])\n"
          ],
          "name": "stdout"
        },
        {
          "output_type": "display_data",
          "data": {
            "image/png": "[encoded data removed]",
            "text/plain": [
              "<Figure size 432x288 with 1 Axes>"
            ]
          },
          "metadata": {
            "tags": [],
            "needs_background": "light"
          }
        },
        {
          "output_type": "stream",
          "text": [
            "Clipping input data to the valid range for imshow with RGB data ([0..1] for floats or [0..255] for integers).\n"
          ],
          "name": "stderr"
        },
        {
          "output_type": "display_data",
          "data": {
            "image/png": "[encoded data removed]",
            "text/plain": [
              "<Figure size 432x288 with 1 Axes>"
            ]
          },
          "metadata": {
            "tags": [],
            "needs_background": "light"
          }
        },
        {
          "output_type": "stream",
          "text": [
            "Clipping input data to the valid range for imshow with RGB data ([0..1] for floats or [0..255] for integers).\n"
          ],
          "name": "stderr"
        },
        {
          "output_type": "display_data",
          "data": {
            "image/png": "[encoded data removed]",
            "text/plain": [
              "<Figure size 432x288 with 1 Axes>"
            ]
          },
          "metadata": {
            "tags": [],
            "needs_background": "light"
          }
        },
        {
          "output_type": "stream",
          "text": [
            "Clipping input data to the valid range for imshow with RGB data ([0..1] for floats or [0..255] for integers).\n"
          ],
          "name": "stderr"
        },
        {
          "output_type": "display_data",
          "data": {
            "image/png": "[encoded data removed]",
            "text/plain": [
              "<Figure size 432x288 with 1 Axes>"
            ]
          },
          "metadata": {
            "tags": [],
            "needs_background": "light"
          }
        }
      ]
    },
    {
      "cell_type": "markdown",
      "metadata": {
        "id": "qu7fVio1Rkhu"
      },
      "source": [
        "### Train\n",
        "\n",
        "Best Accuracy: 54.73 - epoch 14\n",
        "\n",
        "Exemplar did better"
      ]
    },
    {
      "cell_type": "code",
      "metadata": {
        "colab": {
          "base_uri": "https://localhost:8080/"
        },
        "id": "T5kfRENGRkhu",
        "outputId": "9b1b2a15-ff80-40ae-fd4e-80986f247097"
      },
      "source": [
        "\n",
        "print(\"Training CPC Classifier\")\n",
        "\n",
        "# Load the CPC trained encoder (with classifier layer activated)\n",
        "if encoder_model == \"resnet18\":\n",
        "    net = ResNet18(BasicBlock, [2, 2, 2, 2], use_classifier=True)\n",
        "elif encoder_model == \"vgg16\":\n",
        "    net = VGG16(use_classifier=True)\n",
        "net = net.to('cuda')\n",
        "\n",
        "# Load from checkpoint\n",
        "print('==> Resuming from checkpoint..')\n",
        "checkpoint = torch.load(checkpoint_dir + 'ckpt.pth')\n",
        "# Remove \"enc\" prefix in model keys()\n",
        "checkpoint['model'] = {k[4:]: v for k, v in checkpoint['model'].items() if 'enc' in k}\n",
        "net.load_state_dict(checkpoint['model'])\n",
        "loss = checkpoint['loss']\n",
        "epoch = checkpoint['epoch'] \n",
        "print('recovered loss and epoch:')\n",
        "print(loss)\n",
        "print(epoch)\n",
        "\n",
        "\n",
        "# Freeze encoder layers\n",
        "for name, param in net.named_parameters():\n",
        "    if (\"classifier\" not in name) and (\"linear\" not in name):\n",
        "        param.requires_grad = False\n",
        "    else:\n",
        "        param.requires_grad = True\n",
        "\n",
        "optimizer = optim.Adam(filter(lambda p: p.requires_grad, net.parameters()), lr=lr)\n",
        "\n",
        "\n",
        "# define scheduler based on argument inputs\n",
        "scheduler = optim.lr_scheduler.ReduceLROnPlateau(optimizer, factor=lr_gamma)\n",
        "\n",
        "loss_function = nn.CrossEntropyLoss()\n",
        "\n",
        "try:\n",
        "    train_classifier()\n",
        "except KeyboardInterrupt:\n",
        "    print(\"\\nEnding Program on Keyboard Interrupt\")\n"
      ],
      "execution_count": null,
      "outputs": [
        {
          "output_type": "stream",
          "text": [
            "Training CPC Classifier\n",
            "==> Resuming from checkpoint..\n"
          ],
          "name": "stdout"
        },
        {
          "output_type": "stream",
          "text": [
            "\r  0%|          | 0/100 [00:00<?, ?it/s]"
          ],
          "name": "stderr"
        },
        {
          "output_type": "stream",
          "text": [
            "recovered loss and epoch:\n",
            "0.7078680304380564\n",
            "6\n"
          ],
          "name": "stdout"
        },
        {
          "output_type": "stream",
          "text": [
            "100%|██████████| 100/100 [00:16<00:00,  6.16it/s]\n",
            "100%|██████████| 100/100 [00:16<00:00,  6.24it/s]\n",
            "  0%|          | 0/100 [00:00<?, ?it/s]"
          ],
          "name": "stderr"
        },
        {
          "output_type": "stream",
          "text": [
            "Epoch: 1/20 (lr=0.1)\n",
            "Train: 3.2330, 33.65%\n",
            "Test:  1.6637, 43.95%\n"
          ],
          "name": "stdout"
        },
        {
          "output_type": "stream",
          "text": [
            "100%|██████████| 100/100 [00:16<00:00,  6.10it/s]\n",
            "100%|██████████| 100/100 [00:15<00:00,  6.37it/s]\n",
            "  0%|          | 0/100 [00:00<?, ?it/s]"
          ],
          "name": "stderr"
        },
        {
          "output_type": "stream",
          "text": [
            "Epoch: 2/20 (lr=0.1)\n",
            "Train: 1.6739, 43.42%\n",
            "Test:  1.5949, 45.64%\n"
          ],
          "name": "stdout"
        },
        {
          "output_type": "stream",
          "text": [
            "100%|██████████| 100/100 [00:16<00:00,  6.21it/s]\n",
            "100%|██████████| 100/100 [00:15<00:00,  6.44it/s]\n",
            "  0%|          | 0/100 [00:00<?, ?it/s]"
          ],
          "name": "stderr"
        },
        {
          "output_type": "stream",
          "text": [
            "Epoch: 3/20 (lr=0.1)\n",
            "Train: 1.5912, 46.43%\n",
            "Test:  1.4520, 49.36%\n"
          ],
          "name": "stdout"
        },
        {
          "output_type": "stream",
          "text": [
            "100%|██████████| 100/100 [00:16<00:00,  6.14it/s]\n",
            "100%|██████████| 100/100 [00:15<00:00,  6.36it/s]\n",
            "  0%|          | 0/100 [00:00<?, ?it/s]"
          ],
          "name": "stderr"
        },
        {
          "output_type": "stream",
          "text": [
            "Epoch: 4/20 (lr=0.1)\n",
            "Train: 1.7130, 45.49%\n",
            "Test:  2.0304, 44.48%\n"
          ],
          "name": "stdout"
        },
        {
          "output_type": "stream",
          "text": [
            "100%|██████████| 100/100 [00:16<00:00,  6.12it/s]\n",
            "100%|██████████| 100/100 [00:15<00:00,  6.39it/s]\n",
            "  0%|          | 0/100 [00:00<?, ?it/s]"
          ],
          "name": "stderr"
        },
        {
          "output_type": "stream",
          "text": [
            "Epoch: 5/20 (lr=0.1)\n",
            "Train: 1.6562, 45.62%\n",
            "Test:  1.4935, 49.68%\n"
          ],
          "name": "stdout"
        },
        {
          "output_type": "stream",
          "text": [
            "100%|██████████| 100/100 [00:16<00:00,  6.17it/s]\n",
            "100%|██████████| 100/100 [00:15<00:00,  6.39it/s]\n",
            "  0%|          | 0/100 [00:00<?, ?it/s]"
          ],
          "name": "stderr"
        },
        {
          "output_type": "stream",
          "text": [
            "Epoch: 6/20 (lr=0.1)\n",
            "Train: 1.6478, 46.65%\n",
            "Test:  1.6638, 46.50%\n"
          ],
          "name": "stdout"
        },
        {
          "output_type": "stream",
          "text": [
            "100%|██████████| 100/100 [00:16<00:00,  6.13it/s]\n",
            "100%|██████████| 100/100 [00:15<00:00,  6.37it/s]\n",
            "  0%|          | 0/100 [00:00<?, ?it/s]"
          ],
          "name": "stderr"
        },
        {
          "output_type": "stream",
          "text": [
            "Epoch: 7/20 (lr=0.1)\n",
            "Train: 1.6980, 46.72%\n",
            "Test:  1.6474, 48.27%\n"
          ],
          "name": "stdout"
        },
        {
          "output_type": "stream",
          "text": [
            "100%|██████████| 100/100 [00:16<00:00,  6.15it/s]\n",
            "100%|██████████| 100/100 [00:15<00:00,  6.38it/s]\n",
            "  0%|          | 0/100 [00:00<?, ?it/s]"
          ],
          "name": "stderr"
        },
        {
          "output_type": "stream",
          "text": [
            "Epoch: 8/20 (lr=0.1)\n",
            "Train: 1.6048, 48.50%\n",
            "Test:  1.5274, 49.54%\n"
          ],
          "name": "stdout"
        },
        {
          "output_type": "stream",
          "text": [
            "100%|██████████| 100/100 [00:16<00:00,  6.15it/s]\n",
            "100%|██████████| 100/100 [00:15<00:00,  6.37it/s]\n",
            "  0%|          | 0/100 [00:00<?, ?it/s]"
          ],
          "name": "stderr"
        },
        {
          "output_type": "stream",
          "text": [
            "Epoch: 9/20 (lr=0.1)\n",
            "Train: 1.6041, 48.47%\n",
            "Test:  1.5506, 47.44%\n"
          ],
          "name": "stdout"
        },
        {
          "output_type": "stream",
          "text": [
            "100%|██████████| 100/100 [00:16<00:00,  6.12it/s]\n",
            "100%|██████████| 100/100 [00:15<00:00,  6.36it/s]\n",
            "  0%|          | 0/100 [00:00<?, ?it/s]"
          ],
          "name": "stderr"
        },
        {
          "output_type": "stream",
          "text": [
            "Epoch: 10/20 (lr=0.1)\n",
            "Train: 1.6480, 47.87%\n",
            "Test:  1.7736, 48.34%\n"
          ],
          "name": "stdout"
        },
        {
          "output_type": "stream",
          "text": [
            "100%|██████████| 100/100 [00:16<00:00,  6.12it/s]\n",
            "100%|██████████| 100/100 [00:15<00:00,  6.38it/s]\n",
            "  0%|          | 0/100 [00:00<?, ?it/s]"
          ],
          "name": "stderr"
        },
        {
          "output_type": "stream",
          "text": [
            "Epoch: 11/20 (lr=0.1)\n",
            "Train: 1.6354, 48.33%\n",
            "Test:  1.9728, 45.10%\n"
          ],
          "name": "stdout"
        },
        {
          "output_type": "stream",
          "text": [
            "100%|██████████| 100/100 [00:16<00:00,  6.14it/s]\n",
            "100%|██████████| 100/100 [00:15<00:00,  6.37it/s]\n",
            "  0%|          | 0/100 [00:00<?, ?it/s]"
          ],
          "name": "stderr"
        },
        {
          "output_type": "stream",
          "text": [
            "Epoch: 12/20 (lr=0.1)\n",
            "Train: 1.5793, 49.95%\n",
            "Test:  1.6046, 49.32%\n"
          ],
          "name": "stdout"
        },
        {
          "output_type": "stream",
          "text": [
            "100%|██████████| 100/100 [00:16<00:00,  6.17it/s]\n",
            "100%|██████████| 100/100 [00:15<00:00,  6.40it/s]\n",
            "  0%|          | 0/100 [00:00<?, ?it/s]"
          ],
          "name": "stderr"
        },
        {
          "output_type": "stream",
          "text": [
            "Epoch: 13/20 (lr=0.1)\n",
            "Train: 1.6293, 49.56%\n",
            "Test:  1.4644, 52.45%\n"
          ],
          "name": "stdout"
        },
        {
          "output_type": "stream",
          "text": [
            "100%|██████████| 100/100 [00:16<00:00,  6.17it/s]\n",
            "100%|██████████| 100/100 [00:15<00:00,  6.39it/s]\n",
            "  0%|          | 0/100 [00:00<?, ?it/s]"
          ],
          "name": "stderr"
        },
        {
          "output_type": "stream",
          "text": [
            "Epoch: 14/20 (lr=0.1)\n",
            "Train: 1.5305, 50.12%\n",
            "Test:  1.3531, 54.73%\n"
          ],
          "name": "stdout"
        },
        {
          "output_type": "stream",
          "text": [
            "100%|██████████| 100/100 [00:16<00:00,  6.14it/s]\n",
            "100%|██████████| 100/100 [00:15<00:00,  6.35it/s]\n",
            "  0%|          | 0/100 [00:00<?, ?it/s]"
          ],
          "name": "stderr"
        },
        {
          "output_type": "stream",
          "text": [
            "Epoch: 15/20 (lr=0.1)\n",
            "Train: 1.5621, 50.94%\n",
            "Test:  2.0038, 41.42%\n"
          ],
          "name": "stdout"
        },
        {
          "output_type": "stream",
          "text": [
            "100%|██████████| 100/100 [00:16<00:00,  6.08it/s]\n",
            "100%|██████████| 100/100 [00:15<00:00,  6.35it/s]\n",
            "  0%|          | 0/100 [00:00<?, ?it/s]"
          ],
          "name": "stderr"
        },
        {
          "output_type": "stream",
          "text": [
            "Epoch: 16/20 (lr=0.1)\n",
            "Train: 1.5371, 50.40%\n",
            "Test:  1.6014, 48.87%\n"
          ],
          "name": "stdout"
        },
        {
          "output_type": "stream",
          "text": [
            "100%|██████████| 100/100 [00:16<00:00,  6.16it/s]\n",
            "100%|██████████| 100/100 [00:15<00:00,  6.39it/s]\n",
            "  0%|          | 0/100 [00:00<?, ?it/s]"
          ],
          "name": "stderr"
        },
        {
          "output_type": "stream",
          "text": [
            "Epoch: 17/20 (lr=0.1)\n",
            "Train: 1.5591, 49.90%\n",
            "Test:  1.5494, 50.78%\n"
          ],
          "name": "stdout"
        },
        {
          "output_type": "stream",
          "text": [
            "100%|██████████| 100/100 [00:16<00:00,  6.14it/s]\n",
            "100%|██████████| 100/100 [00:15<00:00,  6.37it/s]\n",
            "  0%|          | 0/100 [00:00<?, ?it/s]"
          ],
          "name": "stderr"
        },
        {
          "output_type": "stream",
          "text": [
            "Epoch: 18/20 (lr=0.1)\n",
            "Train: 1.6463, 49.43%\n",
            "Test:  1.6290, 50.77%\n"
          ],
          "name": "stdout"
        },
        {
          "output_type": "stream",
          "text": [
            "100%|██████████| 100/100 [00:16<00:00,  6.12it/s]\n",
            "100%|██████████| 100/100 [00:15<00:00,  6.36it/s]\n",
            "  0%|          | 0/100 [00:00<?, ?it/s]"
          ],
          "name": "stderr"
        },
        {
          "output_type": "stream",
          "text": [
            "Epoch: 19/20 (lr=0.1)\n",
            "Train: 1.6902, 49.29%\n",
            "Test:  1.5924, 51.21%\n"
          ],
          "name": "stdout"
        },
        {
          "output_type": "stream",
          "text": [
            "100%|██████████| 100/100 [00:16<00:00,  6.16it/s]\n",
            "100%|██████████| 100/100 [00:15<00:00,  6.38it/s]"
          ],
          "name": "stderr"
        },
        {
          "output_type": "stream",
          "text": [
            "Epoch: 20/20 (lr=0.1)\n",
            "Train: 1.6171, 50.23%\n",
            "Test:  1.7861, 48.00%\n",
            "Best Accuracy: 54.73 - epoch 14\n"
          ],
          "name": "stdout"
        },
        {
          "output_type": "stream",
          "text": [
            "\n"
          ],
          "name": "stderr"
        }
      ]
    },
    {
      "cell_type": "markdown",
      "metadata": {
        "id": "1y-04E83w_JS"
      },
      "source": [
        "# VGG16 Exemplar"
      ]
    },
    {
      "cell_type": "markdown",
      "metadata": {
        "id": "89XzLWoPw_JT"
      },
      "source": [
        "## Self-Supervised"
      ]
    },
    {
      "cell_type": "markdown",
      "metadata": {
        "id": "0bemOEN9w_JT"
      },
      "source": [
        "### Config\n",
        "\n",
        "augment_mode = exemplar\n",
        "\n",
        "encoder_model = vgg16"
      ]
    },
    {
      "cell_type": "code",
      "metadata": {
        "id": "9DmqxIrhw_JT"
      },
      "source": [
        "checkpoint_dir = './drive/MyDrive/ADL/3_3/vgg_checkpoint_exemplar/'\n",
        "augment_mode = 'exemplar'\n",
        "encoder_model = \"vgg16\"\n",
        "trained_epochs = 0\n",
        "\n",
        "train_size = None\n",
        "fully_supervised = 0 \n",
        "patch_aug = 1\n",
        "\n",
        "batch_size = 32 \n",
        "lr = 2e-4"
      ],
      "execution_count": null,
      "outputs": []
    },
    {
      "cell_type": "markdown",
      "metadata": {
        "id": "b2ha54Ucw_JT"
      },
      "source": [
        "### Model"
      ]
    },
    {
      "cell_type": "code",
      "metadata": {
        "id": "eKPJzQX3w_JU"
      },
      "source": [
        "\n",
        "# Define Encoder Network\n",
        "if encoder_model == \"resnet18\":\n",
        "  enc = ResNet18(BasicBlock, [2, 2, 2, 2], use_classifier=False)\n",
        "elif encoder_model == \"vgg16\":\n",
        "  enc = VGG16(use_classifier=False)\n",
        "    \n",
        "# Define Autrogressive Network\n",
        "ar = PixelCNN(in_channels=enc.encoding_size)\n",
        "\n",
        "# Define CPC Network\n",
        "net = CPC(enc, ar, pred_directions, pred_steps, neg_samples)\n",
        "net = net.to('cuda')\n",
        "\n",
        "\n",
        "# Freeze classifier layer - save memory\n",
        "for name, param in net.named_parameters():\n",
        "    if (\"linear\" in name) or ('classifier' in name):\n",
        "        param.requires_grad = False\n",
        "\n",
        "optimizer = optim.Adam(filter(lambda p: p.requires_grad, net.parameters()), lr=lr)\n",
        "\n",
        "if trained_epochs != 0: # Load from checkpoint\n",
        "  load_from_checkpoint()\n",
        "  net.train()"
      ],
      "execution_count": null,
      "outputs": []
    },
    {
      "cell_type": "markdown",
      "metadata": {
        "id": "AlBItnOAw_JU"
      },
      "source": [
        "### Load data"
      ]
    },
    {
      "cell_type": "code",
      "metadata": {
        "colab": {
          "base_uri": "https://localhost:8080/",
          "height": 818
        },
        "id": "okatH6NDw_JU",
        "outputId": "e2c5bb12-a0a9-4061-9319-6d53b89d6376"
      },
      "source": [
        "# Get selected dataset\n",
        "\n",
        "unsupervised_loader, _, _ = get_cifar10_dataloader()\n",
        "\n",
        "# Test it\n",
        "s = iter(unsupervised_loader)\n",
        "x, y = s.next()\n",
        "\n",
        "print(x.size())\n",
        "print(y.size())\n",
        "\n",
        "for i in range(4):\n",
        "  imshow(torchvision.utils.make_grid(x[0, i]))"
      ],
      "execution_count": null,
      "outputs": [
        {
          "output_type": "stream",
          "text": [
            "Training: Compose(\n",
            "    RandomCrop(size=(30, 30), padding=2)\n",
            "    RandomHorizontalFlip(p=0.5)\n",
            "    ToTensor()\n",
            "    PatchifyAugment(grid_size=5, gray=0)\n",
            "    PatchAugNormalize(mean=[0.49139968, 0.48215827, 0.44653124], std=[0.24703233, 0.24348505, 0.26158768])\n",
            ")\n",
            "Testing: Compose(\n",
            "    CenterCrop(size=(30, 30))\n",
            "    ToTensor()\n",
            "    Normalize(mean=[0.49139968, 0.48215827, 0.44653124], std=[0.24703233, 0.24348505, 0.26158768])\n",
            "    Patchify(grid_size=5)\n",
            ")\n",
            "Files already downloaded and verified\n",
            "Files already downloaded and verified\n"
          ],
          "name": "stdout"
        },
        {
          "output_type": "stream",
          "text": [
            "Clipping input data to the valid range for imshow with RGB data ([0..1] for floats or [0..255] for integers).\n"
          ],
          "name": "stderr"
        },
        {
          "output_type": "stream",
          "text": [
            "torch.Size([32, 5, 5, 3, 10, 10])\n",
            "torch.Size([32])\n"
          ],
          "name": "stdout"
        },
        {
          "output_type": "display_data",
          "data": {
            "image/png": "[encoded data removed]",
            "text/plain": [
              "<Figure size 432x288 with 1 Axes>"
            ]
          },
          "metadata": {
            "tags": [],
            "needs_background": "light"
          }
        },
        {
          "output_type": "stream",
          "text": [
            "Clipping input data to the valid range for imshow with RGB data ([0..1] for floats or [0..255] for integers).\n"
          ],
          "name": "stderr"
        },
        {
          "output_type": "display_data",
          "data": {
            "image/png": "[encoded data removed]",
            "text/plain": [
              "<Figure size 432x288 with 1 Axes>"
            ]
          },
          "metadata": {
            "tags": [],
            "needs_background": "light"
          }
        },
        {
          "output_type": "stream",
          "text": [
            "Clipping input data to the valid range for imshow with RGB data ([0..1] for floats or [0..255] for integers).\n"
          ],
          "name": "stderr"
        },
        {
          "output_type": "display_data",
          "data": {
            "image/png": "[encoded data removed]",
            "text/plain": [
              "<Figure size 432x288 with 1 Axes>"
            ]
          },
          "metadata": {
            "tags": [],
            "needs_background": "light"
          }
        },
        {
          "output_type": "stream",
          "text": [
            "Clipping input data to the valid range for imshow with RGB data ([0..1] for floats or [0..255] for integers).\n"
          ],
          "name": "stderr"
        },
        {
          "output_type": "display_data",
          "data": {
            "image/png": "[encoded data removed]",
            "text/plain": [
              "<Figure size 432x288 with 1 Axes>"
            ]
          },
          "metadata": {
            "tags": [],
            "needs_background": "light"
          }
        }
      ]
    },
    {
      "cell_type": "markdown",
      "metadata": {
        "id": "fLTis04Jw_JU"
      },
      "source": [
        "### Train\n",
        "\n",
        "Epoch 8/20, Epoch Loss: 2.0065\n",
        "\n",
        "Big loss!!"
      ]
    },
    {
      "cell_type": "code",
      "metadata": {
        "colab": {
          "base_uri": "https://localhost:8080/"
        },
        "id": "JtT37Q4Ew_JV",
        "outputId": "523c3773-9734-419f-c4f5-3fc19edbb1e2"
      },
      "source": [
        "# Train the network\n",
        "print(f\"Encoder: {encoder_model}, Crop: {crop}, Grid Size: {grid_size}, Norm: {norm}, Pred Directions: {pred_directions}, Patch Aug: {patch_aug}\")\n",
        "\n",
        "train()"
      ],
      "execution_count": null,
      "outputs": [
        {
          "output_type": "stream",
          "text": [
            "Encoder: vgg16, Crop: 30-2, Grid Size: 5, Norm: , Pred Directions: 1, Patch Aug: 1\n",
            "Epoch 1/20, Iteration 1/1563, Loss: 2.8332, Time(s): 0.48\n",
            "Epoch 1/20, Iteration 156/1563, Loss: 2.7122, Time(s): 37.96\n",
            "Epoch 1/20, Iteration 312/1563, Loss: 2.7051, Time(s): 38.33\n",
            "Epoch 1/20, Iteration 468/1563, Loss: 2.6184, Time(s): 38.23\n",
            "Epoch 1/20, Iteration 624/1563, Loss: 2.5434, Time(s): 38.59\n",
            "Epoch 1/20, Iteration 780/1563, Loss: 2.6237, Time(s): 38.30\n",
            "Epoch 1/20, Iteration 936/1563, Loss: 2.5820, Time(s): 38.39\n",
            "Epoch 1/20, Iteration 1092/1563, Loss: 2.6833, Time(s): 38.46\n",
            "Epoch 1/20, Iteration 1248/1563, Loss: 2.5010, Time(s): 38.70\n",
            "Epoch 1/20, Iteration 1404/1563, Loss: 2.5542, Time(s): 38.61\n",
            "Epoch 1/20, Iteration 1560/1563, Loss: 2.5140, Time(s): 43.06\n",
            "Epoch 1/20, Epoch Loss: 2.5459\n",
            "Saving..\n",
            "Epoch 2/20, Iteration 1/1563, Loss: 2.4656, Time(s): 0.40\n",
            "Epoch 2/20, Iteration 156/1563, Loss: 2.3960, Time(s): 39.68\n",
            "Epoch 2/20, Iteration 312/1563, Loss: 2.4626, Time(s): 37.72\n",
            "Epoch 2/20, Iteration 468/1563, Loss: 2.4804, Time(s): 38.12\n",
            "Epoch 2/20, Iteration 624/1563, Loss: 2.6015, Time(s): 39.54\n",
            "Epoch 2/20, Iteration 780/1563, Loss: 2.4193, Time(s): 38.19\n",
            "Epoch 2/20, Iteration 936/1563, Loss: 2.3993, Time(s): 37.55\n",
            "Epoch 2/20, Iteration 1092/1563, Loss: 2.4440, Time(s): 37.41\n",
            "Epoch 2/20, Iteration 1248/1563, Loss: 2.3738, Time(s): 39.91\n",
            "Epoch 2/20, Iteration 1404/1563, Loss: 2.4494, Time(s): 37.74\n",
            "Epoch 2/20, Iteration 1560/1563, Loss: 2.4662, Time(s): 42.26\n",
            "Epoch 2/20, Epoch Loss: 2.4076\n",
            "Saving..\n",
            "Epoch 3/20, Iteration 1/1563, Loss: 2.4867, Time(s): 0.41\n",
            "Epoch 3/20, Iteration 156/1563, Loss: 2.4311, Time(s): 38.54\n",
            "Epoch 3/20, Iteration 312/1563, Loss: 2.3784, Time(s): 39.63\n",
            "Epoch 3/20, Iteration 468/1563, Loss: 2.3928, Time(s): 37.96\n",
            "Epoch 3/20, Iteration 624/1563, Loss: 2.3728, Time(s): 38.64\n",
            "Epoch 3/20, Iteration 780/1563, Loss: 2.3553, Time(s): 39.99\n",
            "Epoch 3/20, Iteration 936/1563, Loss: 2.3426, Time(s): 37.73\n",
            "Epoch 3/20, Iteration 1092/1563, Loss: 2.2688, Time(s): 37.77\n",
            "Epoch 3/20, Iteration 1248/1563, Loss: 2.2616, Time(s): 40.00\n",
            "Epoch 3/20, Iteration 1404/1563, Loss: 2.3170, Time(s): 37.60\n",
            "Epoch 3/20, Iteration 1560/1563, Loss: 2.3048, Time(s): 42.40\n",
            "Epoch 3/20, Epoch Loss: 2.3110\n",
            "Saving..\n",
            "Epoch 4/20, Iteration 1/1563, Loss: 2.2228, Time(s): 0.38\n",
            "Epoch 4/20, Iteration 156/1563, Loss: 2.3629, Time(s): 39.08\n",
            "Epoch 4/20, Iteration 312/1563, Loss: 2.2694, Time(s): 38.58\n",
            "Epoch 4/20, Iteration 468/1563, Loss: 2.1891, Time(s): 37.94\n",
            "Epoch 4/20, Iteration 624/1563, Loss: 2.1488, Time(s): 37.73\n",
            "Epoch 4/20, Iteration 780/1563, Loss: 2.3621, Time(s): 40.21\n",
            "Epoch 4/20, Iteration 936/1563, Loss: 2.4715, Time(s): 37.87\n",
            "Epoch 4/20, Iteration 1092/1563, Loss: 2.2922, Time(s): 37.94\n",
            "Epoch 4/20, Iteration 1248/1563, Loss: 2.1141, Time(s): 39.90\n",
            "Epoch 4/20, Iteration 1404/1563, Loss: 2.3280, Time(s): 38.25\n",
            "Epoch 4/20, Iteration 1560/1563, Loss: 2.2193, Time(s): 42.67\n",
            "Epoch 4/20, Epoch Loss: 2.2353\n",
            "Saving..\n",
            "Epoch 5/20, Iteration 1/1563, Loss: 2.1981, Time(s): 0.39\n",
            "Epoch 5/20, Iteration 156/1563, Loss: 2.3479, Time(s): 39.79\n",
            "Epoch 5/20, Iteration 312/1563, Loss: 2.2884, Time(s): 38.32\n",
            "Epoch 5/20, Iteration 468/1563, Loss: 2.1617, Time(s): 38.35\n",
            "Epoch 5/20, Iteration 624/1563, Loss: 2.1424, Time(s): 39.44\n",
            "Epoch 5/20, Iteration 780/1563, Loss: 2.2048, Time(s): 42.08\n",
            "Epoch 5/20, Iteration 936/1563, Loss: 2.2480, Time(s): 38.09\n",
            "Epoch 5/20, Iteration 1092/1563, Loss: 2.2617, Time(s): 38.47\n",
            "Epoch 5/20, Iteration 1248/1563, Loss: 2.2641, Time(s): 40.68\n",
            "Epoch 5/20, Iteration 1404/1563, Loss: 2.2241, Time(s): 38.73\n",
            "Epoch 5/20, Iteration 1560/1563, Loss: 2.1252, Time(s): 43.34\n",
            "Epoch 5/20, Epoch Loss: 2.1681\n",
            "Saving..\n",
            "Epoch 6/20, Iteration 1/1563, Loss: 2.1944, Time(s): 0.42\n",
            "Epoch 6/20, Iteration 156/1563, Loss: 2.2182, Time(s): 42.21\n",
            "Epoch 6/20, Iteration 312/1563, Loss: 2.0545, Time(s): 38.63\n",
            "Epoch 6/20, Iteration 468/1563, Loss: 2.1343, Time(s): 38.63\n",
            "Epoch 6/20, Iteration 624/1563, Loss: 2.2148, Time(s): 41.05\n",
            "Epoch 6/20, Iteration 780/1563, Loss: 2.1845, Time(s): 39.11\n",
            "Epoch 6/20, Iteration 936/1563, Loss: 2.1684, Time(s): 38.59\n",
            "Epoch 6/20, Iteration 1092/1563, Loss: 2.0011, Time(s): 40.60\n",
            "Epoch 6/20, Iteration 1248/1563, Loss: 2.0423, Time(s): 38.64\n",
            "Epoch 6/20, Iteration 1404/1563, Loss: 2.0846, Time(s): 38.77\n",
            "Epoch 6/20, Iteration 1560/1563, Loss: 2.2005, Time(s): 42.41\n",
            "Epoch 6/20, Epoch Loss: 2.1061\n",
            "Saving..\n",
            "Epoch 7/20, Iteration 1/1563, Loss: 2.1110, Time(s): 0.38\n",
            "Epoch 7/20, Iteration 156/1563, Loss: 2.1902, Time(s): 40.39\n",
            "Epoch 7/20, Iteration 312/1563, Loss: 2.0130, Time(s): 37.91\n",
            "Epoch 7/20, Iteration 468/1563, Loss: 2.0985, Time(s): 38.49\n",
            "Epoch 7/20, Iteration 624/1563, Loss: 2.2765, Time(s): 40.18\n",
            "Epoch 7/20, Iteration 780/1563, Loss: 2.0657, Time(s): 38.55\n",
            "Epoch 7/20, Iteration 936/1563, Loss: 2.1375, Time(s): 38.71\n",
            "Epoch 7/20, Iteration 1092/1563, Loss: 1.9507, Time(s): 38.46\n",
            "Epoch 7/20, Iteration 1248/1563, Loss: 1.9829, Time(s): 39.98\n",
            "Epoch 7/20, Iteration 1404/1563, Loss: 1.9615, Time(s): 38.07\n",
            "Epoch 7/20, Iteration 1560/1563, Loss: 1.9943, Time(s): 42.40\n",
            "Epoch 7/20, Epoch Loss: 2.0515\n",
            "Saving..\n",
            "Epoch 8/20, Iteration 1/1563, Loss: 1.9656, Time(s): 0.43\n",
            "Epoch 8/20, Iteration 156/1563, Loss: 2.0962, Time(s): 38.02\n",
            "Epoch 8/20, Iteration 312/1563, Loss: 2.0160, Time(s): 40.60\n",
            "Epoch 8/20, Iteration 468/1563, Loss: 1.9279, Time(s): 38.35\n",
            "Epoch 8/20, Iteration 624/1563, Loss: 2.0552, Time(s): 38.16\n",
            "Epoch 8/20, Iteration 780/1563, Loss: 2.0801, Time(s): 39.80\n",
            "Epoch 8/20, Iteration 936/1563, Loss: 1.9703, Time(s): 38.25\n",
            "Epoch 8/20, Iteration 1092/1563, Loss: 1.9857, Time(s): 37.91\n",
            "Epoch 8/20, Iteration 1248/1563, Loss: 1.9340, Time(s): 38.44\n",
            "Epoch 8/20, Iteration 1404/1563, Loss: 2.1741, Time(s): 40.23\n",
            "Epoch 8/20, Iteration 1560/1563, Loss: 1.9720, Time(s): 42.46\n",
            "Epoch 8/20, Epoch Loss: 2.0065\n",
            "Saving..\n",
            "Epoch 9/20, Iteration 1/1563, Loss: 2.2564, Time(s): 0.39\n",
            "Epoch 9/20, Iteration 156/1563, Loss: 2.0041, Time(s): 37.37\n",
            "Epoch 9/20, Iteration 312/1563, Loss: 1.8468, Time(s): 39.87\n",
            "Epoch 9/20, Iteration 468/1563, Loss: 1.9732, Time(s): 37.51\n",
            "\n",
            "Ending Program on Keyboard Interrupt\n"
          ],
          "name": "stdout"
        }
      ]
    },
    {
      "cell_type": "markdown",
      "metadata": {
        "id": "lbprxdZSw_JV"
      },
      "source": [
        "## Supervised"
      ]
    },
    {
      "cell_type": "markdown",
      "metadata": {
        "id": "I-y9mc7Pw_JV"
      },
      "source": [
        "### Config\n"
      ]
    },
    {
      "cell_type": "code",
      "metadata": {
        "id": "gJavHemCw_JW"
      },
      "source": [
        "checkpoint_dir = './drive/MyDrive/ADL/3_3/vgg_checkpoint_exemplar/'\n",
        "encoder_model = 'vgg16'\n",
        "augment_mode = 'exemplar'\n",
        "train_size = 10000 \n",
        "batch_size = 100\n",
        "\n",
        "fully_supervised = 0 #WTF is it gonna be man\n",
        "cpc_patch_aug = 1 \n",
        "patch_aug = 0\n",
        "lr = 0.1 \n",
        "lr_gamma = 0.1 #Scheduler"
      ],
      "execution_count": null,
      "outputs": []
    },
    {
      "cell_type": "markdown",
      "metadata": {
        "id": "gFdyGp8dw_JW"
      },
      "source": [
        "### Load data"
      ]
    },
    {
      "cell_type": "code",
      "metadata": {
        "colab": {
          "base_uri": "https://localhost:8080/",
          "height": 1000
        },
        "id": "683p4NlLw_JW",
        "outputId": "8377b56a-99a4-471b-dad9-d76020334bd7"
      },
      "source": [
        "_, train_loader, test_loader = get_cifar10_dataloader()\n",
        "\n",
        "# Test it\n",
        "\n",
        "s = iter(train_loader)\n",
        "\n",
        "x, y = s.next()\n",
        "print(x.size())\n",
        "print(y.size())\n",
        "for i in range(4):\n",
        "  imshow(torchvision.utils.make_grid(x[0, i]))\n",
        "\n",
        "# Test it\n",
        "s = iter(test_loader)\n",
        "x, y = s.next()\n",
        "print(x.size())\n",
        "print(y.size())\n",
        "for i in range(4):\n",
        "  imshow(torchvision.utils.make_grid(x[0, i]))\n"
      ],
      "execution_count": null,
      "outputs": [
        {
          "output_type": "stream",
          "text": [
            "Training: Compose(\n",
            "    RandomCrop(size=(30, 30), padding=2)\n",
            "    RandomHorizontalFlip(p=0.5)\n",
            "    ToTensor()\n",
            "    Normalize(mean=[0.49139968, 0.48215827, 0.44653124], std=[0.24703233, 0.24348505, 0.26158768])\n",
            "    Patchify(grid_size=5)\n",
            ")\n",
            "Testing: Compose(\n",
            "    CenterCrop(size=(30, 30))\n",
            "    ToTensor()\n",
            "    Normalize(mean=[0.49139968, 0.48215827, 0.44653124], std=[0.24703233, 0.24348505, 0.26158768])\n",
            "    Patchify(grid_size=5)\n",
            ")\n",
            "Files already downloaded and verified\n",
            "Files already downloaded and verified\n"
          ],
          "name": "stdout"
        },
        {
          "output_type": "stream",
          "text": [
            "Clipping input data to the valid range for imshow with RGB data ([0..1] for floats or [0..255] for integers).\n"
          ],
          "name": "stderr"
        },
        {
          "output_type": "stream",
          "text": [
            "torch.Size([100, 5, 5, 3, 10, 10])\n",
            "torch.Size([100])\n"
          ],
          "name": "stdout"
        },
        {
          "output_type": "display_data",
          "data": {
            "image/png": "[encoded data removed]",
            "text/plain": [
              "<Figure size 432x288 with 1 Axes>"
            ]
          },
          "metadata": {
            "tags": [],
            "needs_background": "light"
          }
        },
        {
          "output_type": "stream",
          "text": [
            "Clipping input data to the valid range for imshow with RGB data ([0..1] for floats or [0..255] for integers).\n"
          ],
          "name": "stderr"
        },
        {
          "output_type": "display_data",
          "data": {
            "image/png": "[encoded data removed]",
            "text/plain": [
              "<Figure size 432x288 with 1 Axes>"
            ]
          },
          "metadata": {
            "tags": [],
            "needs_background": "light"
          }
        },
        {
          "output_type": "stream",
          "text": [
            "Clipping input data to the valid range for imshow with RGB data ([0..1] for floats or [0..255] for integers).\n"
          ],
          "name": "stderr"
        },
        {
          "output_type": "display_data",
          "data": {
            "image/png": "[encoded data removed]",
            "text/plain": [
              "<Figure size 432x288 with 1 Axes>"
            ]
          },
          "metadata": {
            "tags": [],
            "needs_background": "light"
          }
        },
        {
          "output_type": "stream",
          "text": [
            "Clipping input data to the valid range for imshow with RGB data ([0..1] for floats or [0..255] for integers).\n"
          ],
          "name": "stderr"
        },
        {
          "output_type": "display_data",
          "data": {
            "image/png": "[encoded data removed]",
            "text/plain": [
              "<Figure size 432x288 with 1 Axes>"
            ]
          },
          "metadata": {
            "tags": [],
            "needs_background": "light"
          }
        },
        {
          "output_type": "stream",
          "text": [
            "Clipping input data to the valid range for imshow with RGB data ([0..1] for floats or [0..255] for integers).\n"
          ],
          "name": "stderr"
        },
        {
          "output_type": "stream",
          "text": [
            "torch.Size([100, 5, 5, 3, 10, 10])\n",
            "torch.Size([100])\n"
          ],
          "name": "stdout"
        },
        {
          "output_type": "display_data",
          "data": {
            "image/png": "[encoded data removed]",
            "text/plain": [
              "<Figure size 432x288 with 1 Axes>"
            ]
          },
          "metadata": {
            "tags": [],
            "needs_background": "light"
          }
        },
        {
          "output_type": "stream",
          "text": [
            "Clipping input data to the valid range for imshow with RGB data ([0..1] for floats or [0..255] for integers).\n"
          ],
          "name": "stderr"
        },
        {
          "output_type": "display_data",
          "data": {
            "image/png": "[encoded data removed]",
            "text/plain": [
              "<Figure size 432x288 with 1 Axes>"
            ]
          },
          "metadata": {
            "tags": [],
            "needs_background": "light"
          }
        },
        {
          "output_type": "stream",
          "text": [
            "Clipping input data to the valid range for imshow with RGB data ([0..1] for floats or [0..255] for integers).\n"
          ],
          "name": "stderr"
        },
        {
          "output_type": "display_data",
          "data": {
            "image/png": "[encoded data removed]",
            "text/plain": [
              "<Figure size 432x288 with 1 Axes>"
            ]
          },
          "metadata": {
            "tags": [],
            "needs_background": "light"
          }
        },
        {
          "output_type": "stream",
          "text": [
            "Clipping input data to the valid range for imshow with RGB data ([0..1] for floats or [0..255] for integers).\n"
          ],
          "name": "stderr"
        },
        {
          "output_type": "display_data",
          "data": {
            "image/png": "[encoded data removed]",
            "text/plain": [
              "<Figure size 432x288 with 1 Axes>"
            ]
          },
          "metadata": {
            "tags": [],
            "needs_background": "light"
          }
        }
      ]
    },
    {
      "cell_type": "markdown",
      "metadata": {
        "id": "rerfH5w0w_JX"
      },
      "source": [
        "### Train\n",
        "\n",
        "Best Accuracy: 47.24 - epoch 20\n",
        "\n",
        "worse than ResNet18"
      ]
    },
    {
      "cell_type": "code",
      "metadata": {
        "colab": {
          "base_uri": "https://localhost:8080/"
        },
        "id": "MvG_lhdvw_JX",
        "outputId": "b37f5620-8d7f-4e31-f37b-e707e9fe1a6e"
      },
      "source": [
        "\n",
        "print(\"Training CPC Classifier\")\n",
        "\n",
        "# Load the CPC trained encoder (with classifier layer activated)\n",
        "if encoder_model == \"resnet18\":\n",
        "    net = ResNet18(BasicBlock, [2, 2, 2, 2], use_classifier=True)\n",
        "elif encoder_model == \"vgg16\":\n",
        "    net = VGG16(use_classifier=True)\n",
        "net = net.to('cuda')\n",
        "\n",
        "# Load from checkpoint\n",
        "print('==> Resuming from checkpoint..')\n",
        "checkpoint = torch.load(checkpoint_dir + 'ckpt.pth')\n",
        "# Remove \"enc\" prefix in model keys()\n",
        "checkpoint['model'] = {k[4:]: v for k, v in checkpoint['model'].items() if 'enc' in k}\n",
        "net.load_state_dict(checkpoint['model'])\n",
        "loss = checkpoint['loss']\n",
        "epoch = checkpoint['epoch'] \n",
        "print('recovered loss and epoch:')\n",
        "print(loss)\n",
        "print(epoch)\n",
        "\n",
        "\n",
        "# Freeze encoder layers\n",
        "for name, param in net.named_parameters():\n",
        "    if (\"classifier\" not in name) and (\"linear\" not in name):\n",
        "        param.requires_grad = False\n",
        "    else:\n",
        "        param.requires_grad = True\n",
        "\n",
        "optimizer = optim.Adam(filter(lambda p: p.requires_grad, net.parameters()), lr=lr)\n",
        "\n",
        "\n",
        "# define scheduler based on argument inputs\n",
        "scheduler = optim.lr_scheduler.ReduceLROnPlateau(optimizer, factor=lr_gamma)\n",
        "\n",
        "loss_function = nn.CrossEntropyLoss()\n",
        "\n",
        "try:\n",
        "    train_classifier()\n",
        "except KeyboardInterrupt:\n",
        "    print(\"\\nEnding Program on Keyboard Interrupt\")\n"
      ],
      "execution_count": null,
      "outputs": [
        {
          "output_type": "stream",
          "text": [
            "Training CPC Classifier\n",
            "==> Resuming from checkpoint..\n"
          ],
          "name": "stdout"
        },
        {
          "output_type": "stream",
          "text": [
            "\r  0%|          | 0/100 [00:00<?, ?it/s]"
          ],
          "name": "stderr"
        },
        {
          "output_type": "stream",
          "text": [
            "recovered loss and epoch:\n",
            "2.0064739768321695\n",
            "8\n"
          ],
          "name": "stdout"
        },
        {
          "output_type": "stream",
          "text": [
            "100%|██████████| 100/100 [00:08<00:00, 12.00it/s]\n",
            "100%|██████████| 100/100 [00:08<00:00, 12.04it/s]\n",
            "  0%|          | 0/100 [00:00<?, ?it/s]"
          ],
          "name": "stderr"
        },
        {
          "output_type": "stream",
          "text": [
            "Epoch: 1/20 (lr=0.1)\n",
            "Train: 1.7488, 35.16%\n",
            "Test:  1.5832, 40.74%\n"
          ],
          "name": "stdout"
        },
        {
          "output_type": "stream",
          "text": [
            "100%|██████████| 100/100 [00:08<00:00, 12.02it/s]\n",
            "100%|██████████| 100/100 [00:08<00:00, 12.02it/s]\n",
            "  0%|          | 0/100 [00:00<?, ?it/s]"
          ],
          "name": "stderr"
        },
        {
          "output_type": "stream",
          "text": [
            "Epoch: 2/20 (lr=0.1)\n",
            "Train: 1.5750, 40.81%\n",
            "Test:  1.5290, 43.16%\n"
          ],
          "name": "stdout"
        },
        {
          "output_type": "stream",
          "text": [
            "100%|██████████| 100/100 [00:08<00:00, 11.98it/s]\n",
            "100%|██████████| 100/100 [00:08<00:00, 12.09it/s]\n",
            "  0%|          | 0/100 [00:00<?, ?it/s]"
          ],
          "name": "stderr"
        },
        {
          "output_type": "stream",
          "text": [
            "Epoch: 3/20 (lr=0.1)\n",
            "Train: 1.5460, 41.93%\n",
            "Test:  1.5200, 42.05%\n"
          ],
          "name": "stdout"
        },
        {
          "output_type": "stream",
          "text": [
            "100%|██████████| 100/100 [00:08<00:00, 12.07it/s]\n",
            "100%|██████████| 100/100 [00:08<00:00, 12.13it/s]\n",
            "  0%|          | 0/100 [00:00<?, ?it/s]"
          ],
          "name": "stderr"
        },
        {
          "output_type": "stream",
          "text": [
            "Epoch: 4/20 (lr=0.1)\n",
            "Train: 1.5240, 42.95%\n",
            "Test:  1.4902, 43.74%\n"
          ],
          "name": "stdout"
        },
        {
          "output_type": "stream",
          "text": [
            "100%|██████████| 100/100 [00:08<00:00, 12.09it/s]\n",
            "100%|██████████| 100/100 [00:08<00:00, 12.25it/s]\n",
            "  0%|          | 0/100 [00:00<?, ?it/s]"
          ],
          "name": "stderr"
        },
        {
          "output_type": "stream",
          "text": [
            "Epoch: 5/20 (lr=0.1)\n",
            "Train: 1.5033, 43.79%\n",
            "Test:  1.4779, 44.23%\n"
          ],
          "name": "stdout"
        },
        {
          "output_type": "stream",
          "text": [
            "100%|██████████| 100/100 [00:08<00:00, 12.10it/s]\n",
            "100%|██████████| 100/100 [00:08<00:00, 12.15it/s]\n",
            "  0%|          | 0/100 [00:00<?, ?it/s]"
          ],
          "name": "stderr"
        },
        {
          "output_type": "stream",
          "text": [
            "Epoch: 6/20 (lr=0.1)\n",
            "Train: 1.5008, 43.81%\n",
            "Test:  1.4756, 44.74%\n"
          ],
          "name": "stdout"
        },
        {
          "output_type": "stream",
          "text": [
            "100%|██████████| 100/100 [00:08<00:00, 12.06it/s]\n",
            "100%|██████████| 100/100 [00:08<00:00, 12.11it/s]\n",
            "  0%|          | 0/100 [00:00<?, ?it/s]"
          ],
          "name": "stderr"
        },
        {
          "output_type": "stream",
          "text": [
            "Epoch: 7/20 (lr=0.1)\n",
            "Train: 1.4894, 44.31%\n",
            "Test:  1.4772, 44.83%\n"
          ],
          "name": "stdout"
        },
        {
          "output_type": "stream",
          "text": [
            "100%|██████████| 100/100 [00:08<00:00, 11.92it/s]\n",
            "100%|██████████| 100/100 [00:08<00:00, 12.14it/s]\n",
            "  0%|          | 0/100 [00:00<?, ?it/s]"
          ],
          "name": "stderr"
        },
        {
          "output_type": "stream",
          "text": [
            "Epoch: 8/20 (lr=0.1)\n",
            "Train: 1.4799, 45.21%\n",
            "Test:  1.4762, 43.79%\n"
          ],
          "name": "stdout"
        },
        {
          "output_type": "stream",
          "text": [
            "100%|██████████| 100/100 [00:08<00:00, 11.87it/s]\n",
            "100%|██████████| 100/100 [00:08<00:00, 12.14it/s]\n",
            "  0%|          | 0/100 [00:00<?, ?it/s]"
          ],
          "name": "stderr"
        },
        {
          "output_type": "stream",
          "text": [
            "Epoch: 9/20 (lr=0.1)\n",
            "Train: 1.4794, 44.99%\n",
            "Test:  1.4555, 44.93%\n"
          ],
          "name": "stdout"
        },
        {
          "output_type": "stream",
          "text": [
            "100%|██████████| 100/100 [00:08<00:00, 12.09it/s]\n",
            "100%|██████████| 100/100 [00:08<00:00, 12.13it/s]\n",
            "  0%|          | 0/100 [00:00<?, ?it/s]"
          ],
          "name": "stderr"
        },
        {
          "output_type": "stream",
          "text": [
            "Epoch: 10/20 (lr=0.1)\n",
            "Train: 1.4706, 44.95%\n",
            "Test:  1.4449, 46.22%\n"
          ],
          "name": "stdout"
        },
        {
          "output_type": "stream",
          "text": [
            "100%|██████████| 100/100 [00:08<00:00, 12.10it/s]\n",
            "100%|██████████| 100/100 [00:08<00:00, 12.14it/s]\n",
            "  0%|          | 0/100 [00:00<?, ?it/s]"
          ],
          "name": "stderr"
        },
        {
          "output_type": "stream",
          "text": [
            "Epoch: 11/20 (lr=0.1)\n",
            "Train: 1.4652, 45.50%\n",
            "Test:  1.4429, 45.77%\n"
          ],
          "name": "stdout"
        },
        {
          "output_type": "stream",
          "text": [
            "100%|██████████| 100/100 [00:08<00:00, 12.07it/s]\n",
            "100%|██████████| 100/100 [00:08<00:00, 12.12it/s]\n",
            "  0%|          | 0/100 [00:00<?, ?it/s]"
          ],
          "name": "stderr"
        },
        {
          "output_type": "stream",
          "text": [
            "Epoch: 12/20 (lr=0.1)\n",
            "Train: 1.4561, 46.24%\n",
            "Test:  1.4459, 44.96%\n"
          ],
          "name": "stdout"
        },
        {
          "output_type": "stream",
          "text": [
            "100%|██████████| 100/100 [00:08<00:00, 12.06it/s]\n",
            "100%|██████████| 100/100 [00:08<00:00, 12.14it/s]\n",
            "  0%|          | 0/100 [00:00<?, ?it/s]"
          ],
          "name": "stderr"
        },
        {
          "output_type": "stream",
          "text": [
            "Epoch: 13/20 (lr=0.1)\n",
            "Train: 1.4458, 46.50%\n",
            "Test:  1.4397, 46.15%\n"
          ],
          "name": "stdout"
        },
        {
          "output_type": "stream",
          "text": [
            "100%|██████████| 100/100 [00:08<00:00, 12.09it/s]\n",
            "100%|██████████| 100/100 [00:08<00:00, 12.15it/s]\n",
            "  0%|          | 0/100 [00:00<?, ?it/s]"
          ],
          "name": "stderr"
        },
        {
          "output_type": "stream",
          "text": [
            "Epoch: 14/20 (lr=0.1)\n",
            "Train: 1.4481, 46.21%\n",
            "Test:  1.4276, 46.98%\n"
          ],
          "name": "stdout"
        },
        {
          "output_type": "stream",
          "text": [
            "100%|██████████| 100/100 [00:08<00:00, 12.10it/s]\n",
            "100%|██████████| 100/100 [00:08<00:00, 12.14it/s]\n",
            "  0%|          | 0/100 [00:00<?, ?it/s]"
          ],
          "name": "stderr"
        },
        {
          "output_type": "stream",
          "text": [
            "Epoch: 15/20 (lr=0.1)\n",
            "Train: 1.4516, 46.03%\n",
            "Test:  1.4315, 46.74%\n"
          ],
          "name": "stdout"
        },
        {
          "output_type": "stream",
          "text": [
            "100%|██████████| 100/100 [00:08<00:00, 12.07it/s]\n",
            "100%|██████████| 100/100 [00:08<00:00, 12.10it/s]\n",
            "  0%|          | 0/100 [00:00<?, ?it/s]"
          ],
          "name": "stderr"
        },
        {
          "output_type": "stream",
          "text": [
            "Epoch: 16/20 (lr=0.1)\n",
            "Train: 1.4452, 46.21%\n",
            "Test:  1.4289, 46.19%\n"
          ],
          "name": "stdout"
        },
        {
          "output_type": "stream",
          "text": [
            "100%|██████████| 100/100 [00:08<00:00, 11.89it/s]\n",
            "100%|██████████| 100/100 [00:08<00:00, 12.13it/s]\n",
            "  0%|          | 0/100 [00:00<?, ?it/s]"
          ],
          "name": "stderr"
        },
        {
          "output_type": "stream",
          "text": [
            "Epoch: 17/20 (lr=0.1)\n",
            "Train: 1.4426, 46.38%\n",
            "Test:  1.4258, 46.49%\n"
          ],
          "name": "stdout"
        },
        {
          "output_type": "stream",
          "text": [
            "100%|██████████| 100/100 [00:08<00:00, 12.10it/s]\n",
            "100%|██████████| 100/100 [00:08<00:00, 12.16it/s]\n",
            "  0%|          | 0/100 [00:00<?, ?it/s]"
          ],
          "name": "stderr"
        },
        {
          "output_type": "stream",
          "text": [
            "Epoch: 18/20 (lr=0.1)\n",
            "Train: 1.4333, 46.54%\n",
            "Test:  1.4307, 46.17%\n"
          ],
          "name": "stdout"
        },
        {
          "output_type": "stream",
          "text": [
            "100%|██████████| 100/100 [00:08<00:00, 12.10it/s]\n",
            "100%|██████████| 100/100 [00:08<00:00, 12.12it/s]\n",
            "  0%|          | 0/100 [00:00<?, ?it/s]"
          ],
          "name": "stderr"
        },
        {
          "output_type": "stream",
          "text": [
            "Epoch: 19/20 (lr=0.1)\n",
            "Train: 1.4299, 47.22%\n",
            "Test:  1.4309, 46.36%\n"
          ],
          "name": "stdout"
        },
        {
          "output_type": "stream",
          "text": [
            "100%|██████████| 100/100 [00:08<00:00, 12.08it/s]\n",
            "100%|██████████| 100/100 [00:08<00:00, 12.11it/s]"
          ],
          "name": "stderr"
        },
        {
          "output_type": "stream",
          "text": [
            "Epoch: 20/20 (lr=0.1)\n",
            "Train: 1.4293, 46.76%\n",
            "Test:  1.4142, 47.24%\n",
            "Best Accuracy: 47.24 - epoch 20\n"
          ],
          "name": "stdout"
        },
        {
          "output_type": "stream",
          "text": [
            "\n"
          ],
          "name": "stderr"
        }
      ]
    },
    {
      "cell_type": "markdown",
      "metadata": {
        "id": "CcxvHznbBJsF"
      },
      "source": [
        "# VGG16 Rotate"
      ]
    },
    {
      "cell_type": "markdown",
      "metadata": {
        "id": "aSv9bou-BJsG"
      },
      "source": [
        "## Self-Supervised"
      ]
    },
    {
      "cell_type": "markdown",
      "metadata": {
        "id": "K157CwO5BJsG"
      },
      "source": [
        "### Config\n",
        "\n",
        "augment_mode = rotate\n",
        "\n",
        "encoder_model = vgg16"
      ]
    },
    {
      "cell_type": "code",
      "metadata": {
        "id": "a1OLPYokBJsG"
      },
      "source": [
        "checkpoint_dir = './drive/MyDrive/ADL/3_3/vgg_checkpoint_rotate/'\n",
        "augment_mode = 'rotate'\n",
        "encoder_model = \"vgg16\"\n",
        "trained_epochs = 0\n",
        "\n",
        "train_size = None\n",
        "fully_supervised = 0 \n",
        "patch_aug = 1\n",
        "\n",
        "batch_size = 32 \n",
        "lr = 2e-4"
      ],
      "execution_count": null,
      "outputs": []
    },
    {
      "cell_type": "markdown",
      "metadata": {
        "id": "RnjKg3JWBJsH"
      },
      "source": [
        "### Model"
      ]
    },
    {
      "cell_type": "code",
      "metadata": {
        "id": "5I7-dADDBJsH"
      },
      "source": [
        "\n",
        "# Define Encoder Network\n",
        "if encoder_model == \"resnet18\":\n",
        "  enc = ResNet18(BasicBlock, [2, 2, 2, 2], use_classifier=False)\n",
        "elif encoder_model == \"vgg16\":\n",
        "  enc = VGG16(use_classifier=False)\n",
        "    \n",
        "# Define Autrogressive Network\n",
        "ar = PixelCNN(in_channels=enc.encoding_size)\n",
        "\n",
        "# Define CPC Network\n",
        "net = CPC(enc, ar, pred_directions, pred_steps, neg_samples)\n",
        "net = net.to('cuda')\n",
        "\n",
        "\n",
        "# Freeze classifier layer - save memory\n",
        "for name, param in net.named_parameters():\n",
        "    if (\"linear\" in name) or ('classifier' in name):\n",
        "        param.requires_grad = False\n",
        "\n",
        "optimizer = optim.Adam(filter(lambda p: p.requires_grad, net.parameters()), lr=lr)\n",
        "\n",
        "if trained_epochs != 0: # Load from checkpoint\n",
        "  load_from_checkpoint()\n",
        "  net.train()"
      ],
      "execution_count": null,
      "outputs": []
    },
    {
      "cell_type": "markdown",
      "metadata": {
        "id": "GuHtYeUhBJsH"
      },
      "source": [
        "### Load data"
      ]
    },
    {
      "cell_type": "code",
      "metadata": {
        "colab": {
          "base_uri": "https://localhost:8080/",
          "height": 818
        },
        "id": "73xeW9fcBJsI",
        "outputId": "9fa13e1f-a54d-42fb-805e-467cf411c884"
      },
      "source": [
        "# Get selected dataset\n",
        "\n",
        "unsupervised_loader, _, _ = get_cifar10_dataloader()\n",
        "\n",
        "# Test it\n",
        "s = iter(unsupervised_loader)\n",
        "x, y = s.next()\n",
        "\n",
        "print(x.size())\n",
        "print(y.size())\n",
        "\n",
        "for i in range(4):\n",
        "  imshow(torchvision.utils.make_grid(x[0, i]))"
      ],
      "execution_count": null,
      "outputs": [
        {
          "output_type": "stream",
          "text": [
            "Training: Compose(\n",
            "    RandomCrop(size=(30, 30), padding=2)\n",
            "    RandomHorizontalFlip(p=0.5)\n",
            "    ToTensor()\n",
            "    PatchifyAugment(grid_size=5, gray=0)\n",
            "    PatchAugNormalize(mean=[0.49139968, 0.48215827, 0.44653124], std=[0.24703233, 0.24348505, 0.26158768])\n",
            ")\n",
            "Testing: Compose(\n",
            "    CenterCrop(size=(30, 30))\n",
            "    ToTensor()\n",
            "    Normalize(mean=[0.49139968, 0.48215827, 0.44653124], std=[0.24703233, 0.24348505, 0.26158768])\n",
            "    Patchify(grid_size=5)\n",
            ")\n",
            "Files already downloaded and verified\n",
            "Files already downloaded and verified\n"
          ],
          "name": "stdout"
        },
        {
          "output_type": "stream",
          "text": [
            "Clipping input data to the valid range for imshow with RGB data ([0..1] for floats or [0..255] for integers).\n"
          ],
          "name": "stderr"
        },
        {
          "output_type": "stream",
          "text": [
            "torch.Size([32, 5, 5, 3, 10, 10])\n",
            "torch.Size([32])\n"
          ],
          "name": "stdout"
        },
        {
          "output_type": "display_data",
          "data": {
            "image/png": "[encoded data removed]",
            "text/plain": [
              "<Figure size 432x288 with 1 Axes>"
            ]
          },
          "metadata": {
            "tags": [],
            "needs_background": "light"
          }
        },
        {
          "output_type": "stream",
          "text": [
            "Clipping input data to the valid range for imshow with RGB data ([0..1] for floats or [0..255] for integers).\n"
          ],
          "name": "stderr"
        },
        {
          "output_type": "display_data",
          "data": {
            "image/png": "[encoded data removed]",
            "text/plain": [
              "<Figure size 432x288 with 1 Axes>"
            ]
          },
          "metadata": {
            "tags": [],
            "needs_background": "light"
          }
        },
        {
          "output_type": "stream",
          "text": [
            "Clipping input data to the valid range for imshow with RGB data ([0..1] for floats or [0..255] for integers).\n"
          ],
          "name": "stderr"
        },
        {
          "output_type": "display_data",
          "data": {
            "image/png": "[encoded data removed]",
            "text/plain": [
              "<Figure size 432x288 with 1 Axes>"
            ]
          },
          "metadata": {
            "tags": [],
            "needs_background": "light"
          }
        },
        {
          "output_type": "stream",
          "text": [
            "Clipping input data to the valid range for imshow with RGB data ([0..1] for floats or [0..255] for integers).\n"
          ],
          "name": "stderr"
        },
        {
          "output_type": "display_data",
          "data": {
            "image/png": "[encoded data removed]",
            "text/plain": [
              "<Figure size 432x288 with 1 Axes>"
            ]
          },
          "metadata": {
            "tags": [],
            "needs_background": "light"
          }
        }
      ]
    },
    {
      "cell_type": "markdown",
      "metadata": {
        "id": "mBWc1rGWBJsI"
      },
      "source": [
        "### Train\n",
        "\n",
        "Epoch 15/20, Epoch Loss: 0.9239"
      ]
    },
    {
      "cell_type": "code",
      "metadata": {
        "colab": {
          "base_uri": "https://localhost:8080/"
        },
        "id": "HshAua1eBJsJ",
        "outputId": "3d1c3e53-b056-4983-f545-45afdc8dae8e"
      },
      "source": [
        "# Train the network\n",
        "print(f\"Encoder: {encoder_model}, Crop: {crop}, Grid Size: {grid_size}, Norm: {norm}, Pred Directions: {pred_directions}, Patch Aug: {patch_aug}\")\n",
        "\n",
        "train()"
      ],
      "execution_count": null,
      "outputs": [
        {
          "output_type": "stream",
          "text": [
            "Encoder: vgg16, Crop: 30-2, Grid Size: 5, Norm: , Pred Directions: 1, Patch Aug: 1\n",
            "Epoch 1/20, Iteration 1/1563, Loss: 2.8332, Time(s): 0.25\n",
            "Epoch 1/20, Iteration 156/1563, Loss: 2.3602, Time(s): 23.75\n",
            "Epoch 1/20, Iteration 312/1563, Loss: 2.3222, Time(s): 22.54\n",
            "Epoch 1/20, Iteration 468/1563, Loss: 2.3093, Time(s): 22.07\n",
            "Epoch 1/20, Iteration 624/1563, Loss: 2.0648, Time(s): 21.71\n",
            "Epoch 1/20, Iteration 780/1563, Loss: 2.0609, Time(s): 21.88\n",
            "Epoch 1/20, Iteration 936/1563, Loss: 1.8643, Time(s): 24.01\n",
            "Epoch 1/20, Iteration 1092/1563, Loss: 2.0911, Time(s): 22.16\n",
            "Epoch 1/20, Iteration 1248/1563, Loss: 1.8216, Time(s): 22.15\n",
            "Epoch 1/20, Iteration 1404/1563, Loss: 1.7214, Time(s): 22.09\n",
            "Epoch 1/20, Iteration 1560/1563, Loss: 1.9135, Time(s): 24.81\n",
            "Epoch 1/20, Epoch Loss: 1.8606\n",
            "Saving..\n",
            "Epoch 2/20, Iteration 1/1563, Loss: 1.7839, Time(s): 0.26\n",
            "Epoch 2/20, Iteration 156/1563, Loss: 1.5587, Time(s): 21.95\n",
            "Epoch 2/20, Iteration 312/1563, Loss: 1.6553, Time(s): 23.75\n",
            "Epoch 2/20, Iteration 468/1563, Loss: 1.7444, Time(s): 22.07\n",
            "Epoch 2/20, Iteration 624/1563, Loss: 1.5970, Time(s): 22.03\n",
            "Epoch 2/20, Iteration 780/1563, Loss: 1.4731, Time(s): 22.02\n",
            "Epoch 2/20, Iteration 936/1563, Loss: 1.3677, Time(s): 22.04\n",
            "Epoch 2/20, Iteration 1092/1563, Loss: 1.4439, Time(s): 23.77\n",
            "Epoch 2/20, Iteration 1248/1563, Loss: 1.8695, Time(s): 22.66\n",
            "Epoch 2/20, Iteration 1404/1563, Loss: 1.7500, Time(s): 22.12\n",
            "Epoch 2/20, Iteration 1560/1563, Loss: 1.5613, Time(s): 24.95\n",
            "Epoch 2/20, Epoch Loss: 1.6045\n",
            "Saving..\n",
            "Epoch 3/20, Iteration 1/1563, Loss: 1.4883, Time(s): 0.27\n",
            "Epoch 3/20, Iteration 156/1563, Loss: 1.4595, Time(s): 21.92\n",
            "Epoch 3/20, Iteration 312/1563, Loss: 1.3142, Time(s): 22.10\n",
            "Epoch 3/20, Iteration 468/1563, Loss: 1.5772, Time(s): 26.40\n",
            "Epoch 3/20, Iteration 624/1563, Loss: 1.5106, Time(s): 22.06\n",
            "Epoch 3/20, Iteration 780/1563, Loss: 1.6602, Time(s): 22.06\n",
            "Epoch 3/20, Iteration 936/1563, Loss: 1.4908, Time(s): 22.10\n",
            "Epoch 3/20, Iteration 1092/1563, Loss: 1.4465, Time(s): 22.08\n",
            "Epoch 3/20, Iteration 1248/1563, Loss: 1.5461, Time(s): 22.84\n",
            "Epoch 3/20, Iteration 1404/1563, Loss: 1.5225, Time(s): 23.09\n",
            "Epoch 3/20, Iteration 1560/1563, Loss: 1.2803, Time(s): 24.26\n",
            "Epoch 3/20, Epoch Loss: 1.3996\n",
            "Saving..\n",
            "Epoch 4/20, Iteration 1/1563, Loss: 1.2895, Time(s): 0.26\n",
            "Epoch 4/20, Iteration 156/1563, Loss: 1.2696, Time(s): 21.94\n",
            "Epoch 4/20, Iteration 312/1563, Loss: 1.3736, Time(s): 22.09\n",
            "Epoch 4/20, Iteration 468/1563, Loss: 1.2920, Time(s): 22.06\n",
            "Epoch 4/20, Iteration 624/1563, Loss: 1.4217, Time(s): 23.74\n",
            "Epoch 4/20, Iteration 780/1563, Loss: 1.1204, Time(s): 22.11\n",
            "Epoch 4/20, Iteration 936/1563, Loss: 1.4185, Time(s): 22.28\n",
            "Epoch 4/20, Iteration 1092/1563, Loss: 1.3280, Time(s): 22.14\n",
            "Epoch 4/20, Iteration 1248/1563, Loss: 1.2277, Time(s): 22.06\n",
            "Epoch 4/20, Iteration 1404/1563, Loss: 1.4207, Time(s): 22.31\n",
            "Epoch 4/20, Iteration 1560/1563, Loss: 1.3206, Time(s): 26.07\n",
            "Epoch 4/20, Epoch Loss: 1.2653\n",
            "Saving..\n",
            "Epoch 5/20, Iteration 1/1563, Loss: 1.1376, Time(s): 0.27\n",
            "Epoch 5/20, Iteration 156/1563, Loss: 1.1499, Time(s): 21.95\n",
            "Epoch 5/20, Iteration 312/1563, Loss: 1.1643, Time(s): 22.09\n",
            "Epoch 5/20, Iteration 468/1563, Loss: 1.6353, Time(s): 22.07\n",
            "Epoch 5/20, Iteration 624/1563, Loss: 1.3256, Time(s): 22.02\n",
            "Epoch 5/20, Iteration 780/1563, Loss: 1.4400, Time(s): 23.54\n",
            "Epoch 5/20, Iteration 936/1563, Loss: 1.2737, Time(s): 22.00\n",
            "Epoch 5/20, Iteration 1092/1563, Loss: 1.2130, Time(s): 22.03\n",
            "Epoch 5/20, Iteration 1248/1563, Loss: 1.2206, Time(s): 21.98\n",
            "Epoch 5/20, Iteration 1404/1563, Loss: 1.0922, Time(s): 22.02\n",
            "Epoch 5/20, Iteration 1560/1563, Loss: 1.1833, Time(s): 24.35\n",
            "Epoch 5/20, Epoch Loss: 1.2245\n",
            "Saving..\n",
            "Epoch 6/20, Iteration 1/1563, Loss: 1.1667, Time(s): 0.26\n",
            "Epoch 6/20, Iteration 156/1563, Loss: 1.2727, Time(s): 24.17\n",
            "Epoch 6/20, Iteration 312/1563, Loss: 1.2872, Time(s): 22.02\n",
            "Epoch 6/20, Iteration 468/1563, Loss: 1.0771, Time(s): 22.07\n",
            "Epoch 6/20, Iteration 624/1563, Loss: 1.3110, Time(s): 22.07\n",
            "Epoch 6/20, Iteration 780/1563, Loss: 1.4368, Time(s): 21.97\n",
            "Epoch 6/20, Iteration 936/1563, Loss: 1.1239, Time(s): 21.95\n",
            "Epoch 6/20, Iteration 1092/1563, Loss: 1.0721, Time(s): 23.56\n",
            "Epoch 6/20, Iteration 1248/1563, Loss: 1.2944, Time(s): 22.06\n",
            "Epoch 6/20, Iteration 1404/1563, Loss: 1.1062, Time(s): 22.02\n",
            "Epoch 6/20, Iteration 1560/1563, Loss: 1.1985, Time(s): 24.43\n",
            "Epoch 6/20, Epoch Loss: 1.1828\n",
            "Saving..\n",
            "Epoch 7/20, Iteration 1/1563, Loss: 1.0822, Time(s): 0.30\n",
            "Epoch 7/20, Iteration 156/1563, Loss: 1.1471, Time(s): 21.87\n",
            "Epoch 7/20, Iteration 312/1563, Loss: 1.1249, Time(s): 23.85\n",
            "Epoch 7/20, Iteration 468/1563, Loss: 1.1622, Time(s): 22.44\n",
            "Epoch 7/20, Iteration 624/1563, Loss: 1.1028, Time(s): 21.98\n",
            "Epoch 7/20, Iteration 780/1563, Loss: 1.0175, Time(s): 21.96\n",
            "Epoch 7/20, Iteration 936/1563, Loss: 1.1979, Time(s): 21.98\n",
            "Epoch 7/20, Iteration 1092/1563, Loss: 1.0969, Time(s): 21.97\n",
            "Epoch 7/20, Iteration 1248/1563, Loss: 1.0547, Time(s): 23.69\n",
            "Epoch 7/20, Iteration 1404/1563, Loss: 1.3338, Time(s): 21.97\n",
            "Epoch 7/20, Iteration 1560/1563, Loss: 0.9396, Time(s): 24.32\n",
            "Epoch 7/20, Epoch Loss: 1.1310\n",
            "Saving..\n",
            "Epoch 8/20, Iteration 1/1563, Loss: 1.0164, Time(s): 0.27\n",
            "Epoch 8/20, Iteration 156/1563, Loss: 1.1066, Time(s): 21.88\n",
            "Epoch 8/20, Iteration 312/1563, Loss: 1.2435, Time(s): 22.05\n",
            "Epoch 8/20, Iteration 468/1563, Loss: 0.9785, Time(s): 22.32\n",
            "Epoch 8/20, Iteration 624/1563, Loss: 1.1209, Time(s): 23.18\n",
            "Epoch 8/20, Iteration 780/1563, Loss: 1.0445, Time(s): 22.02\n",
            "Epoch 8/20, Iteration 936/1563, Loss: 1.1978, Time(s): 22.01\n",
            "Epoch 8/20, Iteration 1092/1563, Loss: 0.9780, Time(s): 21.97\n",
            "Epoch 8/20, Iteration 1248/1563, Loss: 1.1476, Time(s): 21.97\n",
            "Epoch 8/20, Iteration 1404/1563, Loss: 1.0504, Time(s): 23.68\n",
            "Epoch 8/20, Iteration 1560/1563, Loss: 1.1082, Time(s): 24.06\n",
            "Epoch 8/20, Epoch Loss: 1.1068\n",
            "Saving..\n",
            "Epoch 9/20, Iteration 1/1563, Loss: 1.2495, Time(s): 0.27\n",
            "Epoch 9/20, Iteration 156/1563, Loss: 1.3507, Time(s): 21.89\n",
            "Epoch 9/20, Iteration 312/1563, Loss: 1.2008, Time(s): 22.07\n",
            "Epoch 9/20, Iteration 468/1563, Loss: 1.2662, Time(s): 22.02\n",
            "Epoch 9/20, Iteration 624/1563, Loss: 1.0782, Time(s): 21.94\n",
            "Epoch 9/20, Iteration 780/1563, Loss: 0.9633, Time(s): 23.78\n",
            "Epoch 9/20, Iteration 936/1563, Loss: 1.0575, Time(s): 22.04\n",
            "Epoch 9/20, Iteration 1092/1563, Loss: 1.0900, Time(s): 21.96\n",
            "Epoch 9/20, Iteration 1248/1563, Loss: 1.0228, Time(s): 21.96\n",
            "Epoch 9/20, Iteration 1404/1563, Loss: 1.2028, Time(s): 21.98\n",
            "Epoch 9/20, Iteration 1560/1563, Loss: 1.1880, Time(s): 25.32\n",
            "Epoch 9/20, Epoch Loss: 1.0604\n",
            "Saving..\n",
            "Epoch 10/20, Iteration 1/1563, Loss: 1.1886, Time(s): 0.26\n",
            "Epoch 10/20, Iteration 156/1563, Loss: 1.0692, Time(s): 21.87\n",
            "Epoch 10/20, Iteration 312/1563, Loss: 1.0586, Time(s): 22.06\n",
            "Epoch 10/20, Iteration 468/1563, Loss: 1.0653, Time(s): 22.04\n",
            "Epoch 10/20, Iteration 624/1563, Loss: 0.9749, Time(s): 21.93\n",
            "Epoch 10/20, Iteration 780/1563, Loss: 1.1778, Time(s): 21.93\n",
            "Epoch 10/20, Iteration 936/1563, Loss: 0.8678, Time(s): 23.62\n",
            "Epoch 10/20, Iteration 1092/1563, Loss: 1.0521, Time(s): 21.99\n",
            "Epoch 10/20, Iteration 1248/1563, Loss: 1.1959, Time(s): 22.03\n",
            "Epoch 10/20, Iteration 1404/1563, Loss: 1.1777, Time(s): 21.96\n",
            "Epoch 10/20, Iteration 1560/1563, Loss: 1.0965, Time(s): 23.85\n",
            "Epoch 10/20, Epoch Loss: 1.0306\n",
            "Saving..\n",
            "Epoch 11/20, Iteration 1/1563, Loss: 0.9280, Time(s): 0.26\n",
            "Epoch 11/20, Iteration 156/1563, Loss: 0.9708, Time(s): 21.83\n",
            "Epoch 11/20, Iteration 312/1563, Loss: 0.8012, Time(s): 23.39\n",
            "Epoch 11/20, Iteration 468/1563, Loss: 1.0995, Time(s): 22.02\n",
            "Epoch 11/20, Iteration 624/1563, Loss: 0.9671, Time(s): 21.98\n",
            "Epoch 11/20, Iteration 780/1563, Loss: 0.9456, Time(s): 21.99\n",
            "Epoch 11/20, Iteration 936/1563, Loss: 0.9898, Time(s): 21.93\n",
            "Epoch 11/20, Iteration 1092/1563, Loss: 0.9429, Time(s): 23.03\n",
            "Epoch 11/20, Iteration 1248/1563, Loss: 0.9630, Time(s): 22.28\n",
            "Epoch 11/20, Iteration 1404/1563, Loss: 0.8451, Time(s): 21.96\n",
            "Epoch 11/20, Iteration 1560/1563, Loss: 0.9994, Time(s): 23.76\n",
            "Epoch 11/20, Epoch Loss: 1.0040\n",
            "Saving..\n",
            "Epoch 12/20, Iteration 1/1563, Loss: 0.8982, Time(s): 0.25\n",
            "Epoch 12/20, Iteration 156/1563, Loss: 1.0704, Time(s): 21.86\n",
            "Epoch 12/20, Iteration 312/1563, Loss: 0.9879, Time(s): 22.01\n",
            "Epoch 12/20, Iteration 468/1563, Loss: 1.1911, Time(s): 23.73\n",
            "Epoch 12/20, Iteration 624/1563, Loss: 0.9471, Time(s): 21.97\n",
            "Epoch 12/20, Iteration 780/1563, Loss: 0.9248, Time(s): 21.98\n",
            "Epoch 12/20, Iteration 936/1563, Loss: 0.8384, Time(s): 21.97\n",
            "Epoch 12/20, Iteration 1092/1563, Loss: 0.8244, Time(s): 21.98\n",
            "Epoch 12/20, Iteration 1248/1563, Loss: 1.2329, Time(s): 21.98\n",
            "Epoch 12/20, Iteration 1404/1563, Loss: 1.0817, Time(s): 23.50\n",
            "Epoch 12/20, Iteration 1560/1563, Loss: 1.2189, Time(s): 23.86\n",
            "Epoch 12/20, Epoch Loss: 0.9820\n",
            "Saving..\n",
            "Epoch 13/20, Iteration 1/1563, Loss: 0.7881, Time(s): 0.26\n",
            "Epoch 13/20, Iteration 156/1563, Loss: 0.9728, Time(s): 21.83\n",
            "Epoch 13/20, Iteration 312/1563, Loss: 0.9984, Time(s): 22.03\n",
            "Epoch 13/20, Iteration 468/1563, Loss: 0.8280, Time(s): 22.00\n",
            "Epoch 13/20, Iteration 624/1563, Loss: 0.8972, Time(s): 23.76\n",
            "Epoch 13/20, Iteration 780/1563, Loss: 1.0878, Time(s): 22.08\n",
            "Epoch 13/20, Iteration 936/1563, Loss: 0.8266, Time(s): 22.20\n",
            "Epoch 13/20, Iteration 1092/1563, Loss: 0.8639, Time(s): 22.10\n",
            "Epoch 13/20, Iteration 1248/1563, Loss: 0.9620, Time(s): 22.00\n",
            "Epoch 13/20, Iteration 1404/1563, Loss: 0.8586, Time(s): 22.03\n",
            "Epoch 13/20, Iteration 1560/1563, Loss: 0.8191, Time(s): 25.82\n",
            "Epoch 13/20, Epoch Loss: 0.9615\n",
            "Saving..\n",
            "Epoch 14/20, Iteration 1/1563, Loss: 0.9756, Time(s): 0.25\n",
            "Epoch 14/20, Iteration 156/1563, Loss: 1.0321, Time(s): 21.84\n",
            "Epoch 14/20, Iteration 312/1563, Loss: 0.8421, Time(s): 22.04\n",
            "Epoch 14/20, Iteration 468/1563, Loss: 1.0339, Time(s): 22.01\n",
            "Epoch 14/20, Iteration 624/1563, Loss: 0.7730, Time(s): 21.96\n",
            "Epoch 14/20, Iteration 780/1563, Loss: 1.1003, Time(s): 23.31\n",
            "Epoch 14/20, Iteration 936/1563, Loss: 0.9232, Time(s): 21.96\n",
            "Epoch 14/20, Iteration 1092/1563, Loss: 1.1097, Time(s): 21.98\n",
            "Epoch 14/20, Iteration 1248/1563, Loss: 0.8618, Time(s): 22.00\n",
            "Epoch 14/20, Iteration 1404/1563, Loss: 1.0264, Time(s): 21.98\n",
            "Epoch 14/20, Iteration 1560/1563, Loss: 0.9847, Time(s): 24.00\n",
            "Epoch 14/20, Epoch Loss: 0.9336\n",
            "Saving..\n",
            "Epoch 15/20, Iteration 1/1563, Loss: 1.2374, Time(s): 0.26\n",
            "Epoch 15/20, Iteration 156/1563, Loss: 0.8632, Time(s): 24.05\n",
            "Epoch 15/20, Iteration 312/1563, Loss: 0.8261, Time(s): 22.04\n",
            "Epoch 15/20, Iteration 468/1563, Loss: 0.8306, Time(s): 21.99\n",
            "Epoch 15/20, Iteration 624/1563, Loss: 0.8362, Time(s): 21.98\n",
            "Epoch 15/20, Iteration 780/1563, Loss: 0.8660, Time(s): 21.92\n",
            "Epoch 15/20, Iteration 936/1563, Loss: 0.8643, Time(s): 23.08\n",
            "Epoch 15/20, Iteration 1092/1563, Loss: 0.8691, Time(s): 22.40\n",
            "Epoch 15/20, Iteration 1248/1563, Loss: 0.7791, Time(s): 21.97\n",
            "Epoch 15/20, Iteration 1404/1563, Loss: 0.9192, Time(s): 21.96\n",
            "Epoch 15/20, Iteration 1560/1563, Loss: 0.7754, Time(s): 24.11\n",
            "Epoch 15/20, Epoch Loss: 0.9239\n",
            "Saving..\n",
            "Epoch 16/20, Iteration 1/1563, Loss: 0.7726, Time(s): 0.29\n",
            "Epoch 16/20, Iteration 156/1563, Loss: 0.7590, Time(s): 21.83\n",
            "Epoch 16/20, Iteration 312/1563, Loss: 0.9562, Time(s): 22.02\n",
            "Epoch 16/20, Iteration 468/1563, Loss: 1.0020, Time(s): 23.59\n",
            "Epoch 16/20, Iteration 624/1563, Loss: 0.7370, Time(s): 21.94\n",
            "Epoch 16/20, Iteration 780/1563, Loss: 0.9490, Time(s): 21.92\n",
            "Epoch 16/20, Iteration 936/1563, Loss: 0.8306, Time(s): 21.93\n",
            "Epoch 16/20, Iteration 1092/1563, Loss: 0.9662, Time(s): 21.93\n",
            "Epoch 16/20, Iteration 1248/1563, Loss: 1.0069, Time(s): 21.96\n",
            "Epoch 16/20, Iteration 1404/1563, Loss: 0.8180, Time(s): 23.65\n",
            "\n",
            "Ending Program on Keyboard Interrupt\n"
          ],
          "name": "stdout"
        }
      ]
    },
    {
      "cell_type": "markdown",
      "metadata": {
        "id": "OneaE7fEBJsK"
      },
      "source": [
        "## Supervised"
      ]
    },
    {
      "cell_type": "markdown",
      "metadata": {
        "id": "-ZCHQujaBJsK"
      },
      "source": [
        "### Config"
      ]
    },
    {
      "cell_type": "code",
      "metadata": {
        "id": "gibJVtsABJsK"
      },
      "source": [
        "checkpoint_dir = './drive/MyDrive/ADL/3_3/vgg_checkpoint_rotate/'\n",
        "encoder_model = 'vgg16'\n",
        "augment_mode = 'rotate'\n",
        "train_size = 10000 \n",
        "batch_size = 100\n",
        "\n",
        "fully_supervised = 0 #WTF is it gonna be man\n",
        "cpc_patch_aug = 1 \n",
        "patch_aug = 0\n",
        "lr = 0.1 \n",
        "lr_gamma = 0.1 #Scheduler"
      ],
      "execution_count": null,
      "outputs": []
    },
    {
      "cell_type": "markdown",
      "metadata": {
        "id": "_HuwQkWTBJsK"
      },
      "source": [
        "### Load data"
      ]
    },
    {
      "cell_type": "code",
      "metadata": {
        "colab": {
          "base_uri": "https://localhost:8080/",
          "height": 1000
        },
        "id": "taR_ZKaLBJsL",
        "outputId": "57c040aa-ab16-4263-e5df-03c4ee0c9614"
      },
      "source": [
        "_, train_loader, test_loader = get_cifar10_dataloader()\n",
        "\n",
        "# Test it\n",
        "\n",
        "s = iter(train_loader)\n",
        "\n",
        "x, y = s.next()\n",
        "print(x.size())\n",
        "print(y.size())\n",
        "for i in range(4):\n",
        "  imshow(torchvision.utils.make_grid(x[0, i]))\n",
        "\n",
        "# Test it\n",
        "s = iter(test_loader)\n",
        "x, y = s.next()\n",
        "print(x.size())\n",
        "print(y.size())\n",
        "for i in range(4):\n",
        "  imshow(torchvision.utils.make_grid(x[0, i]))\n"
      ],
      "execution_count": null,
      "outputs": [
        {
          "output_type": "stream",
          "text": [
            "Training: Compose(\n",
            "    RandomCrop(size=(30, 30), padding=2)\n",
            "    RandomHorizontalFlip(p=0.5)\n",
            "    ToTensor()\n",
            "    Normalize(mean=[0.49139968, 0.48215827, 0.44653124], std=[0.24703233, 0.24348505, 0.26158768])\n",
            "    Patchify(grid_size=5)\n",
            ")\n",
            "Testing: Compose(\n",
            "    CenterCrop(size=(30, 30))\n",
            "    ToTensor()\n",
            "    Normalize(mean=[0.49139968, 0.48215827, 0.44653124], std=[0.24703233, 0.24348505, 0.26158768])\n",
            "    Patchify(grid_size=5)\n",
            ")\n",
            "Files already downloaded and verified\n",
            "Files already downloaded and verified\n"
          ],
          "name": "stdout"
        },
        {
          "output_type": "stream",
          "text": [
            "Clipping input data to the valid range for imshow with RGB data ([0..1] for floats or [0..255] for integers).\n"
          ],
          "name": "stderr"
        },
        {
          "output_type": "stream",
          "text": [
            "torch.Size([100, 5, 5, 3, 10, 10])\n",
            "torch.Size([100])\n"
          ],
          "name": "stdout"
        },
        {
          "output_type": "display_data",
          "data": {
            "image/png": "[encoded data removed]",
            "text/plain": [
              "<Figure size 432x288 with 1 Axes>"
            ]
          },
          "metadata": {
            "tags": [],
            "needs_background": "light"
          }
        },
        {
          "output_type": "stream",
          "text": [
            "Clipping input data to the valid range for imshow with RGB data ([0..1] for floats or [0..255] for integers).\n"
          ],
          "name": "stderr"
        },
        {
          "output_type": "display_data",
          "data": {
            "image/png": "[encoded data removed]",
            "text/plain": [
              "<Figure size 432x288 with 1 Axes>"
            ]
          },
          "metadata": {
            "tags": [],
            "needs_background": "light"
          }
        },
        {
          "output_type": "stream",
          "text": [
            "Clipping input data to the valid range for imshow with RGB data ([0..1] for floats or [0..255] for integers).\n"
          ],
          "name": "stderr"
        },
        {
          "output_type": "display_data",
          "data": {
            "image/png": "[encoded data removed]",
            "text/plain": [
              "<Figure size 432x288 with 1 Axes>"
            ]
          },
          "metadata": {
            "tags": [],
            "needs_background": "light"
          }
        },
        {
          "output_type": "stream",
          "text": [
            "Clipping input data to the valid range for imshow with RGB data ([0..1] for floats or [0..255] for integers).\n"
          ],
          "name": "stderr"
        },
        {
          "output_type": "display_data",
          "data": {
            "image/png": "[encoded data removed]",
            "text/plain": [
              "<Figure size 432x288 with 1 Axes>"
            ]
          },
          "metadata": {
            "tags": [],
            "needs_background": "light"
          }
        },
        {
          "output_type": "stream",
          "text": [
            "Clipping input data to the valid range for imshow with RGB data ([0..1] for floats or [0..255] for integers).\n"
          ],
          "name": "stderr"
        },
        {
          "output_type": "stream",
          "text": [
            "torch.Size([100, 5, 5, 3, 10, 10])\n",
            "torch.Size([100])\n"
          ],
          "name": "stdout"
        },
        {
          "output_type": "display_data",
          "data": {
            "image/png": "[encoded data removed]",
            "text/plain": [
              "<Figure size 432x288 with 1 Axes>"
            ]
          },
          "metadata": {
            "tags": [],
            "needs_background": "light"
          }
        },
        {
          "output_type": "stream",
          "text": [
            "Clipping input data to the valid range for imshow with RGB data ([0..1] for floats or [0..255] for integers).\n"
          ],
          "name": "stderr"
        },
        {
          "output_type": "display_data",
          "data": {
            "image/png": "[encoded data removed]",
            "text/plain": [
              "<Figure size 432x288 with 1 Axes>"
            ]
          },
          "metadata": {
            "tags": [],
            "needs_background": "light"
          }
        },
        {
          "output_type": "stream",
          "text": [
            "Clipping input data to the valid range for imshow with RGB data ([0..1] for floats or [0..255] for integers).\n"
          ],
          "name": "stderr"
        },
        {
          "output_type": "display_data",
          "data": {
            "image/png": "[encoded data removed]",
            "text/plain": [
              "<Figure size 432x288 with 1 Axes>"
            ]
          },
          "metadata": {
            "tags": [],
            "needs_background": "light"
          }
        },
        {
          "output_type": "stream",
          "text": [
            "Clipping input data to the valid range for imshow with RGB data ([0..1] for floats or [0..255] for integers).\n"
          ],
          "name": "stderr"
        },
        {
          "output_type": "display_data",
          "data": {
            "image/png": "[encoded data removed]",
            "text/plain": [
              "<Figure size 432x288 with 1 Axes>"
            ]
          },
          "metadata": {
            "tags": [],
            "needs_background": "light"
          }
        }
      ]
    },
    {
      "cell_type": "markdown",
      "metadata": {
        "id": "PDKytfVCBJsL"
      },
      "source": [
        "### Train\n",
        "\n",
        "Best Accuracy: 44.93 - epoch 15\n",
        "\n",
        "Ok. I saw it coming"
      ]
    },
    {
      "cell_type": "code",
      "metadata": {
        "colab": {
          "base_uri": "https://localhost:8080/"
        },
        "id": "maYw0IVuBJsL",
        "outputId": "bb9f0390-079f-475f-8e69-04a9e69fe232"
      },
      "source": [
        "\n",
        "print(\"Training CPC Classifier\")\n",
        "\n",
        "# Load the CPC trained encoder (with classifier layer activated)\n",
        "if encoder_model == \"resnet18\":\n",
        "    net = ResNet18(BasicBlock, [2, 2, 2, 2], use_classifier=True)\n",
        "elif encoder_model == \"vgg16\":\n",
        "    net = VGG16(use_classifier=True)\n",
        "net = net.to('cuda')\n",
        "\n",
        "# Load from checkpoint\n",
        "print('==> Resuming from checkpoint..')\n",
        "checkpoint = torch.load(checkpoint_dir + 'ckpt.pth')\n",
        "# Remove \"enc\" prefix in model keys()\n",
        "checkpoint['model'] = {k[4:]: v for k, v in checkpoint['model'].items() if 'enc' in k}\n",
        "net.load_state_dict(checkpoint['model'])\n",
        "loss = checkpoint['loss']\n",
        "epoch = checkpoint['epoch'] \n",
        "print('recovered loss and epoch:')\n",
        "print(loss)\n",
        "print(epoch)\n",
        "\n",
        "\n",
        "# Freeze encoder layers\n",
        "for name, param in net.named_parameters():\n",
        "    if (\"classifier\" not in name) and (\"linear\" not in name):\n",
        "        param.requires_grad = False\n",
        "    else:\n",
        "        param.requires_grad = True\n",
        "\n",
        "optimizer = optim.Adam(filter(lambda p: p.requires_grad, net.parameters()), lr=lr)\n",
        "\n",
        "\n",
        "# define scheduler based on argument inputs\n",
        "scheduler = optim.lr_scheduler.ReduceLROnPlateau(optimizer, factor=lr_gamma)\n",
        "\n",
        "loss_function = nn.CrossEntropyLoss()\n",
        "\n",
        "try:\n",
        "    train_classifier()\n",
        "except KeyboardInterrupt:\n",
        "    print(\"\\nEnding Program on Keyboard Interrupt\")\n"
      ],
      "execution_count": null,
      "outputs": [
        {
          "output_type": "stream",
          "text": [
            "Training CPC Classifier\n",
            "==> Resuming from checkpoint..\n"
          ],
          "name": "stdout"
        },
        {
          "output_type": "stream",
          "text": [
            "\r  0%|          | 0/100 [00:00<?, ?it/s]"
          ],
          "name": "stderr"
        },
        {
          "output_type": "stream",
          "text": [
            "recovered loss and epoch:\n",
            "0.923943545955878\n",
            "15\n"
          ],
          "name": "stdout"
        },
        {
          "output_type": "stream",
          "text": [
            "100%|██████████| 100/100 [00:08<00:00, 12.01it/s]\n",
            "100%|██████████| 100/100 [00:08<00:00, 12.16it/s]\n",
            "  0%|          | 0/100 [00:00<?, ?it/s]"
          ],
          "name": "stderr"
        },
        {
          "output_type": "stream",
          "text": [
            "Epoch: 1/20 (lr=0.1)\n",
            "Train: 1.8244, 32.45%\n",
            "Test:  1.6949, 38.13%\n"
          ],
          "name": "stdout"
        },
        {
          "output_type": "stream",
          "text": [
            "100%|██████████| 100/100 [00:08<00:00, 12.08it/s]\n",
            "100%|██████████| 100/100 [00:08<00:00, 12.05it/s]\n",
            "  0%|          | 0/100 [00:00<?, ?it/s]"
          ],
          "name": "stderr"
        },
        {
          "output_type": "stream",
          "text": [
            "Epoch: 2/20 (lr=0.1)\n",
            "Train: 1.6766, 39.03%\n",
            "Test:  1.6340, 40.12%\n"
          ],
          "name": "stdout"
        },
        {
          "output_type": "stream",
          "text": [
            "100%|██████████| 100/100 [00:08<00:00, 12.05it/s]\n",
            "100%|██████████| 100/100 [00:08<00:00, 12.15it/s]\n",
            "  0%|          | 0/100 [00:00<?, ?it/s]"
          ],
          "name": "stderr"
        },
        {
          "output_type": "stream",
          "text": [
            "Epoch: 3/20 (lr=0.1)\n",
            "Train: 1.6230, 40.24%\n",
            "Test:  1.6125, 40.59%\n"
          ],
          "name": "stdout"
        },
        {
          "output_type": "stream",
          "text": [
            "100%|██████████| 100/100 [00:08<00:00, 12.08it/s]\n",
            "100%|██████████| 100/100 [00:08<00:00, 12.16it/s]\n",
            "  0%|          | 0/100 [00:00<?, ?it/s]"
          ],
          "name": "stderr"
        },
        {
          "output_type": "stream",
          "text": [
            "Epoch: 4/20 (lr=0.1)\n",
            "Train: 1.6036, 41.16%\n",
            "Test:  1.6138, 41.40%\n"
          ],
          "name": "stdout"
        },
        {
          "output_type": "stream",
          "text": [
            "100%|██████████| 100/100 [00:08<00:00, 11.87it/s]\n",
            "100%|██████████| 100/100 [00:08<00:00, 12.29it/s]\n",
            "  0%|          | 0/100 [00:00<?, ?it/s]"
          ],
          "name": "stderr"
        },
        {
          "output_type": "stream",
          "text": [
            "Epoch: 5/20 (lr=0.1)\n",
            "Train: 1.5841, 41.74%\n",
            "Test:  1.5873, 42.20%\n"
          ],
          "name": "stdout"
        },
        {
          "output_type": "stream",
          "text": [
            "100%|██████████| 100/100 [00:08<00:00, 12.12it/s]\n",
            "100%|██████████| 100/100 [00:08<00:00, 12.25it/s]\n",
            "  0%|          | 0/100 [00:00<?, ?it/s]"
          ],
          "name": "stderr"
        },
        {
          "output_type": "stream",
          "text": [
            "Epoch: 6/20 (lr=0.1)\n",
            "Train: 1.5705, 41.88%\n",
            "Test:  1.5717, 43.12%\n"
          ],
          "name": "stdout"
        },
        {
          "output_type": "stream",
          "text": [
            "100%|██████████| 100/100 [00:08<00:00, 12.13it/s]\n",
            "100%|██████████| 100/100 [00:08<00:00, 12.16it/s]\n",
            "  0%|          | 0/100 [00:00<?, ?it/s]"
          ],
          "name": "stderr"
        },
        {
          "output_type": "stream",
          "text": [
            "Epoch: 7/20 (lr=0.1)\n",
            "Train: 1.5607, 42.73%\n",
            "Test:  1.5539, 43.00%\n"
          ],
          "name": "stdout"
        },
        {
          "output_type": "stream",
          "text": [
            "100%|██████████| 100/100 [00:08<00:00, 12.10it/s]\n",
            "100%|██████████| 100/100 [00:08<00:00, 12.15it/s]\n",
            "  0%|          | 0/100 [00:00<?, ?it/s]"
          ],
          "name": "stderr"
        },
        {
          "output_type": "stream",
          "text": [
            "Epoch: 8/20 (lr=0.1)\n",
            "Train: 1.5455, 43.56%\n",
            "Test:  1.5625, 42.80%\n"
          ],
          "name": "stdout"
        },
        {
          "output_type": "stream",
          "text": [
            "100%|██████████| 100/100 [00:08<00:00, 12.12it/s]\n",
            "100%|██████████| 100/100 [00:08<00:00, 12.13it/s]\n",
            "  0%|          | 0/100 [00:00<?, ?it/s]"
          ],
          "name": "stderr"
        },
        {
          "output_type": "stream",
          "text": [
            "Epoch: 9/20 (lr=0.1)\n",
            "Train: 1.5434, 43.30%\n",
            "Test:  1.5445, 43.73%\n"
          ],
          "name": "stdout"
        },
        {
          "output_type": "stream",
          "text": [
            "100%|██████████| 100/100 [00:08<00:00, 12.11it/s]\n",
            "100%|██████████| 100/100 [00:08<00:00, 12.16it/s]\n",
            "  0%|          | 0/100 [00:00<?, ?it/s]"
          ],
          "name": "stderr"
        },
        {
          "output_type": "stream",
          "text": [
            "Epoch: 10/20 (lr=0.1)\n",
            "Train: 1.5331, 43.78%\n",
            "Test:  1.5571, 43.19%\n"
          ],
          "name": "stdout"
        },
        {
          "output_type": "stream",
          "text": [
            "100%|██████████| 100/100 [00:08<00:00, 12.12it/s]\n",
            "100%|██████████| 100/100 [00:08<00:00, 12.16it/s]\n",
            "  0%|          | 0/100 [00:00<?, ?it/s]"
          ],
          "name": "stderr"
        },
        {
          "output_type": "stream",
          "text": [
            "Epoch: 11/20 (lr=0.1)\n",
            "Train: 1.5335, 43.50%\n",
            "Test:  1.5398, 43.69%\n"
          ],
          "name": "stdout"
        },
        {
          "output_type": "stream",
          "text": [
            "100%|██████████| 100/100 [00:08<00:00, 12.10it/s]\n",
            "100%|██████████| 100/100 [00:08<00:00, 12.16it/s]\n",
            "  0%|          | 0/100 [00:00<?, ?it/s]"
          ],
          "name": "stderr"
        },
        {
          "output_type": "stream",
          "text": [
            "Epoch: 12/20 (lr=0.1)\n",
            "Train: 1.5206, 44.85%\n",
            "Test:  1.5498, 43.13%\n"
          ],
          "name": "stdout"
        },
        {
          "output_type": "stream",
          "text": [
            "100%|██████████| 100/100 [00:08<00:00, 12.01it/s]\n",
            "100%|██████████| 100/100 [00:08<00:00, 12.17it/s]\n",
            "  0%|          | 0/100 [00:00<?, ?it/s]"
          ],
          "name": "stderr"
        },
        {
          "output_type": "stream",
          "text": [
            "Epoch: 13/20 (lr=0.1)\n",
            "Train: 1.5173, 44.69%\n",
            "Test:  1.5492, 43.20%\n"
          ],
          "name": "stdout"
        },
        {
          "output_type": "stream",
          "text": [
            "100%|██████████| 100/100 [00:08<00:00, 11.98it/s]\n",
            "100%|██████████| 100/100 [00:08<00:00, 12.17it/s]\n",
            "  0%|          | 0/100 [00:00<?, ?it/s]"
          ],
          "name": "stderr"
        },
        {
          "output_type": "stream",
          "text": [
            "Epoch: 14/20 (lr=0.1)\n",
            "Train: 1.5042, 45.65%\n",
            "Test:  1.5411, 43.88%\n"
          ],
          "name": "stdout"
        },
        {
          "output_type": "stream",
          "text": [
            "100%|██████████| 100/100 [00:08<00:00, 12.14it/s]\n",
            "100%|██████████| 100/100 [00:08<00:00, 12.16it/s]\n",
            "  0%|          | 0/100 [00:00<?, ?it/s]"
          ],
          "name": "stderr"
        },
        {
          "output_type": "stream",
          "text": [
            "Epoch: 15/20 (lr=0.1)\n",
            "Train: 1.5027, 45.00%\n",
            "Test:  1.5176, 44.93%\n"
          ],
          "name": "stdout"
        },
        {
          "output_type": "stream",
          "text": [
            "100%|██████████| 100/100 [00:08<00:00, 12.10it/s]\n",
            "100%|██████████| 100/100 [00:08<00:00, 12.14it/s]\n",
            "  0%|          | 0/100 [00:00<?, ?it/s]"
          ],
          "name": "stderr"
        },
        {
          "output_type": "stream",
          "text": [
            "Epoch: 16/20 (lr=0.1)\n",
            "Train: 1.5051, 44.90%\n",
            "Test:  1.5455, 43.76%\n"
          ],
          "name": "stdout"
        },
        {
          "output_type": "stream",
          "text": [
            "100%|██████████| 100/100 [00:08<00:00, 12.09it/s]\n",
            "100%|██████████| 100/100 [00:08<00:00, 12.16it/s]\n",
            "  0%|          | 0/100 [00:00<?, ?it/s]"
          ],
          "name": "stderr"
        },
        {
          "output_type": "stream",
          "text": [
            "Epoch: 17/20 (lr=0.1)\n",
            "Train: 1.4967, 45.61%\n",
            "Test:  1.5173, 44.47%\n"
          ],
          "name": "stdout"
        },
        {
          "output_type": "stream",
          "text": [
            "100%|██████████| 100/100 [00:08<00:00, 12.13it/s]\n",
            "100%|██████████| 100/100 [00:08<00:00, 12.15it/s]\n",
            "  0%|          | 0/100 [00:00<?, ?it/s]"
          ],
          "name": "stderr"
        },
        {
          "output_type": "stream",
          "text": [
            "Epoch: 18/20 (lr=0.1)\n",
            "Train: 1.4999, 45.39%\n",
            "Test:  1.5557, 43.31%\n"
          ],
          "name": "stdout"
        },
        {
          "output_type": "stream",
          "text": [
            "100%|██████████| 100/100 [00:08<00:00, 12.13it/s]\n",
            "100%|██████████| 100/100 [00:08<00:00, 12.16it/s]\n",
            "  0%|          | 0/100 [00:00<?, ?it/s]"
          ],
          "name": "stderr"
        },
        {
          "output_type": "stream",
          "text": [
            "Epoch: 19/20 (lr=0.1)\n",
            "Train: 1.4995, 45.07%\n",
            "Test:  1.5368, 43.64%\n"
          ],
          "name": "stdout"
        },
        {
          "output_type": "stream",
          "text": [
            "100%|██████████| 100/100 [00:08<00:00, 12.07it/s]\n",
            "100%|██████████| 100/100 [00:08<00:00, 12.08it/s]"
          ],
          "name": "stderr"
        },
        {
          "output_type": "stream",
          "text": [
            "Epoch: 20/20 (lr=0.1)\n",
            "Train: 1.4947, 45.51%\n",
            "Test:  1.5332, 44.15%\n",
            "Best Accuracy: 44.93 - epoch 15\n"
          ],
          "name": "stdout"
        },
        {
          "output_type": "stream",
          "text": [
            "\n"
          ],
          "name": "stderr"
        }
      ]
    }
  ]
}